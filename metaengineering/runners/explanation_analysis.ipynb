{
 "cells": [
  {
   "cell_type": "code",
   "execution_count": 3,
   "metadata": {},
   "outputs": [
    {
     "name": "stdout",
     "output_type": "stream",
     "text": [
      "/home/tijmen/tudelft/thesis/metaengineering\n"
     ]
    }
   ],
   "source": [
    "cd /home/tijmen/tudelft/thesis/metaengineering"
   ]
  },
  {
   "cell_type": "code",
   "execution_count": 37,
   "metadata": {},
   "outputs": [],
   "source": [
    "import pickle\n",
    "import glob\n",
    "import itertools\n",
    "from typing import List, Callable\n",
    "\n",
    "import pandas as pd\n",
    "import numpy as np\n",
    "\n",
    "import matplotlib.pyplot as plt\n",
    "import seaborn as sns\n",
    "\n",
    "from src.settings.tier import Tier\n",
    "from src.settings.strategy import Strategy"
   ]
  },
  {
   "cell_type": "code",
   "execution_count": 14,
   "metadata": {},
   "outputs": [
    {
     "data": {
      "text/plain": [
       "100"
      ]
     },
     "execution_count": 14,
     "metadata": {},
     "output_type": "execute_result"
    }
   ],
   "source": [
    "def get_lime_df(tier: Tier, strategy: Strategy):\n",
    "    paths = get_explanation_paths(\"lime\", tier, strategy)\n",
    "    df = pd.concat([pd.read_json(path) for path in paths])\n",
    "    return df\n",
    "\n",
    "def get_explanation_paths(type: str, tier: Tier, strategy: Strategy):\n",
    "    explanation_path = f\"/home/tijmen/tudelft/thesis/metaengineering/explanation/{tier}/{type}\"\n",
    "    paths = glob.glob(f\"{explanation_path}/{strategy}_*\")\n",
    "    return paths\n",
    "    \n",
    "    \n",
    "df = get_lime_df(tier=Tier.TIER0, strategy=Strategy.METABOLITE_CENTRIC)\n",
    "df.iloc[0]['exp_enzymes']"
   ]
  },
  {
   "cell_type": "code",
   "execution_count": 95,
   "metadata": {},
   "outputs": [],
   "source": [
    "def count_overlap(enzymes_one: List, enzymes_two: List):\n",
    "    return len(set(enzymes_one[:10]) & set(enzymes_two[:10])) / len(enzymes_one[:10])\n",
    "\n",
    "def kendalltau(enzymes_one: List, enzymes_two: List):\n",
    "    from scipy.stats import kendalltau\n",
    "    return kendalltau(enzymes_one, enzymes_two)[0]\n",
    "\n",
    "def rank_correlation_metabolite_id(df: pd.DataFrame, metabolite_id: str, agg_func):\n",
    "    _df = df[df['metabolite_id'] == metabolite_id].set_index('KO_ORF')\n",
    "    return rank_correlation(_df, agg_func)\n",
    "\n",
    "def rank_correlation_knockout(df: pd.DataFrame, knockout_id: str, agg_func):\n",
    "    _df = df[df['KO_ORF'] == knockout_id].set_index('metabolite_id')\n",
    "    return rank_correlation(_df, agg_func)\n",
    "\n",
    "def rank_correlation_all(df: pd.DataFrame, agg_func: Callable):\n",
    "    _df = df.reset_index()\n",
    "    return rank_correlation(_df, agg_func)\n",
    "\n",
    "def rank_correlation(_df: pd.DataFrame, agg_func: Callable):\n",
    "    unique_knockouts = _df.index.to_list()\n",
    "    knockout_combinations = list(itertools.combinations(unique_knockouts, r=2))\n",
    "    \n",
    "    n = len(unique_knockouts)\n",
    "    r = np.ones((n, n))\n",
    "    triu = np.triu_indices(n, 1)\n",
    "    tril = np.tril_indices(n, -1)\n",
    "    \n",
    "    key = 'exp_enzymes'\n",
    "    kendalltau_correllation = [agg_func(_df.loc[left_knockout][key], _df.loc[right_knockout][key]) for (left_knockout, right_knockout) in knockout_combinations]\n",
    "    \n",
    "    r[triu] = kendalltau_correllation\n",
    "    r[tril] = r.T[tril]\n",
    "    \n",
    "    return r, unique_knockouts\n",
    "\n"
   ]
  },
  {
   "cell_type": "code",
   "execution_count": 101,
   "metadata": {},
   "outputs": [
    {
     "data": {
      "text/plain": [
       "array(['f6p', 'g6p;f6p;g6p-B', 'oaa', 'r5p', 'akg', 'dhap', 'g6p;g6p-B',\n",
       "       '3pg;2pg', 'accoa', 'pep', 'pyr'], dtype=object)"
      ]
     },
     "execution_count": 101,
     "metadata": {},
     "output_type": "execute_result"
    }
   ],
   "source": [
    "unique_metabolite_ids = df['metabolite_id'].unique()\n",
    "unique_metabolite_id"
   ]
  },
  {
   "cell_type": "code",
   "execution_count": 102,
   "metadata": {},
   "outputs": [],
   "source": [
    "# correlation_matrix, knockouts = rank_correlation_knockout(df, 'YCL024W', count_overlap)\n",
    "for unique_metabolite_id in unique_metabolite_ids:\n",
    "    correlation_matrix, knockouts = rank_correlation_metabolite_id(df, unique_metabolite_id, count_overlap)\n",
    "    fig, ax = plt.subplots(figsize=(15,15))\n",
    "    sns.heatmap(\n",
    "        correlation_matrix, \n",
    "        square=True, \n",
    "        annot=True,\n",
    "        fmt=\".2f\",\n",
    "        vmin=0,\n",
    "        vmax=1,\n",
    "        ax=ax,\n",
    "        xticklabels=knockouts,\n",
    "        yticklabels=knockouts,\n",
    "        cmap=\"Blues\",\n",
    "    )\n",
    "    plt.savefig(f\"./{unique_metabolite_id}.png\")\n",
    "# plt.tight_layout()\n",
    "# plt.savefig('colorlist.png')"
   ]
  },
  {
   "cell_type": "code",
   "execution_count": 41,
   "metadata": {},
   "outputs": [
    {
     "data": {
      "text/html": [
       "<div>\n",
       "<style scoped>\n",
       "    .dataframe tbody tr th:only-of-type {\n",
       "        vertical-align: middle;\n",
       "    }\n",
       "\n",
       "    .dataframe tbody tr th {\n",
       "        vertical-align: top;\n",
       "    }\n",
       "\n",
       "    .dataframe thead th {\n",
       "        text-align: right;\n",
       "    }\n",
       "</style>\n",
       "<table border=\"1\" class=\"dataframe\">\n",
       "  <thead>\n",
       "    <tr style=\"text-align: right;\">\n",
       "      <th></th>\n",
       "      <th>KO_ORF</th>\n",
       "      <th>metabolite_id</th>\n",
       "      <th>exp_enzymes</th>\n",
       "      <th>exp_weights</th>\n",
       "      <th>y_true</th>\n",
       "      <th>y_pred</th>\n",
       "    </tr>\n",
       "  </thead>\n",
       "  <tbody>\n",
       "    <tr>\n",
       "      <th>0</th>\n",
       "      <td>YKL025C</td>\n",
       "      <td>f6p</td>\n",
       "      <td>[YLR438W, YGR175C, YER012W, YJL171C, YLR292C, ...</td>\n",
       "      <td>[0.0487194246, -0.0471058634, -0.0440300781, -...</td>\n",
       "      <td>0.242197</td>\n",
       "      <td>0.511720</td>\n",
       "    </tr>\n",
       "    <tr>\n",
       "      <th>1</th>\n",
       "      <td>YHR030C</td>\n",
       "      <td>f6p</td>\n",
       "      <td>[YLR438W, YGR175C, YJL171C, YHR018C, YLR292C, ...</td>\n",
       "      <td>[0.0487494167, -0.0452278263, -0.0373108471, -...</td>\n",
       "      <td>0.323880</td>\n",
       "      <td>0.689692</td>\n",
       "    </tr>\n",
       "    <tr>\n",
       "      <th>2</th>\n",
       "      <td>YKL116C</td>\n",
       "      <td>f6p</td>\n",
       "      <td>[YLR438W, YLR292C, YJL171C, YMR149W, YKR080W, ...</td>\n",
       "      <td>[0.048977535, 0.0310797433, -0.0308272692, 0.0...</td>\n",
       "      <td>0.558721</td>\n",
       "      <td>0.657218</td>\n",
       "    </tr>\n",
       "    <tr>\n",
       "      <th>3</th>\n",
       "      <td>YPL042C</td>\n",
       "      <td>f6p</td>\n",
       "      <td>[YGR175C, YLR438W, YLR292C, YDR019C, YMR149W, ...</td>\n",
       "      <td>[-0.0468407828, 0.0457738669, 0.0334450421, 0....</td>\n",
       "      <td>0.886366</td>\n",
       "      <td>1.118056</td>\n",
       "    </tr>\n",
       "    <tr>\n",
       "      <th>4</th>\n",
       "      <td>YLR113W</td>\n",
       "      <td>f6p</td>\n",
       "      <td>[YLR438W, YGR175C, YJL171C, YDR019C, YLR292C, ...</td>\n",
       "      <td>[0.0476184001, -0.0467505177, -0.0328013924000...</td>\n",
       "      <td>0.183384</td>\n",
       "      <td>0.884277</td>\n",
       "    </tr>\n",
       "    <tr>\n",
       "      <th>...</th>\n",
       "      <td>...</td>\n",
       "      <td>...</td>\n",
       "      <td>...</td>\n",
       "      <td>...</td>\n",
       "      <td>...</td>\n",
       "      <td>...</td>\n",
       "    </tr>\n",
       "    <tr>\n",
       "      <th>24</th>\n",
       "      <td>YLR113W</td>\n",
       "      <td>pyr</td>\n",
       "      <td>[YDR346C, YFR010W, YML008C, YLR438W, YHR018C, ...</td>\n",
       "      <td>[0.0373726516, 0.0364312568, -0.036023485, 0.0...</td>\n",
       "      <td>0.519725</td>\n",
       "      <td>0.644183</td>\n",
       "    </tr>\n",
       "    <tr>\n",
       "      <th>25</th>\n",
       "      <td>YPL150W</td>\n",
       "      <td>pyr</td>\n",
       "      <td>[YML008C, YLR438W, YFR010W, YDR346C, YHR018C, ...</td>\n",
       "      <td>[-0.0376767202, 0.0363487295, 0.035523552, 0.0...</td>\n",
       "      <td>0.200217</td>\n",
       "      <td>0.482445</td>\n",
       "    </tr>\n",
       "    <tr>\n",
       "      <th>26</th>\n",
       "      <td>YKL166C</td>\n",
       "      <td>pyr</td>\n",
       "      <td>[YDR346C, YFR010W, YLR438W, YDR127W, YBR035C, ...</td>\n",
       "      <td>[0.0368083202, 0.036412008100000004, 0.0350467...</td>\n",
       "      <td>0.789834</td>\n",
       "      <td>0.787902</td>\n",
       "    </tr>\n",
       "    <tr>\n",
       "      <th>27</th>\n",
       "      <td>YIL042C</td>\n",
       "      <td>pyr</td>\n",
       "      <td>[YML008C, YLR438W, YDR346C, YDR533C, YHR018C, ...</td>\n",
       "      <td>[-0.037705173700000004, 0.0367095563, 0.036529...</td>\n",
       "      <td>-0.258500</td>\n",
       "      <td>-0.634178</td>\n",
       "    </tr>\n",
       "    <tr>\n",
       "      <th>28</th>\n",
       "      <td>YGL158W</td>\n",
       "      <td>pyr</td>\n",
       "      <td>[YDR346C, YML008C, YLR438W, YFR010W, YHR018C, ...</td>\n",
       "      <td>[0.0394790721, -0.0377332781, 0.0362251347, 0....</td>\n",
       "      <td>0.674701</td>\n",
       "      <td>0.880800</td>\n",
       "    </tr>\n",
       "  </tbody>\n",
       "</table>\n",
       "<p>227 rows × 6 columns</p>\n",
       "</div>"
      ],
      "text/plain": [
       "     KO_ORF metabolite_id                                        exp_enzymes  \\\n",
       "0   YKL025C           f6p  [YLR438W, YGR175C, YER012W, YJL171C, YLR292C, ...   \n",
       "1   YHR030C           f6p  [YLR438W, YGR175C, YJL171C, YHR018C, YLR292C, ...   \n",
       "2   YKL116C           f6p  [YLR438W, YLR292C, YJL171C, YMR149W, YKR080W, ...   \n",
       "3   YPL042C           f6p  [YGR175C, YLR438W, YLR292C, YDR019C, YMR149W, ...   \n",
       "4   YLR113W           f6p  [YLR438W, YGR175C, YJL171C, YDR019C, YLR292C, ...   \n",
       "..      ...           ...                                                ...   \n",
       "24  YLR113W           pyr  [YDR346C, YFR010W, YML008C, YLR438W, YHR018C, ...   \n",
       "25  YPL150W           pyr  [YML008C, YLR438W, YFR010W, YDR346C, YHR018C, ...   \n",
       "26  YKL166C           pyr  [YDR346C, YFR010W, YLR438W, YDR127W, YBR035C, ...   \n",
       "27  YIL042C           pyr  [YML008C, YLR438W, YDR346C, YDR533C, YHR018C, ...   \n",
       "28  YGL158W           pyr  [YDR346C, YML008C, YLR438W, YFR010W, YHR018C, ...   \n",
       "\n",
       "                                          exp_weights    y_true    y_pred  \n",
       "0   [0.0487194246, -0.0471058634, -0.0440300781, -...  0.242197  0.511720  \n",
       "1   [0.0487494167, -0.0452278263, -0.0373108471, -...  0.323880  0.689692  \n",
       "2   [0.048977535, 0.0310797433, -0.0308272692, 0.0...  0.558721  0.657218  \n",
       "3   [-0.0468407828, 0.0457738669, 0.0334450421, 0....  0.886366  1.118056  \n",
       "4   [0.0476184001, -0.0467505177, -0.0328013924000...  0.183384  0.884277  \n",
       "..                                                ...       ...       ...  \n",
       "24  [0.0373726516, 0.0364312568, -0.036023485, 0.0...  0.519725  0.644183  \n",
       "25  [-0.0376767202, 0.0363487295, 0.035523552, 0.0...  0.200217  0.482445  \n",
       "26  [0.0368083202, 0.036412008100000004, 0.0350467...  0.789834  0.787902  \n",
       "27  [-0.037705173700000004, 0.0367095563, 0.036529... -0.258500 -0.634178  \n",
       "28  [0.0394790721, -0.0377332781, 0.0362251347, 0....  0.674701  0.880800  \n",
       "\n",
       "[227 rows x 6 columns]"
      ]
     },
     "execution_count": 41,
     "metadata": {},
     "output_type": "execute_result"
    }
   ],
   "source": [
    "df"
   ]
  },
  {
   "cell_type": "code",
   "execution_count": 21,
   "metadata": {},
   "outputs": [],
   "source": [
    "\n",
    "\n",
    "def get_unique_genes(df: pd.DataFrame):\n",
    "    _df = df.explode(list(['exp_enzymes', 'exp_weights']))\n",
    "    return _df['exp_enzymes'].unique()"
   ]
  }
 ],
 "metadata": {
  "kernelspec": {
   "display_name": "Python 3.9.15 ('.env': venv)",
   "language": "python",
   "name": "python3"
  },
  "language_info": {
   "codemirror_mode": {
    "name": "ipython",
    "version": 3
   },
   "file_extension": ".py",
   "mimetype": "text/x-python",
   "name": "python",
   "nbconvert_exporter": "python",
   "pygments_lexer": "ipython3",
   "version": "3.9.15"
  },
  "orig_nbformat": 4,
  "vscode": {
   "interpreter": {
    "hash": "4de30f81a9e56b051823f8e1b81de8d62bfaa39f562f681b696ca2c9e1b37dd1"
   }
  }
 },
 "nbformat": 4,
 "nbformat_minor": 2
}
