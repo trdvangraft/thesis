{
 "cells": [
  {
   "cell_type": "code",
   "execution_count": 1,
   "metadata": {},
   "outputs": [],
   "source": [
    "from src.pipeline.dataloader import DataLoader\n",
    "from src.pipeline.taskloader import TaskLoader\n",
    "from src.pipeline.strategyloader import StrategyLoader\n",
    "\n",
    "from src.models.linear import GLM"
   ]
  },
  {
   "cell_type": "code",
   "execution_count": 2,
   "metadata": {},
   "outputs": [],
   "source": [
    "DataLoader.DATA_FOLDER = './data/'\n",
    "dl = DataLoader()\n",
    "tl = TaskLoader()\n",
    "sl = StrategyLoader()\n",
    "\n",
    "glm = GLM()"
   ]
  },
  {
   "cell_type": "code",
   "execution_count": 3,
   "metadata": {},
   "outputs": [
    {
     "name": "stderr",
     "output_type": "stream",
     "text": [
      "/home/tijmen/tudelft/thesis/metaengineering/src/pipeline/taskloader.py:22: FutureWarning: In a future version of pandas all arguments of DataFrame.dropna will be keyword-only.\n",
      "  result = result.dropna(0)\n"
     ]
    }
   ],
   "source": [
    "df = dl.get_simple_protein_metabolite_dataframe()\n",
    "df = tl.get_simple(df)\n",
    "\n",
    "tasks = sl.get_metabolite_centric(df)"
   ]
  },
  {
   "cell_type": "code",
   "execution_count": 6,
   "metadata": {},
   "outputs": [
    {
     "name": "stderr",
     "output_type": "stream",
     "text": [
      "/home/tijmen/tudelft/thesis/.env/lib/python3.9/site-packages/statsmodels/base/model.py:127: ValueWarning: unknown kwargs ['familiy']\n",
      "  warnings.warn(msg, ValueWarning)\n"
     ]
    },
    {
     "data": {
      "text/html": [
       "<table class=\"simpletable\">\n",
       "<caption>Generalized Linear Model Regression Results</caption>\n",
       "<tr>\n",
       "  <th>Dep. Variable:</th>   <td>metabolite_concentration</td> <th>  No. Observations:  </th>   <td>    96</td>  \n",
       "</tr>\n",
       "<tr>\n",
       "  <th>Model:</th>                      <td>GLM</td>           <th>  Df Residuals:      </th>   <td>    93</td>  \n",
       "</tr>\n",
       "<tr>\n",
       "  <th>Model Family:</th>            <td>Gaussian</td>         <th>  Df Model:          </th>   <td>     2</td>  \n",
       "</tr>\n",
       "<tr>\n",
       "  <th>Link Function:</th>           <td>identity</td>         <th>  Scale:             </th>  <td>  15298.</td> \n",
       "</tr>\n",
       "<tr>\n",
       "  <th>Method:</th>                    <td>IRLS</td>           <th>  Log-Likelihood:    </th>  <td> -597.20</td> \n",
       "</tr>\n",
       "<tr>\n",
       "  <th>Date:</th>                <td>Tue, 02 Aug 2022</td>     <th>  Deviance:          </th> <td>1.4227e+06</td>\n",
       "</tr>\n",
       "<tr>\n",
       "  <th>Time:</th>                    <td>01:16:01</td>         <th>  Pearson chi2:      </th>  <td>1.42e+06</td> \n",
       "</tr>\n",
       "<tr>\n",
       "  <th>No. Iterations:</th>              <td>3</td>            <th>  Pseudo R-squ. (CS):</th>   <td>0.02176</td> \n",
       "</tr>\n",
       "<tr>\n",
       "  <th>Covariance Type:</th>         <td>nonrobust</td>        <th>                     </th>      <td> </td>    \n",
       "</tr>\n",
       "</table>\n",
       "<table class=\"simpletable\">\n",
       "<tr>\n",
       "     <td></td>        <th>coef</th>     <th>std err</th>      <th>z</th>      <th>P>|z|</th>  <th>[0.025</th>    <th>0.975]</th>  \n",
       "</tr>\n",
       "<tr>\n",
       "  <th>YAL003W</th> <td>   15.7152</td> <td>   49.088</td> <td>    0.320</td> <td> 0.749</td> <td>  -80.495</td> <td>  111.925</td>\n",
       "</tr>\n",
       "<tr>\n",
       "  <th>YAL005C</th> <td>  -27.9184</td> <td>   39.281</td> <td>   -0.711</td> <td> 0.477</td> <td> -104.908</td> <td>   49.071</td>\n",
       "</tr>\n",
       "<tr>\n",
       "  <th>YAL012W</th> <td>   47.3089</td> <td>   52.752</td> <td>    0.897</td> <td> 0.370</td> <td>  -56.083</td> <td>  150.701</td>\n",
       "</tr>\n",
       "</table>"
      ],
      "text/plain": [
       "<class 'statsmodels.iolib.summary.Summary'>\n",
       "\"\"\"\n",
       "                    Generalized Linear Model Regression Results                     \n",
       "====================================================================================\n",
       "Dep. Variable:     metabolite_concentration   No. Observations:                   96\n",
       "Model:                                  GLM   Df Residuals:                       93\n",
       "Model Family:                      Gaussian   Df Model:                            2\n",
       "Link Function:                     identity   Scale:                          15298.\n",
       "Method:                                IRLS   Log-Likelihood:                -597.20\n",
       "Date:                      Tue, 02 Aug 2022   Deviance:                   1.4227e+06\n",
       "Time:                              01:16:01   Pearson chi2:                 1.42e+06\n",
       "No. Iterations:                           3   Pseudo R-squ. (CS):            0.02176\n",
       "Covariance Type:                  nonrobust                                         \n",
       "==============================================================================\n",
       "                 coef    std err          z      P>|z|      [0.025      0.975]\n",
       "------------------------------------------------------------------------------\n",
       "YAL003W       15.7152     49.088      0.320      0.749     -80.495     111.925\n",
       "YAL005C      -27.9184     39.281     -0.711      0.477    -104.908      49.071\n",
       "YAL012W       47.3089     52.752      0.897      0.370     -56.083     150.701\n",
       "==============================================================================\n",
       "\"\"\""
      ]
     },
     "execution_count": 6,
     "metadata": {},
     "output_type": "execute_result"
    }
   ],
   "source": [
    "x, y = next(tasks)\n",
    "res = glm.fit(x.reset_index(drop=True)[['YAL003W', 'YAL005C', 'YAL012W']], y.reset_index(drop=True))\n",
    "res.summary()"
   ]
  },
  {
   "cell_type": "code",
   "execution_count": 5,
   "metadata": {},
   "outputs": [
    {
     "data": {
      "text/html": [
       "<table class=\"simpletable\">\n",
       "<caption>Generalized Linear Model Regression Results</caption>\n",
       "<tr>\n",
       "  <th>Dep. Variable:</th>   <td>metabolite_concentration</td> <th>  No. Observations:  </th>   <td>    96</td>  \n",
       "</tr>\n",
       "<tr>\n",
       "  <th>Model:</th>                      <td>GLM</td>           <th>  Df Residuals:      </th>   <td>    94</td>  \n",
       "</tr>\n",
       "<tr>\n",
       "  <th>Model Family:</th>            <td>Gaussian</td>         <th>  Df Model:          </th>   <td>     1</td>  \n",
       "</tr>\n",
       "<tr>\n",
       "  <th>Link Function:</th>           <td>identity</td>         <th>  Scale:             </th>  <td>  81038.</td> \n",
       "</tr>\n",
       "<tr>\n",
       "  <th>Method:</th>                    <td>IRLS</td>           <th>  Log-Likelihood:    </th>  <td> -677.74</td> \n",
       "</tr>\n",
       "<tr>\n",
       "  <th>Date:</th>                <td>Tue, 02 Aug 2022</td>     <th>  Deviance:          </th> <td>7.6176e+06</td>\n",
       "</tr>\n",
       "<tr>\n",
       "  <th>Time:</th>                    <td>01:14:22</td>         <th>  Pearson chi2:      </th>  <td>7.62e+06</td> \n",
       "</tr>\n",
       "<tr>\n",
       "  <th>No. Iterations:</th>              <td>3</td>            <th>  Pseudo R-squ. (CS):</th>   <td>0.02616</td> \n",
       "</tr>\n",
       "<tr>\n",
       "  <th>Covariance Type:</th>         <td>nonrobust</td>        <th>                     </th>      <td> </td>    \n",
       "</tr>\n",
       "</table>\n",
       "<table class=\"simpletable\">\n",
       "<tr>\n",
       "     <td></td>        <th>coef</th>     <th>std err</th>      <th>z</th>      <th>P>|z|</th>  <th>[0.025</th>    <th>0.975]</th>  \n",
       "</tr>\n",
       "<tr>\n",
       "  <th>YAL003W</th> <td>   82.8242</td> <td>   78.834</td> <td>    1.051</td> <td> 0.293</td> <td>  -71.687</td> <td>  237.336</td>\n",
       "</tr>\n",
       "<tr>\n",
       "  <th>YAL005C</th> <td>    0.3111</td> <td>   79.288</td> <td>    0.004</td> <td> 0.997</td> <td> -155.091</td> <td>  155.713</td>\n",
       "</tr>\n",
       "</table>"
      ],
      "text/plain": [
       "<class 'statsmodels.iolib.summary.Summary'>\n",
       "\"\"\"\n",
       "                    Generalized Linear Model Regression Results                     \n",
       "====================================================================================\n",
       "Dep. Variable:     metabolite_concentration   No. Observations:                   96\n",
       "Model:                                  GLM   Df Residuals:                       94\n",
       "Model Family:                      Gaussian   Df Model:                            1\n",
       "Link Function:                     identity   Scale:                          81038.\n",
       "Method:                                IRLS   Log-Likelihood:                -677.74\n",
       "Date:                      Tue, 02 Aug 2022   Deviance:                   7.6176e+06\n",
       "Time:                              01:14:22   Pearson chi2:                 7.62e+06\n",
       "No. Iterations:                           3   Pseudo R-squ. (CS):            0.02616\n",
       "Covariance Type:                  nonrobust                                         \n",
       "==============================================================================\n",
       "                 coef    std err          z      P>|z|      [0.025      0.975]\n",
       "------------------------------------------------------------------------------\n",
       "YAL003W       82.8242     78.834      1.051      0.293     -71.687     237.336\n",
       "YAL005C        0.3111     79.288      0.004      0.997    -155.091     155.713\n",
       "==============================================================================\n",
       "\"\"\""
      ]
     },
     "execution_count": 5,
     "metadata": {},
     "output_type": "execute_result"
    }
   ],
   "source": []
  }
 ],
 "metadata": {
  "kernelspec": {
   "display_name": "Python 3.9.13 ('.env': venv)",
   "language": "python",
   "name": "python3"
  },
  "language_info": {
   "codemirror_mode": {
    "name": "ipython",
    "version": 3
   },
   "file_extension": ".py",
   "mimetype": "text/x-python",
   "name": "python",
   "nbconvert_exporter": "python",
   "pygments_lexer": "ipython3",
   "version": "3.9.13"
  },
  "orig_nbformat": 4,
  "vscode": {
   "interpreter": {
    "hash": "4de30f81a9e56b051823f8e1b81de8d62bfaa39f562f681b696ca2c9e1b37dd1"
   }
  }
 },
 "nbformat": 4,
 "nbformat_minor": 2
}
