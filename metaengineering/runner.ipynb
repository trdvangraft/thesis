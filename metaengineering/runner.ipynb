{
 "cells": [
  {
   "cell_type": "markdown",
   "metadata": {},
   "source": [
    "# Libraries"
   ]
  },
  {
   "cell_type": "code",
   "execution_count": 13,
   "metadata": {},
   "outputs": [],
   "source": [
    "import os\n",
    "import glob\n",
    "import math\n",
    "from typing import Any, Dict, List\n",
    "from dataclasses import dataclass\n",
    "\n",
    "from collections import defaultdict\n",
    "\n",
    "from src.pipeline.dataloader import DataLoader, FrameFilters, FrameTransformers, DataLoaderConfig\n",
    "from src.pipeline.taskloader import TaskLoader, TaskFrame\n",
    "\n",
    "from src.settings.strategy import Strategy\n",
    "from src.settings.tier import Tier\n",
    "\n",
    "from src.models.linear import GLM\n",
    "\n",
    "import matplotlib.pyplot as plt\n",
    "import seaborn as sns\n",
    "\n",
    "import pandas as pd\n",
    "import numpy as np\n",
    "\n",
    "from scipy.stats import pearsonr"
   ]
  },
  {
   "cell_type": "code",
   "execution_count": 2,
   "metadata": {},
   "outputs": [],
   "source": [
    "DataLoader.DATA_FOLDER = './data/training/'\n",
    "dl = DataLoader()\n",
    "tl = TaskLoader()"
   ]
  },
  {
   "cell_type": "markdown",
   "metadata": {},
   "source": [
    "# Model building"
   ]
  },
  {
   "cell_type": "code",
   "execution_count": 14,
   "metadata": {},
   "outputs": [],
   "source": [
    "from sklearn.preprocessing import OneHotEncoder, StandardScaler, MinMaxScaler, RobustScaler\n",
    "from sklearn.compose import make_column_transformer, ColumnTransformer, TransformedTargetRegressor\n",
    "from sklearn.pipeline import Pipeline\n",
    "\n",
    "from sklearn.model_selection import train_test_split, GridSearchCV, RepeatedKFold, cross_val_score\n",
    "from sklearn.feature_selection import RFE\n",
    "from sklearn.decomposition import PCA\n",
    "\n",
    "from sklearn.tree import DecisionTreeRegressor, plot_tree\n",
    "from sklearn.svm import SVR\n",
    "from sklearn.ensemble import RandomForestRegressor\n",
    "from sklearn.linear_model import ElasticNet, GammaRegressor\n",
    "\n",
    "from sklearn.metrics import mean_absolute_error"
   ]
  },
  {
   "cell_type": "code",
   "execution_count": 4,
   "metadata": {},
   "outputs": [],
   "source": [
    "\n",
    "\n",
    "def to_cv_params(params: Dict[str, Dict[str, Any]]):\n",
    "    return [{\n",
    "        **model_param,\n",
    "        'regressor__regressor': [model_param['regressor__regressor']]\n",
    "    } for model_param in params.values()]"
   ]
  },
  {
   "cell_type": "code",
   "execution_count": 5,
   "metadata": {},
   "outputs": [
    {
     "data": {
      "text/plain": [
       "[{'regressor__regressor': [SVR()],\n",
       "  'regressor__regressor__kernel': ['linear', 'poly', 'rbf', 'sigmoid'],\n",
       "  'regressor__pca__n_components': [10, 20, 30, 40, 50, 60, 70, 80, 90, 100],\n",
       "  'regressor__preprocessor__num__scaler': [MinMaxScaler(),\n",
       "   StandardScaler(),\n",
       "   RobustScaler()]},\n",
       " {'regressor__regressor': [DecisionTreeRegressor()],\n",
       "  'regressor__regressor__criterion': ['squared_error', 'friedman_mse'],\n",
       "  'regressor__regressor__max_depth': [5, 10, 20, 15],\n",
       "  'regressor__pca__n_components': [10, 20, 30, 40, 50, 60, 70, 80, 90, 100],\n",
       "  'regressor__preprocessor__num__scaler': [MinMaxScaler(),\n",
       "   StandardScaler(),\n",
       "   RobustScaler()]},\n",
       " {'regressor__regressor': [ElasticNet()],\n",
       "  'regressor__regressor__l1_ratio': [0.01, 0.25, 0.5, 0.75, 1],\n",
       "  'regressor__regressor__tol': [0.01],\n",
       "  'regressor__pca__n_components': [10, 20, 30, 40, 50, 60, 70, 80, 90, 100],\n",
       "  'regressor__preprocessor__num__scaler': [MinMaxScaler(),\n",
       "   StandardScaler(),\n",
       "   RobustScaler()]}]"
      ]
     },
     "execution_count": 5,
     "metadata": {},
     "output_type": "execute_result"
    }
   ],
   "source": [
    "to_cv_params(params)"
   ]
  },
  {
   "cell_type": "code",
   "execution_count": 6,
   "metadata": {},
   "outputs": [],
   "source": [
    "def get_generator(\n",
    "    strategy:Strategy=Strategy.METABOLITE_CENTRIC,\n",
    "    tier=Tier.TIER1,\n",
    "    config: DataLoaderConfig = DataLoaderConfig()\n",
    "):\n",
    "    df = dl.get_dataframe(config)\n",
    "    gen = tl.prepare_task(df, tier).build(strategy)\n",
    "    return gen\n",
    "\n",
    "def build_model_pipeline(\n",
    "    strategy:Strategy=Strategy.METABOLITE_CENTRIC,\n",
    "    tier=Tier.TIER1\n",
    "):\n",
    "    tf = next(get_generator(\n",
    "        strategy, tier\n",
    "    ))\n",
    "    \n",
    "    numeric_features = ['enzyme_concentration'] + tf.x.columns.to_list()\n",
    "    numeric_features = list(filter(lambda x: x in tf.x.columns.to_list(), numeric_features))\n",
    "    numeric_transformer = Pipeline(\n",
    "        steps=[\n",
    "            ('scaler', StandardScaler())\n",
    "        ]\n",
    "    )\n",
    "\n",
    "    cat_features = ['KO_ORF', 'ORF']\n",
    "    cat_features = list(filter(lambda x: x in tf.x.index.names, cat_features))\n",
    "\n",
    "    categorical_transformer = OneHotEncoder(\n",
    "        categories=[\n",
    "            y[cat].unique() for cat in cat_features if (y := tf.x.reset_index()) is not None\n",
    "            # tf.x.reset_index()['KO_ORF'].unique(),\n",
    "            # tf.x.reset_index()['ORF'].unique()\n",
    "        ]\n",
    "    )\n",
    "\n",
    "    prepocessor = ColumnTransformer(\n",
    "        transformers=[\n",
    "            ('num', numeric_transformer, numeric_features),\n",
    "            # ('cat', categorical_transformer, cat_features),\n",
    "        ],\n",
    "        remainder='drop'\n",
    "    )\n",
    "\n",
    "    estimator = DecisionTreeRegressor()\n",
    "\n",
    "    clf = Pipeline(\n",
    "        steps=[\n",
    "            ('preprocessor', prepocessor),\n",
    "            ('pca', PCA()),\n",
    "            ('regressor', estimator),\n",
    "        ]\n",
    "    )\n",
    "\n",
    "    model = TransformedTargetRegressor(\n",
    "        regressor=clf,\n",
    "        transformer=None,\n",
    "    )\n",
    "    return model\n",
    "\n",
    "def cv_result_to_preprocessor(model: TransformedTargetRegressor, c_best_model: pd.DataFrame):\n",
    "    prefix = 'param_regressor__preprocessor__'\n",
    "\n",
    "    names = ['MinMaxScaler', 'RobustScaler', 'StandardScaler']\n",
    "    scalers = [MinMaxScaler(), RobustScaler(), StandardScaler()]\n",
    "\n",
    "    for name, scaler in zip(names, scalers):\n",
    "        if all(c_best_model[f'{prefix}num__scaler'].str.contains(name)):\n",
    "            model.regressor.set_params(\n",
    "                preprocessor__num__scaler=scaler\n",
    "            )\n",
    "    \n",
    "    return model\n",
    "\n",
    "def cv_result_to_pca(model: TransformedTargetRegressor, c_best_model: pd.DataFrame):\n",
    "    prefix = 'param_regressor__pca__'\n",
    "    model.regressor.set_params(\n",
    "        pca__n_components=c_best_model[f'{prefix}n_components'].values[0]\n",
    "    )\n",
    "\n",
    "    return model\n",
    "    \n",
    "\n",
    "def cv_result_to_model(model: TransformedTargetRegressor, c_best_model: pd.DataFrame):\n",
    "    prefix = 'param_regressor__'\n",
    "    if all(c_best_model[f'{prefix}regressor'].str.contains('DecisionTreeRegressor')):\n",
    "        print('DecisionRegressor model')\n",
    "        # set parameters for decision tree\n",
    "        model.regressor.set_params(\n",
    "            regressor=DecisionTreeRegressor(),\n",
    "            regressor__criterion=c_best_model[f'{prefix}regressor__criterion'].values[0],\n",
    "            regressor__max_depth=None if math.isnan(r := c_best_model[f'{prefix}regressor__max_depth'].values[0]) else int(r)\n",
    "        )\n",
    "    elif all(c_best_model[f'{prefix}regressor'].str.contains('SVR')):\n",
    "        print('SVR model')\n",
    "        model.regressor.set_params(\n",
    "            regressor=SVR(),\n",
    "            regressor__kernel=c_best_model[f'{prefix}regressor__kernel'].values[0],\n",
    "        )\n",
    "    elif all(c_best_model[f'{prefix}regressor'].str.contains('ElasticNet')):\n",
    "        print('ElasticNet model')\n",
    "        model.regressor.set_params(\n",
    "            regressor=ElasticNet(),\n",
    "            regressor__l1_ratio=c_best_model[f'{prefix}regressor__l1_ratio'].values[0],\n",
    "        )\n",
    "    else:\n",
    "        raise NotImplementedError()\n",
    "\n",
    "    return model\n",
    "\n",
    "def parse_cv_result(model: TransformedTargetRegressor, c_best_model: pd.DataFrame):\n",
    "    model = cv_result_to_preprocessor(model, c_best_model)\n",
    "    model = cv_result_to_pca(model, c_best_model)\n",
    "    model = cv_result_to_model(model, c_best_model)\n",
    "    return model"
   ]
  },
  {
   "cell_type": "markdown",
   "metadata": {},
   "source": [
    "## Base data model (Tier 0)"
   ]
  },
  {
   "cell_type": "code",
   "execution_count": 7,
   "metadata": {},
   "outputs": [],
   "source": [
    "EXPERIMENT_ID = 'experiment_0'\n",
    "PATH_PREFIX = './data/results'\n",
    "EXPERIMENT_PATH = f'{PATH_PREFIX}/{EXPERIMENT_ID}'\n",
    "TIER = Tier.TIER0\n",
    "\n",
    "if not os.path.exists(f'{EXPERIMENT_PATH}'):\n",
    "    os.makedirs(f'{EXPERIMENT_PATH}')\n",
    "\n",
    "config = DataLoaderConfig(\n",
    "    additional_filters=[dl.data_factory.filters.is_precursor],\n",
    "    additional_transforms=[dl.data_factory.transformer.log_fold_change_protein]\n",
    ")\n",
    "\n",
    "cv = RepeatedKFold(n_repeats=1, n_splits=10, random_state=0)"
   ]
  },
  {
   "cell_type": "markdown",
   "metadata": {},
   "source": [
    "### Strategy All"
   ]
  },
  {
   "cell_type": "code",
   "execution_count": 20,
   "metadata": {},
   "outputs": [],
   "source": [
    "STRATEGY = Strategy.ALL\n",
    "params = {\n",
    "    'SVR': {\n",
    "        'regressor__regressor': SVR(),\n",
    "        'regressor__regressor__kernel': ['linear', 'poly', 'rbf', 'sigmoid'],\n",
    "        'regressor__pca__n_components': [10, 20, 30, 40, 50, 60, 70, 80, 90, 100],\n",
    "        'regressor__preprocessor__num__scaler': [MinMaxScaler(), StandardScaler(), RobustScaler()],\n",
    "    },\n",
    "    'DecisionTreeRegressor': {\n",
    "        'regressor__regressor': DecisionTreeRegressor(),\n",
    "        'regressor__regressor__criterion': ['squared_error', 'friedman_mse'],\n",
    "        'regressor__regressor__max_depth': [5, 10, 20, 15],\n",
    "        'regressor__pca__n_components': [10, 20, 30, 40, 50, 60, 70, 80, 90, 100],\n",
    "        'regressor__preprocessor__num__scaler': [MinMaxScaler(), StandardScaler(), RobustScaler()]\n",
    "    },\n",
    "    # 'GammaRegressor': {\n",
    "    #     'regressor__regressor': GammaRegressor(),\n",
    "    #     'regressor__regressor__alpha': [0, 1, 10],\n",
    "    #     'transformer': [MinMaxScaler()]\n",
    "    # },\n",
    "    'ElasticNet': {\n",
    "        'regressor__regressor': ElasticNet(),\n",
    "        'regressor__regressor__l1_ratio': [0.01, 0.25, 0.5, 0.75, 1],\n",
    "        'regressor__regressor__tol': [0.01],\n",
    "        'regressor__pca__n_components': [10, 20, 30, 40, 50, 60, 70, 80, 90, 100],\n",
    "        'regressor__preprocessor__num__scaler': [MinMaxScaler(), StandardScaler(), RobustScaler()]\n",
    "    }\n",
    "}"
   ]
  },
  {
   "cell_type": "code",
   "execution_count": 9,
   "metadata": {},
   "outputs": [
    {
     "name": "stdout",
     "output_type": "stream",
     "text": [
      "DataLoaderConfig(additional_frames=[], additional_transforms=[], additional_filters=[])\n"
     ]
    },
    {
     "name": "stderr",
     "output_type": "stream",
     "text": [
      "/home/tvangraft/tudelft/thesis/metaengineering/src/pipeline/dataloader.py:161: FutureWarning: X.dtype being converted to np.float32 from float64. In the next version of anndata (0.9) conversion will not be automatic. Pass dtype explicitly to avoid this warning. Pass `AnnData(X, dtype=X.dtype, ...)` to get the future behavour.\n",
      "  self.current_frame = AnnData(\n",
      "/home/tvangraft/tudelft/thesis/metaengineering/src/pipeline/dataloader.py:161: FutureWarning: X.dtype being converted to np.float32 from float64. In the next version of anndata (0.9) conversion will not be automatic. Pass dtype explicitly to avoid this warning. Pass `AnnData(X, dtype=X.dtype, ...)` to get the future behavour.\n",
      "  self.current_frame = AnnData(\n"
     ]
    },
    {
     "name": "stdout",
     "output_type": "stream",
     "text": [
      "DataLoaderConfig(additional_frames=[], additional_transforms=[<bound method FrameTransformers.log_fold_change_protein of <src.pipeline.dataloader.FrameTransformers object at 0x7ff32e576ca0>>], additional_filters=[<bound method FrameFilters.is_precursor of <src.pipeline.dataloader.FrameFilters object at 0x7ff32e576dc0>>])\n",
      "Training: Strategy.ALL_all.csv\n",
      "tf.x.shape=(737, 726) (737,)\n",
      "Fitting 10 folds for each of 510 candidates, totalling 5100 fits\n",
      "model score: -0.376\n"
     ]
    }
   ],
   "source": [
    "model = build_model_pipeline(tier=TIER)\n",
    "gen = get_generator(\n",
    "    strategy=STRATEGY,\n",
    "    tier=TIER,\n",
    "    config=config\n",
    ")\n",
    "tf = next(gen)\n",
    "\n",
    "\n",
    "# if not(os.path.exists(f'{EXPERIMENT_PATH}/{tf.title}_{tf.frame_name}.csv')):\n",
    "print(f'Training: {tf.title}_{tf.frame_name}.csv')\n",
    "print(f\"{tf.x.shape=} {tf.y.shape}\")\n",
    "\n",
    "df = tf.x.reset_index()\n",
    "X_train, X_test, y_train, y_test = train_test_split(\n",
    "    df,\n",
    "    tf.y,\n",
    "    test_size=0.3,\n",
    "    random_state=0,\n",
    "    stratify=tf.x.reset_index()['metabolite_id']\n",
    ")\n",
    "\n",
    "search = GridSearchCV(\n",
    "    model,\n",
    "    to_cv_params(params),\n",
    "    scoring='neg_mean_absolute_error',\n",
    "    n_jobs=-1,\n",
    "    refit=True,\n",
    "    cv=cv,\n",
    "    verbose=1,\n",
    "    error_score='raise',\n",
    ")\n",
    "search.fit(X_train, y_train)\n",
    "\n",
    "df = pd.DataFrame(search.cv_results_)\n",
    "df.to_csv(f'{EXPERIMENT_PATH}/{tf.title}_{tf.frame_name}.csv')\n",
    "\n",
    "print(\"model score: %.3f\" % search.score(X_test, y_test))"
   ]
  },
  {
   "cell_type": "code",
   "execution_count": 18,
   "metadata": {},
   "outputs": [
    {
     "name": "stdout",
     "output_type": "stream",
     "text": [
      "DataLoaderConfig(additional_frames=[], additional_transforms=[], additional_filters=[])\n",
      "DataLoaderConfig(additional_frames=[], additional_transforms=[<bound method FrameTransformers.log_fold_change_protein of <src.pipeline.dataloader.FrameTransformers object at 0x7ff32e576ca0>>], additional_filters=[<bound method FrameFilters.is_precursor of <src.pipeline.dataloader.FrameFilters object at 0x7ff32e576dc0>>])\n"
     ]
    },
    {
     "name": "stderr",
     "output_type": "stream",
     "text": [
      "/home/tvangraft/tudelft/thesis/metaengineering/src/pipeline/dataloader.py:161: FutureWarning: X.dtype being converted to np.float32 from float64. In the next version of anndata (0.9) conversion will not be automatic. Pass dtype explicitly to avoid this warning. Pass `AnnData(X, dtype=X.dtype, ...)` to get the future behavour.\n",
      "  self.current_frame = AnnData(\n",
      "/home/tvangraft/tudelft/thesis/metaengineering/src/pipeline/dataloader.py:161: FutureWarning: X.dtype being converted to np.float32 from float64. In the next version of anndata (0.9) conversion will not be automatic. Pass dtype explicitly to avoid this warning. Pass `AnnData(X, dtype=X.dtype, ...)` to get the future behavour.\n",
      "  self.current_frame = AnnData(\n"
     ]
    },
    {
     "name": "stdout",
     "output_type": "stream",
     "text": [
      "DecisionRegressor model\n",
      "total sum of squared = 98.02849433608526\n",
      "residual sum of squared = 53.23976746712911\n",
      "y_train.shape=(515,) y_test.shape=(222,)\n",
      "0.4568949790802711\n",
      "0.6772126582245629\n"
     ]
    }
   ],
   "source": [
    "results_df = pd.read_csv(f'{EXPERIMENT_PATH}/Strategy.ALL_all.csv')\n",
    "results = defaultdict(lambda: list())\n",
    "pred_results = defaultdict(lambda: dict())\n",
    "model = build_model_pipeline(tier=Tier.TIER0)\n",
    "gen = get_generator(\n",
    "    strategy=Strategy.METABOLITE_CENTRIC,\n",
    "    tier=Tier.TIER0,\n",
    "    config=config\n",
    ")\n",
    "\n",
    "model = parse_cv_result(model, results_df[results_df['rank_test_score'] == 1])\n",
    "model.get_params()\n",
    "\n",
    "df = tf.x.reset_index()\n",
    "X_train, X_test, y_train, y_test = train_test_split(\n",
    "    df,\n",
    "    tf.y,\n",
    "    test_size=0.3,\n",
    "    random_state=0,\n",
    "    stratify=tf.x.reset_index()['metabolite_id']\n",
    ")\n",
    "\n",
    "model.fit(X_train, y_train)\n",
    "prediction = model.predict(X_test)\n",
    "\n",
    "print(f'total sum of squared = {((y_test - y_test.mean()) ** 2).sum()}')\n",
    "print(f'residual sum of squared = {((y_test - prediction) ** 2).sum()}')\n",
    "print(f'{y_train.shape=} {y_test.shape=}')\n",
    "print(f'{model.score(X_test, y_test)}')\n",
    "print(f'{pearsonr(y_test, prediction)[0]}')\n",
    "\n",
    "results['all'].append(pearsonr(y_test, prediction)[0])\n",
    "pred_results['all'].update({\n",
    "    'y_true': y_test.values,\n",
    "    'y_pred': model.predict(X_test)\n",
    "})\n",
    "\n",
    "for metabolite_id in X_test['metabolite_id'].unique():\n",
    "    _X_test = X_test[X_test['metabolite_id'] == metabolite_id]\n",
    "    _y_test = y_test.xs(metabolite_id, level='metabolite_id')\n",
    "    results[metabolite_id].append(pearsonr(_y_test, model.predict(_X_test))[0])\n",
    "    pred_results[metabolite_id].update({\n",
    "        'y_true': _y_test.values,\n",
    "        'y_pred': model.predict(_X_test)\n",
    "    })\n",
    "\n",
    "pd.DataFrame.from_dict(results).to_csv(f'{EXPERIMENT_PATH}/best_model_performance_{STRATEGY}.csv')\n",
    "pd.DataFrame.from_dict(pred_results).to_json(f'{EXPERIMENT_PATH}/best_model_prediction_performance_{STRATEGY}.json')"
   ]
  },
  {
   "cell_type": "markdown",
   "metadata": {},
   "source": [
    "### Strategy metabolic centric"
   ]
  },
  {
   "cell_type": "code",
   "execution_count": 28,
   "metadata": {},
   "outputs": [],
   "source": [
    "STRATEGY = Strategy.METABOLITE_CENTRIC\n",
    "params = {\n",
    "    'SVR': {\n",
    "        'regressor__regressor': SVR(),\n",
    "        'regressor__regressor__kernel': ['linear', 'poly', 'rbf', 'sigmoid'],\n",
    "        'regressor__pca__n_components': [0.1, 0.25, 0.5, 0.75, 0.99],\n",
    "        'regressor__preprocessor__num__scaler': [MinMaxScaler(), StandardScaler(), RobustScaler()],\n",
    "    },\n",
    "    'DecisionTreeRegressor': {\n",
    "        'regressor__regressor': DecisionTreeRegressor(),\n",
    "        'regressor__regressor__criterion': ['squared_error', 'friedman_mse'],\n",
    "        'regressor__regressor__max_depth': [5, 10, 20, 15],\n",
    "        'regressor__pca__n_components': [0.1, 0.25, 0.5, 0.75, 0.99],\n",
    "        'regressor__preprocessor__num__scaler': [MinMaxScaler(), StandardScaler(), RobustScaler()]\n",
    "    },\n",
    "    # 'GammaRegressor': {\n",
    "    #     'regressor__regressor': GammaRegressor(),\n",
    "    #     'regressor__regressor__alpha': [0, 1, 10],\n",
    "    #     'transformer': [MinMaxScaler()]\n",
    "    # },\n",
    "    'ElasticNet': {\n",
    "        'regressor__regressor': ElasticNet(),\n",
    "        'regressor__regressor__l1_ratio': [0.01, 0.25, 0.5, 0.75, 1],\n",
    "        'regressor__regressor__tol': [0.01],\n",
    "        'regressor__pca__n_components': [0.1, 0.25, 0.5, 0.75, 0.99],\n",
    "        'regressor__preprocessor__num__scaler': [MinMaxScaler(), StandardScaler(), RobustScaler()]\n",
    "    }\n",
    "}"
   ]
  },
  {
   "cell_type": "code",
   "execution_count": 29,
   "metadata": {},
   "outputs": [
    {
     "name": "stdout",
     "output_type": "stream",
     "text": [
      "DataLoaderConfig(additional_frames=[], additional_transforms=[], additional_filters=[])\n",
      "DataLoaderConfig(additional_frames=[], additional_transforms=[<bound method FrameTransformers.log_fold_change_protein of <src.pipeline.dataloader.FrameTransformers object at 0x7ff32e576ca0>>], additional_filters=[<bound method FrameFilters.is_precursor of <src.pipeline.dataloader.FrameFilters object at 0x7ff32e576dc0>>])\n",
      "Training: Strategy.METABOLITE_CENTRIC_g6p;g6p-B.csv\n",
      "tf.x.shape=(18, 726) (18,)\n",
      "Fitting 10 folds for each of 255 candidates, totalling 2550 fits\n"
     ]
    },
    {
     "name": "stderr",
     "output_type": "stream",
     "text": [
      "/home/tvangraft/tudelft/thesis/metaengineering/src/pipeline/dataloader.py:161: FutureWarning: X.dtype being converted to np.float32 from float64. In the next version of anndata (0.9) conversion will not be automatic. Pass dtype explicitly to avoid this warning. Pass `AnnData(X, dtype=X.dtype, ...)` to get the future behavour.\n",
      "  self.current_frame = AnnData(\n",
      "/home/tvangraft/tudelft/thesis/metaengineering/src/pipeline/dataloader.py:161: FutureWarning: X.dtype being converted to np.float32 from float64. In the next version of anndata (0.9) conversion will not be automatic. Pass dtype explicitly to avoid this warning. Pass `AnnData(X, dtype=X.dtype, ...)` to get the future behavour.\n",
      "  self.current_frame = AnnData(\n"
     ]
    },
    {
     "name": "stdout",
     "output_type": "stream",
     "text": [
      "model score: -0.175\n",
      "{'regressor__pca__n_components': 0.99, 'regressor__preprocessor__num__scaler': RobustScaler(), 'regressor__regressor': DecisionTreeRegressor(criterion='friedman_mse', max_depth=10), 'regressor__regressor__criterion': 'friedman_mse', 'regressor__regressor__max_depth': 10}\n",
      "Training: Strategy.METABOLITE_CENTRIC_g6p;f6p;g6p-B.csv\n",
      "tf.x.shape=(95, 726) (95,)\n",
      "Fitting 10 folds for each of 255 candidates, totalling 2550 fits\n",
      "model score: -0.164\n",
      "{'regressor__pca__n_components': 0.1, 'regressor__preprocessor__num__scaler': RobustScaler(), 'regressor__regressor': SVR(kernel='poly'), 'regressor__regressor__kernel': 'poly'}\n",
      "Training: Strategy.METABOLITE_CENTRIC_f6p.csv\n",
      "tf.x.shape=(95, 726) (95,)\n",
      "Fitting 10 folds for each of 255 candidates, totalling 2550 fits\n",
      "model score: -0.419\n",
      "{'regressor__pca__n_components': 0.75, 'regressor__preprocessor__num__scaler': MinMaxScaler(), 'regressor__regressor': SVR(kernel='linear'), 'regressor__regressor__kernel': 'linear'}\n",
      "Training: Strategy.METABOLITE_CENTRIC_dhap.csv\n",
      "tf.x.shape=(95, 726) (95,)\n",
      "Fitting 10 folds for each of 255 candidates, totalling 2550 fits\n",
      "model score: -0.428\n",
      "{'regressor__pca__n_components': 0.75, 'regressor__preprocessor__num__scaler': MinMaxScaler(), 'regressor__regressor': SVR(kernel='linear'), 'regressor__regressor__kernel': 'linear'}\n",
      "Training: Strategy.METABOLITE_CENTRIC_3pg;2pg.csv\n",
      "tf.x.shape=(95, 726) (95,)\n",
      "Fitting 10 folds for each of 255 candidates, totalling 2550 fits\n",
      "model score: -0.379\n",
      "{'regressor__pca__n_components': 0.25, 'regressor__preprocessor__num__scaler': MinMaxScaler(), 'regressor__regressor': SVR(kernel='poly'), 'regressor__regressor__kernel': 'poly'}\n",
      "Training: Strategy.METABOLITE_CENTRIC_pep.csv\n",
      "tf.x.shape=(95, 726) (95,)\n",
      "Fitting 10 folds for each of 255 candidates, totalling 2550 fits\n",
      "model score: -0.473\n",
      "{'regressor__pca__n_components': 0.99, 'regressor__preprocessor__num__scaler': RobustScaler(), 'regressor__regressor': ElasticNet(l1_ratio=0.01, tol=0.01), 'regressor__regressor__l1_ratio': 0.01, 'regressor__regressor__tol': 0.01}\n",
      "Training: Strategy.METABOLITE_CENTRIC_pyr.csv\n",
      "tf.x.shape=(95, 726) (95,)\n",
      "Fitting 10 folds for each of 255 candidates, totalling 2550 fits\n",
      "model score: -0.396\n",
      "{'regressor__pca__n_components': 0.1, 'regressor__preprocessor__num__scaler': StandardScaler(), 'regressor__regressor': SVR(kernel='linear'), 'regressor__regressor__kernel': 'linear'}\n",
      "Training: Strategy.METABOLITE_CENTRIC_r5p.csv\n",
      "tf.x.shape=(95, 726) (95,)\n",
      "Fitting 10 folds for each of 255 candidates, totalling 2550 fits\n",
      "model score: -0.340\n",
      "{'regressor__pca__n_components': 0.25, 'regressor__preprocessor__num__scaler': StandardScaler(), 'regressor__regressor': SVR(kernel='linear'), 'regressor__regressor__kernel': 'linear'}\n",
      "Training: Strategy.METABOLITE_CENTRIC_accoa.csv\n",
      "tf.x.shape=(18, 726) (18,)\n",
      "Fitting 10 folds for each of 255 candidates, totalling 2550 fits\n",
      "model score: -0.249\n",
      "{'regressor__pca__n_components': 0.5, 'regressor__preprocessor__num__scaler': StandardScaler(), 'regressor__regressor': DecisionTreeRegressor(criterion='friedman_mse', max_depth=20), 'regressor__regressor__criterion': 'friedman_mse', 'regressor__regressor__max_depth': 20}\n",
      "Training: Strategy.METABOLITE_CENTRIC_akg.csv\n",
      "tf.x.shape=(18, 726) (18,)\n",
      "Fitting 10 folds for each of 255 candidates, totalling 2550 fits\n",
      "model score: -0.445\n",
      "{'regressor__pca__n_components': 0.1, 'regressor__preprocessor__num__scaler': MinMaxScaler(), 'regressor__regressor': SVR(kernel='poly'), 'regressor__regressor__kernel': 'poly'}\n",
      "Training: Strategy.METABOLITE_CENTRIC_oaa.csv\n",
      "tf.x.shape=(18, 726) (18,)\n",
      "Fitting 10 folds for each of 255 candidates, totalling 2550 fits\n",
      "model score: -0.141\n",
      "{'regressor__pca__n_components': 0.75, 'regressor__preprocessor__num__scaler': RobustScaler(), 'regressor__regressor': ElasticNet(l1_ratio=0.01, tol=0.01), 'regressor__regressor__l1_ratio': 0.01, 'regressor__regressor__tol': 0.01}\n"
     ]
    }
   ],
   "source": [
    "model = build_model_pipeline(tier=TIER)\n",
    "gen = get_generator(\n",
    "    strategy=STRATEGY,\n",
    "    tier=TIER,\n",
    "    config=config\n",
    ")\n",
    "\n",
    "for tf in gen:\n",
    "    # if not(os.path.exists(f'{EXPERIMENT_PATH}/{tf.title}_{tf.frame_name}.csv')):\n",
    "    print(f'Training: {tf.title}_{tf.frame_name}.csv')\n",
    "    print(f\"{tf.x.shape=} {tf.y.shape}\")\n",
    "\n",
    "    df = tf.x.reset_index()\n",
    "    X_train, X_test, y_train, y_test = train_test_split(\n",
    "        df,\n",
    "        tf.y,\n",
    "        test_size=0.2,\n",
    "        random_state=0,\n",
    "        shuffle=False\n",
    "    )\n",
    "\n",
    "    search = GridSearchCV(\n",
    "        model,\n",
    "        to_cv_params(params),\n",
    "        scoring='neg_mean_absolute_error',\n",
    "        n_jobs=-1,\n",
    "        refit=True,\n",
    "        cv=cv,\n",
    "        verbose=1,\n",
    "        error_score='raise',\n",
    "    )\n",
    "    search.fit(X_train, y_train)\n",
    "\n",
    "    df = pd.DataFrame(search.cv_results_)\n",
    "    df.to_csv(f'{EXPERIMENT_PATH}/{tf.title}_{tf.frame_name}.csv')\n",
    "\n",
    "    print(\"model score: %.3f\" % search.score(X_test, y_test))\n",
    "    print(search.best_params_)"
   ]
  },
  {
   "cell_type": "code",
   "execution_count": 30,
   "metadata": {},
   "outputs": [],
   "source": [
    "paths = glob.glob(EXPERIMENT_PATH + \"/*.csv\")\n",
    "\n",
    "metabolites_names = [path.rsplit('/', 1)[1].removesuffix('.csv').removeprefix('Strategy.METABOLITE_CENTRIC_') for path in paths]\n",
    "results_df = pd.concat([\n",
    "    pd.read_csv(path).assign(metabolite_id=metabolite_name) \n",
    "    for path, metabolite_name in zip(paths, metabolites_names)\n",
    "])\n",
    "results_df = results_df[(\n",
    "    (results_df['param_regressor__regressor'].str.contains('DecisionTreeRegressor', na=False)) & \\\n",
    "    (results_df['param_regressor__regressor__max_depth'] > 0)\n",
    ") | \\\n",
    "    (~results_df['param_regressor__regressor'].str.contains('DecisionTreeRegressor', na=False))\n",
    "]\n",
    "\n",
    "best_models = results_df[results_df.groupby(by='metabolite_id')['rank_test_score'].transform(min) == results_df['rank_test_score']]"
   ]
  },
  {
   "cell_type": "code",
   "execution_count": 33,
   "metadata": {},
   "outputs": [
    {
     "name": "stdout",
     "output_type": "stream",
     "text": [
      "DataLoaderConfig(additional_frames=[], additional_transforms=[], additional_filters=[])\n",
      "DataLoaderConfig(additional_frames=[], additional_transforms=[<bound method FrameTransformers.log_fold_change_protein of <src.pipeline.dataloader.FrameTransformers object at 0x7ff32e576ca0>>], additional_filters=[<bound method FrameFilters.is_precursor of <src.pipeline.dataloader.FrameFilters object at 0x7ff32e576dc0>>])\n"
     ]
    },
    {
     "name": "stderr",
     "output_type": "stream",
     "text": [
      "/home/tvangraft/tudelft/thesis/metaengineering/src/pipeline/dataloader.py:161: FutureWarning: X.dtype being converted to np.float32 from float64. In the next version of anndata (0.9) conversion will not be automatic. Pass dtype explicitly to avoid this warning. Pass `AnnData(X, dtype=X.dtype, ...)` to get the future behavour.\n",
      "  self.current_frame = AnnData(\n",
      "/home/tvangraft/tudelft/thesis/metaengineering/src/pipeline/dataloader.py:161: FutureWarning: X.dtype being converted to np.float32 from float64. In the next version of anndata (0.9) conversion will not be automatic. Pass dtype explicitly to avoid this warning. Pass `AnnData(X, dtype=X.dtype, ...)` to get the future behavour.\n",
      "  self.current_frame = AnnData(\n"
     ]
    },
    {
     "name": "stdout",
     "output_type": "stream",
     "text": [
      "DecisionRegressor model\n",
      "total sum of squared = 0.26839248338316174\n",
      "residual sum of squared = 0.12715435196249256\n",
      "y_train.shape=(14,) y_test.shape=(4,)\n",
      "0.526237283698572\n",
      "0.7971152449237056\n",
      "SVR model\n",
      "total sum of squared = 0.5398087785228103\n",
      "residual sum of squared = 0.7254822705605585\n",
      "y_train.shape=(76,) y_test.shape=(19,)\n",
      "-0.3439616016357583\n",
      "0.13592635998491773\n",
      "SVR model\n",
      "total sum of squared = 5.3116830392590355\n",
      "residual sum of squared = 9.286329777238786\n",
      "y_train.shape=(76,) y_test.shape=(19,)\n",
      "-0.7482838694633787\n",
      "-0.18902877604437698\n",
      "SVR model\n",
      "total sum of squared = 5.9357209723744075\n",
      "residual sum of squared = 12.133059584143158\n",
      "y_train.shape=(76,) y_test.shape=(19,)\n",
      "-1.0440751242539776\n",
      "-0.33733100001739513\n",
      "SVR model\n",
      "total sum of squared = 5.5301823033095365\n",
      "residual sum of squared = 6.643117110204926\n",
      "y_train.shape=(76,) y_test.shape=(19,)\n",
      "-0.20124739942648073\n",
      "0.1687286000637953\n",
      "ElasticNet model\n",
      "total sum of squared = 10.928554422699076\n",
      "residual sum of squared = 12.085035246053305\n",
      "y_train.shape=(76,) y_test.shape=(19,)\n",
      "-0.1058219393547759\n",
      "0.12787465227830602\n",
      "SVR model\n",
      "total sum of squared = 6.5828202559158475\n",
      "residual sum of squared = 12.083358919301798\n",
      "y_train.shape=(76,) y_test.shape=(19,)\n",
      "-0.835589982643492\n",
      "-0.25438686484506035\n",
      "SVR model\n",
      "total sum of squared = 4.18997650426915\n",
      "residual sum of squared = 10.99598897033162\n",
      "y_train.shape=(76,) y_test.shape=(19,)\n",
      "-1.6243557593050588\n",
      "-0.3294751355428342\n",
      "DecisionRegressor model\n",
      "total sum of squared = 0.09554849085884187\n",
      "residual sum of squared = 0.1435161438788664\n",
      "y_train.shape=(14,) y_test.shape=(4,)\n",
      "-0.5020241825785541\n",
      "0.36782900116423695\n",
      "SVR model\n",
      "total sum of squared = 0.06777343413656847\n",
      "residual sum of squared = 0.9288019998001855\n",
      "y_train.shape=(14,) y_test.shape=(4,)\n",
      "-12.70451433711594\n",
      "-0.4391930689061414\n",
      "ElasticNet model\n",
      "total sum of squared = 0.035260371923859904\n",
      "residual sum of squared = 0.12427467440882022\n",
      "y_train.shape=(14,) y_test.shape=(4,)\n",
      "-2.5244856372239886\n",
      "-0.14734128255159293\n"
     ]
    },
    {
     "data": {
      "text/plain": [
       "defaultdict(<function __main__.<lambda>()>,\n",
       "            {'g6p;g6p-B': [0.7971152449237056],\n",
       "             'g6p;f6p;g6p-B': [0.13592635998491773],\n",
       "             'f6p': [-0.18902877604437698],\n",
       "             'dhap': [-0.33733100001739513],\n",
       "             '3pg;2pg': [0.1687286000637953],\n",
       "             'pep': [0.12787465227830602],\n",
       "             'pyr': [-0.25438686484506035],\n",
       "             'r5p': [-0.3294751355428342],\n",
       "             'accoa': [0.36782900116423695],\n",
       "             'akg': [-0.4391930689061414],\n",
       "             'oaa': [-0.14734128255159293]})"
      ]
     },
     "execution_count": 33,
     "metadata": {},
     "output_type": "execute_result"
    }
   ],
   "source": [
    "results = defaultdict(lambda: list())\n",
    "pred_results = defaultdict(lambda: dict())\n",
    "model = build_model_pipeline(tier=Tier.TIER0)\n",
    "gen = get_generator(\n",
    "    strategy=Strategy.METABOLITE_CENTRIC,\n",
    "    tier=Tier.TIER0,\n",
    "    config=config\n",
    ")\n",
    "\n",
    "for tf in gen:\n",
    "    c_best_model = best_models[best_models['metabolite_id'] == tf.frame_name]\n",
    "    model = cv_result_to_model(model, c_best_model)\n",
    "\n",
    "    df = tf.x.reset_index()\n",
    "    X_train, X_test, y_train, y_test = train_test_split(\n",
    "        df,\n",
    "        tf.y,\n",
    "        test_size=0.2,\n",
    "        random_state=0,\n",
    "        shuffle=False\n",
    "    )\n",
    "\n",
    "    # if all(c_best_model['param_regressor__regressor'].str.contains('SVR')):\n",
    "    #     continue\n",
    "\n",
    "    model.fit(X_train, y_train)\n",
    "    prediction = model.predict(X_test)\n",
    "\n",
    "    print(f'total sum of squared = {((y_test - y_test.mean()) ** 2).sum()}')\n",
    "    print(f'residual sum of squared = {((y_test - prediction) ** 2).sum()}')\n",
    "    print(f'{y_train.shape=} {y_test.shape=}')\n",
    "    print(f'{model.score(X_test, y_test)}')\n",
    "    print(f'{pearsonr(y_test, model.predict(X_test))[0]}')\n",
    "\n",
    "    results[tf.frame_name].append(pearsonr(y_test, model.predict(X_test))[0])\n",
    "    pred_results[tf.frame_name].update({\n",
    "        'y_true': y_test.values,\n",
    "        'y_pred': model.predict(X_test)\n",
    "    })\n",
    "\n",
    "    # for _ in range(10):\n",
    "    #     model.fit(X_train, y_train)\n",
    "    #     results[tf.frame_name].append(model.score(X_test, y_test))\n",
    "        # print(model.score(X_test, y_test))\n",
    "        \n",
    "pd.DataFrame.from_dict(results).to_csv(f'{EXPERIMENT_PATH}/best_model_performance.csv')\n",
    "pd.DataFrame.from_dict(pred_results).to_json(f'{EXPERIMENT_PATH}/best_model_prediction_performance.json')\n",
    "results"
   ]
  },
  {
   "cell_type": "markdown",
   "metadata": {},
   "source": [
    "## Simple data model (Tier 1)"
   ]
  },
  {
   "cell_type": "code",
   "execution_count": 8,
   "metadata": {},
   "outputs": [
    {
     "name": "stderr",
     "output_type": "stream",
     "text": [
      "/home/tvangraft/tudelft/thesis/metaengineering/src/pipeline/dataloader.py:64: FutureWarning: X.dtype being converted to np.float32 from float64. In the next version of anndata (0.9) conversion will not be automatic. Pass dtype explicitly to avoid this warning. Pass `AnnData(X, dtype=X.dtype, ...)` to get the future behavour.\n",
      "  self.current_frame = AnnData(\n"
     ]
    }
   ],
   "source": [
    "model = build_model_pipeline()\n",
    "cv = RepeatedKFold(n_repeats=10, random_state=0)"
   ]
  },
  {
   "cell_type": "code",
   "execution_count": null,
   "metadata": {},
   "outputs": [],
   "source": [
    "gen = get_generator()\n",
    "\n",
    "\n",
    "for tf in gen:\n",
    "    if not(os.path.exists(f'{tf.title}_{tf.frame_name}.csv')):\n",
    "        print(f'Training: {tf.title}_{tf.frame_name}.csv')\n",
    "\n",
    "        df = tf.x.reset_index()\n",
    "        X_train, X_test, y_train, y_test = train_test_split(\n",
    "            df,\n",
    "            tf.y,\n",
    "            test_size=0.2,\n",
    "            random_state=0,\n",
    "            shuffle=False\n",
    "        )\n",
    "\n",
    "        search = GridSearchCV(\n",
    "            model,\n",
    "            to_cv_params(params),\n",
    "            scoring='neg_mean_absolute_error',\n",
    "            n_jobs=-1,\n",
    "            refit=True,\n",
    "            cv=cv,\n",
    "            verbose=3,\n",
    "        )\n",
    "        search.fit(X_train, y_train)\n",
    "\n",
    "        df = pd.DataFrame(search.cv_results_)\n",
    "        df.to_csv(f'{tf.title}_{tf.frame_name}.csv')\n",
    "\n",
    "\n",
    "print(\"model score: %.3f\" % search.score(X_test, y_test))\n",
    "mean_absolute_error(y_test, search.predict(X_test))"
   ]
  },
  {
   "cell_type": "code",
   "execution_count": 11,
   "metadata": {},
   "outputs": [
    {
     "name": "stderr",
     "output_type": "stream",
     "text": [
      "/home/tvangraft/tudelft/thesis/metaengineering/src/pipeline/dataloader.py:64: FutureWarning: X.dtype being converted to np.float32 from float64. In the next version of anndata (0.9) conversion will not be automatic. Pass dtype explicitly to avoid this warning. Pass `AnnData(X, dtype=X.dtype, ...)` to get the future behavour.\n",
      "  self.current_frame = AnnData(\n"
     ]
    },
    {
     "name": "stdout",
     "output_type": "stream",
     "text": [
      "Training: Strategy.ALL_all.csv\n",
      "Fitting 50 folds for each of 17 candidates, totalling 850 fits\n"
     ]
    }
   ],
   "source": [
    "gen = get_generator(Strategy.ALL)\n",
    "\n",
    "for tf in gen:\n",
    "    if not(os.path.exists(f'{tf.title}_{tf.frame_name}.csv')):\n",
    "        print(f'Training: {tf.title}_{tf.frame_name}.csv')\n",
    "\n",
    "        df = tf.x.reset_index()\n",
    "        X_train, X_test, y_train, y_test = train_test_split(\n",
    "            df,\n",
    "            tf.y,\n",
    "            test_size=0.2,\n",
    "            random_state=0,\n",
    "            shuffle=False\n",
    "        )\n",
    "\n",
    "        search = GridSearchCV(\n",
    "            model,\n",
    "            to_cv_params(params),\n",
    "            scoring='neg_mean_absolute_error',\n",
    "            n_jobs=6,\n",
    "            refit=True,\n",
    "            cv=cv,\n",
    "            verbose=3,\n",
    "        )\n",
    "        search.fit(X_train, y_train)\n",
    "\n",
    "        df = pd.DataFrame(search.cv_results_)\n",
    "        df.to_csv(f'{tf.title}_{tf.frame_name}.csv')\n",
    "\n",
    "\n",
    "print(\"model score: %.3f\" % search.score(X_test, y_test))\n",
    "mean_absolute_error(y_test, search.predict(X_test))"
   ]
  },
  {
   "cell_type": "code",
   "execution_count": null,
   "metadata": {},
   "outputs": [],
   "source": [
    "dir = \"/home/tvangraft/tudelft/thesis/metaengineering/data/results/experiment_simple_baseline\"\n",
    "paths = glob.glob(dir + \"/*.csv\")\n",
    "\n",
    "metabolites_names = [path.rsplit('/', 1)[1].removesuffix('.csv').removeprefix('Strategy.METABOLITE_CENTRIC_') for path in paths]\n",
    "results_df = pd.concat([\n",
    "    pd.read_csv(path).assign(metabolite_id=metabolite_name) \n",
    "    for path, metabolite_name in zip(paths, metabolites_names)\n",
    "])\n",
    "results_df = results_df[(\n",
    "    (results_df['param_regressor__regressor'].str.contains('DecisionTreeRegressor', na=False)) & \\\n",
    "    (results_df['param_regressor__regressor__max_depth'] > 0)\n",
    ") | \\\n",
    "    (~results_df['param_regressor__regressor'].str.contains('DecisionTreeRegressor', na=False))\n",
    "]\n",
    "\n",
    "best_models = results_df[results_df.groupby(by='metabolite_id')['rank_test_score'].transform(min) == results_df['rank_test_score']]\n",
    "model = build_model_pipeline()\n",
    "results = defaultdict(lambda: list())"
   ]
  },
  {
   "cell_type": "code",
   "execution_count": null,
   "metadata": {},
   "outputs": [
    {
     "data": {
      "text/plain": [
       "(51,)"
      ]
     },
     "execution_count": 65,
     "metadata": {},
     "output_type": "execute_result"
    }
   ],
   "source": [
    "results_df['metabolite_id'].unique().shape"
   ]
  },
  {
   "cell_type": "code",
   "execution_count": null,
   "metadata": {},
   "outputs": [
    {
     "data": {
      "text/plain": [
       "{'SVR': {'regressor__regressor': SVR(),\n",
       "  'regressor__regressor__kernel': ['linear', 'poly', 'rbf', 'sigmoid']},\n",
       " 'DecisionTreeRegressor': {'regressor__regressor': DecisionTreeRegressor(),\n",
       "  'regressor__regressor__criterion': ['squared_error', 'friedman_mse'],\n",
       "  'regressor__regressor__max_depth': [5, 10, 20, 15]},\n",
       " 'GammaRegressor': {'regressor__regressor': GammaRegressor(),\n",
       "  'regressor__regressor__alpha': [0, 1, 10],\n",
       "  'transformer': [MinMaxScaler()]},\n",
       " 'ElasticNet': {'regressor__regressor': ElasticNet(),\n",
       "  'regressor__regressor__l1_ratio': [0, 0.25, 0.5, 0.75, 1]}}"
      ]
     },
     "execution_count": 87,
     "metadata": {},
     "output_type": "execute_result"
    }
   ],
   "source": [
    "params"
   ]
  },
  {
   "cell_type": "code",
   "execution_count": null,
   "metadata": {},
   "outputs": [],
   "source": []
  },
  {
   "cell_type": "code",
   "execution_count": null,
   "metadata": {},
   "outputs": [
    {
     "name": "stderr",
     "output_type": "stream",
     "text": [
      "/home/tvangraft/tudelft/thesis/metaengineering/src/pipeline/dataloader.py:64: FutureWarning: X.dtype being converted to np.float32 from float64. In the next version of anndata (0.9) conversion will not be automatic. Pass dtype explicitly to avoid this warning. Pass `AnnData(X, dtype=X.dtype, ...)` to get the future behavour.\n",
      "  self.current_frame = AnnData(\n",
      "/home/tvangraft/tudelft/thesis/metaengineering/src/pipeline/dataloader.py:64: FutureWarning: X.dtype being converted to np.float32 from float64. In the next version of anndata (0.9) conversion will not be automatic. Pass dtype explicitly to avoid this warning. Pass `AnnData(X, dtype=X.dtype, ...)` to get the future behavour.\n",
      "  self.current_frame = AnnData(\n"
     ]
    }
   ],
   "source": [
    "gen = get_generator()\n",
    "best_models = results_df[results_df.groupby(by='metabolite_id')['rank_test_score'].transform(min) == results_df['rank_test_score']]\n",
    "model = build_model_pipeline()\n",
    "results = defaultdict(lambda: list())"
   ]
  },
  {
   "cell_type": "code",
   "execution_count": null,
   "metadata": {},
   "outputs": [
    {
     "data": {
      "text/html": [
       "<style>#sk-container-id-2 {color: black;background-color: white;}#sk-container-id-2 pre{padding: 0;}#sk-container-id-2 div.sk-toggleable {background-color: white;}#sk-container-id-2 label.sk-toggleable__label {cursor: pointer;display: block;width: 100%;margin-bottom: 0;padding: 0.3em;box-sizing: border-box;text-align: center;}#sk-container-id-2 label.sk-toggleable__label-arrow:before {content: \"▸\";float: left;margin-right: 0.25em;color: #696969;}#sk-container-id-2 label.sk-toggleable__label-arrow:hover:before {color: black;}#sk-container-id-2 div.sk-estimator:hover label.sk-toggleable__label-arrow:before {color: black;}#sk-container-id-2 div.sk-toggleable__content {max-height: 0;max-width: 0;overflow: hidden;text-align: left;background-color: #f0f8ff;}#sk-container-id-2 div.sk-toggleable__content pre {margin: 0.2em;color: black;border-radius: 0.25em;background-color: #f0f8ff;}#sk-container-id-2 input.sk-toggleable__control:checked~div.sk-toggleable__content {max-height: 200px;max-width: 100%;overflow: auto;}#sk-container-id-2 input.sk-toggleable__control:checked~label.sk-toggleable__label-arrow:before {content: \"▾\";}#sk-container-id-2 div.sk-estimator input.sk-toggleable__control:checked~label.sk-toggleable__label {background-color: #d4ebff;}#sk-container-id-2 div.sk-label input.sk-toggleable__control:checked~label.sk-toggleable__label {background-color: #d4ebff;}#sk-container-id-2 input.sk-hidden--visually {border: 0;clip: rect(1px 1px 1px 1px);clip: rect(1px, 1px, 1px, 1px);height: 1px;margin: -1px;overflow: hidden;padding: 0;position: absolute;width: 1px;}#sk-container-id-2 div.sk-estimator {font-family: monospace;background-color: #f0f8ff;border: 1px dotted black;border-radius: 0.25em;box-sizing: border-box;margin-bottom: 0.5em;}#sk-container-id-2 div.sk-estimator:hover {background-color: #d4ebff;}#sk-container-id-2 div.sk-parallel-item::after {content: \"\";width: 100%;border-bottom: 1px solid gray;flex-grow: 1;}#sk-container-id-2 div.sk-label:hover label.sk-toggleable__label {background-color: #d4ebff;}#sk-container-id-2 div.sk-serial::before {content: \"\";position: absolute;border-left: 1px solid gray;box-sizing: border-box;top: 0;bottom: 0;left: 50%;z-index: 0;}#sk-container-id-2 div.sk-serial {display: flex;flex-direction: column;align-items: center;background-color: white;padding-right: 0.2em;padding-left: 0.2em;position: relative;}#sk-container-id-2 div.sk-item {position: relative;z-index: 1;}#sk-container-id-2 div.sk-parallel {display: flex;align-items: stretch;justify-content: center;background-color: white;position: relative;}#sk-container-id-2 div.sk-item::before, #sk-container-id-2 div.sk-parallel-item::before {content: \"\";position: absolute;border-left: 1px solid gray;box-sizing: border-box;top: 0;bottom: 0;left: 50%;z-index: -1;}#sk-container-id-2 div.sk-parallel-item {display: flex;flex-direction: column;z-index: 1;position: relative;background-color: white;}#sk-container-id-2 div.sk-parallel-item:first-child::after {align-self: flex-end;width: 50%;}#sk-container-id-2 div.sk-parallel-item:last-child::after {align-self: flex-start;width: 50%;}#sk-container-id-2 div.sk-parallel-item:only-child::after {width: 0;}#sk-container-id-2 div.sk-dashed-wrapped {border: 1px dashed gray;margin: 0 0.4em 0.5em 0.4em;box-sizing: border-box;padding-bottom: 0.4em;background-color: white;}#sk-container-id-2 div.sk-label label {font-family: monospace;font-weight: bold;display: inline-block;line-height: 1.2em;}#sk-container-id-2 div.sk-label-container {text-align: center;}#sk-container-id-2 div.sk-container {/* jupyter's `normalize.less` sets `[hidden] { display: none; }` but bootstrap.min.css set `[hidden] { display: none !important; }` so we also need the `!important` here to be able to override the default hidden behavior on the sphinx rendered scikit-learn.org. See: https://github.com/scikit-learn/scikit-learn/issues/21755 */display: inline-block !important;position: relative;}#sk-container-id-2 div.sk-text-repr-fallback {display: none;}</style><div id=\"sk-container-id-2\" class=\"sk-top-container\"><div class=\"sk-text-repr-fallback\"><pre>TransformedTargetRegressor(regressor=Pipeline(steps=[(&#x27;preprocessor&#x27;,\n",
       "                                                      ColumnTransformer(transformers=[(&#x27;num&#x27;,\n",
       "                                                                                       Pipeline(steps=[(&#x27;scaler&#x27;,\n",
       "                                                                                                        StandardScaler())]),\n",
       "                                                                                       [&#x27;enzyme_concentration&#x27;]),\n",
       "                                                                                      (&#x27;cat&#x27;,\n",
       "                                                                                       OneHotEncoder(categories=[array([&#x27;WT&#x27;, &#x27;YAL017W&#x27;, &#x27;YAR018C&#x27;, &#x27;YBL016W&#x27;, &#x27;YBL088C&#x27;, &#x27;YBR028C&#x27;,\n",
       "       &#x27;YBR059C&#x27;, &#x27;YBR097W&#x27;, &#x27;YBR274W&#x27;, &#x27;YCL024W&#x27;, &#x27;YCR073C&#x27;, &#x27;YDL025C&#x27;,\n",
       "       &#x27;YDL079C&#x27;, &#x27;YDL1...\n",
       "       &#x27;YPL231W&#x27;, &#x27;YPL235W&#x27;, &#x27;YPL240C&#x27;, &#x27;YPL249C-A&#x27;, &#x27;YPL262W&#x27;, &#x27;YPR004C&#x27;,\n",
       "       &#x27;YPR016C&#x27;, &#x27;YPR024W&#x27;, &#x27;YPR028W&#x27;, &#x27;YPR033C&#x27;, &#x27;YPR035W&#x27;, &#x27;YPR036W&#x27;,\n",
       "       &#x27;YPR041W&#x27;, &#x27;YPR052C&#x27;, &#x27;YPR062W&#x27;, &#x27;YPR069C&#x27;, &#x27;YPR074C&#x27;, &#x27;YPR103W&#x27;,\n",
       "       &#x27;YPR110C&#x27;, &#x27;YPR118W&#x27;, &#x27;YPR129W&#x27;, &#x27;YPR133C&#x27;, &#x27;YPR145W&#x27;, &#x27;YPR160W&#x27;,\n",
       "       &#x27;YPR163C&#x27;, &#x27;YPR165W&#x27;, &#x27;YPR181C&#x27;, &#x27;YPR183W&#x27;, &#x27;YPR187W&#x27;, &#x27;YPR191W&#x27;],\n",
       "      dtype=object)]),\n",
       "                                                                                       [&#x27;KO_ORF&#x27;,\n",
       "                                                                                        &#x27;ORF&#x27;])])),\n",
       "                                                     (&#x27;regressor&#x27;,\n",
       "                                                      DecisionTreeRegressor())]))</pre><b>In a Jupyter environment, please rerun this cell to show the HTML representation or trust the notebook. <br />On GitHub, the HTML representation is unable to render, please try loading this page with nbviewer.org.</b></div><div class=\"sk-container\" hidden><div class=\"sk-item sk-dashed-wrapped\"><div class=\"sk-label-container\"><div class=\"sk-label sk-toggleable\"><input class=\"sk-toggleable__control sk-hidden--visually\" id=\"sk-estimator-id-11\" type=\"checkbox\" ><label for=\"sk-estimator-id-11\" class=\"sk-toggleable__label sk-toggleable__label-arrow\">TransformedTargetRegressor</label><div class=\"sk-toggleable__content\"><pre>TransformedTargetRegressor(regressor=Pipeline(steps=[(&#x27;preprocessor&#x27;,\n",
       "                                                      ColumnTransformer(transformers=[(&#x27;num&#x27;,\n",
       "                                                                                       Pipeline(steps=[(&#x27;scaler&#x27;,\n",
       "                                                                                                        StandardScaler())]),\n",
       "                                                                                       [&#x27;enzyme_concentration&#x27;]),\n",
       "                                                                                      (&#x27;cat&#x27;,\n",
       "                                                                                       OneHotEncoder(categories=[array([&#x27;WT&#x27;, &#x27;YAL017W&#x27;, &#x27;YAR018C&#x27;, &#x27;YBL016W&#x27;, &#x27;YBL088C&#x27;, &#x27;YBR028C&#x27;,\n",
       "       &#x27;YBR059C&#x27;, &#x27;YBR097W&#x27;, &#x27;YBR274W&#x27;, &#x27;YCL024W&#x27;, &#x27;YCR073C&#x27;, &#x27;YDL025C&#x27;,\n",
       "       &#x27;YDL079C&#x27;, &#x27;YDL1...\n",
       "       &#x27;YPL231W&#x27;, &#x27;YPL235W&#x27;, &#x27;YPL240C&#x27;, &#x27;YPL249C-A&#x27;, &#x27;YPL262W&#x27;, &#x27;YPR004C&#x27;,\n",
       "       &#x27;YPR016C&#x27;, &#x27;YPR024W&#x27;, &#x27;YPR028W&#x27;, &#x27;YPR033C&#x27;, &#x27;YPR035W&#x27;, &#x27;YPR036W&#x27;,\n",
       "       &#x27;YPR041W&#x27;, &#x27;YPR052C&#x27;, &#x27;YPR062W&#x27;, &#x27;YPR069C&#x27;, &#x27;YPR074C&#x27;, &#x27;YPR103W&#x27;,\n",
       "       &#x27;YPR110C&#x27;, &#x27;YPR118W&#x27;, &#x27;YPR129W&#x27;, &#x27;YPR133C&#x27;, &#x27;YPR145W&#x27;, &#x27;YPR160W&#x27;,\n",
       "       &#x27;YPR163C&#x27;, &#x27;YPR165W&#x27;, &#x27;YPR181C&#x27;, &#x27;YPR183W&#x27;, &#x27;YPR187W&#x27;, &#x27;YPR191W&#x27;],\n",
       "      dtype=object)]),\n",
       "                                                                                       [&#x27;KO_ORF&#x27;,\n",
       "                                                                                        &#x27;ORF&#x27;])])),\n",
       "                                                     (&#x27;regressor&#x27;,\n",
       "                                                      DecisionTreeRegressor())]))</pre></div></div></div><div class=\"sk-parallel\"><div class=\"sk-parallel-item\"><div class=\"sk-item\"><div class=\"sk-label-container\"><div class=\"sk-label sk-toggleable\"><input class=\"sk-toggleable__control sk-hidden--visually\" id=\"sk-estimator-id-12\" type=\"checkbox\" ><label for=\"sk-estimator-id-12\" class=\"sk-toggleable__label sk-toggleable__label-arrow\">regressor: Pipeline</label><div class=\"sk-toggleable__content\"><pre>Pipeline(steps=[(&#x27;preprocessor&#x27;,\n",
       "                 ColumnTransformer(transformers=[(&#x27;num&#x27;,\n",
       "                                                  Pipeline(steps=[(&#x27;scaler&#x27;,\n",
       "                                                                   StandardScaler())]),\n",
       "                                                  [&#x27;enzyme_concentration&#x27;]),\n",
       "                                                 (&#x27;cat&#x27;,\n",
       "                                                  OneHotEncoder(categories=[array([&#x27;WT&#x27;, &#x27;YAL017W&#x27;, &#x27;YAR018C&#x27;, &#x27;YBL016W&#x27;, &#x27;YBL088C&#x27;, &#x27;YBR028C&#x27;,\n",
       "       &#x27;YBR059C&#x27;, &#x27;YBR097W&#x27;, &#x27;YBR274W&#x27;, &#x27;YCL024W&#x27;, &#x27;YCR073C&#x27;, &#x27;YDL025C&#x27;,\n",
       "       &#x27;YDL079C&#x27;, &#x27;YDL159W&#x27;, &#x27;YDL214C&#x27;, &#x27;YDR122W&#x27;, &#x27;YDR247W&#x27;, &#x27;Y...\n",
       "       &#x27;YPL231W&#x27;, &#x27;YPL235W&#x27;, &#x27;YPL240C&#x27;, &#x27;YPL249C-A&#x27;, &#x27;YPL262W&#x27;, &#x27;YPR004C&#x27;,\n",
       "       &#x27;YPR016C&#x27;, &#x27;YPR024W&#x27;, &#x27;YPR028W&#x27;, &#x27;YPR033C&#x27;, &#x27;YPR035W&#x27;, &#x27;YPR036W&#x27;,\n",
       "       &#x27;YPR041W&#x27;, &#x27;YPR052C&#x27;, &#x27;YPR062W&#x27;, &#x27;YPR069C&#x27;, &#x27;YPR074C&#x27;, &#x27;YPR103W&#x27;,\n",
       "       &#x27;YPR110C&#x27;, &#x27;YPR118W&#x27;, &#x27;YPR129W&#x27;, &#x27;YPR133C&#x27;, &#x27;YPR145W&#x27;, &#x27;YPR160W&#x27;,\n",
       "       &#x27;YPR163C&#x27;, &#x27;YPR165W&#x27;, &#x27;YPR181C&#x27;, &#x27;YPR183W&#x27;, &#x27;YPR187W&#x27;, &#x27;YPR191W&#x27;],\n",
       "      dtype=object)]),\n",
       "                                                  [&#x27;KO_ORF&#x27;, &#x27;ORF&#x27;])])),\n",
       "                (&#x27;regressor&#x27;, DecisionTreeRegressor())])</pre></div></div></div><div class=\"sk-serial\"><div class=\"sk-item\"><div class=\"sk-serial\"><div class=\"sk-item sk-dashed-wrapped\"><div class=\"sk-label-container\"><div class=\"sk-label sk-toggleable\"><input class=\"sk-toggleable__control sk-hidden--visually\" id=\"sk-estimator-id-13\" type=\"checkbox\" ><label for=\"sk-estimator-id-13\" class=\"sk-toggleable__label sk-toggleable__label-arrow\">preprocessor: ColumnTransformer</label><div class=\"sk-toggleable__content\"><pre>ColumnTransformer(transformers=[(&#x27;num&#x27;,\n",
       "                                 Pipeline(steps=[(&#x27;scaler&#x27;, StandardScaler())]),\n",
       "                                 [&#x27;enzyme_concentration&#x27;]),\n",
       "                                (&#x27;cat&#x27;,\n",
       "                                 OneHotEncoder(categories=[array([&#x27;WT&#x27;, &#x27;YAL017W&#x27;, &#x27;YAR018C&#x27;, &#x27;YBL016W&#x27;, &#x27;YBL088C&#x27;, &#x27;YBR028C&#x27;,\n",
       "       &#x27;YBR059C&#x27;, &#x27;YBR097W&#x27;, &#x27;YBR274W&#x27;, &#x27;YCL024W&#x27;, &#x27;YCR073C&#x27;, &#x27;YDL025C&#x27;,\n",
       "       &#x27;YDL079C&#x27;, &#x27;YDL159W&#x27;, &#x27;YDL214C&#x27;, &#x27;YDR122W&#x27;, &#x27;YDR247W&#x27;, &#x27;YDR283C&#x27;,\n",
       "       &#x27;YDR466W&#x27;, &#x27;YDR477W&#x27;, &#x27;YDR...\n",
       "       &#x27;YPL145C&#x27;, &#x27;YPL154C&#x27;, &#x27;YPL160W&#x27;, &#x27;YPL218W&#x27;, &#x27;YPL225W&#x27;, &#x27;YPL226W&#x27;,\n",
       "       &#x27;YPL231W&#x27;, &#x27;YPL235W&#x27;, &#x27;YPL240C&#x27;, &#x27;YPL249C-A&#x27;, &#x27;YPL262W&#x27;, &#x27;YPR004C&#x27;,\n",
       "       &#x27;YPR016C&#x27;, &#x27;YPR024W&#x27;, &#x27;YPR028W&#x27;, &#x27;YPR033C&#x27;, &#x27;YPR035W&#x27;, &#x27;YPR036W&#x27;,\n",
       "       &#x27;YPR041W&#x27;, &#x27;YPR052C&#x27;, &#x27;YPR062W&#x27;, &#x27;YPR069C&#x27;, &#x27;YPR074C&#x27;, &#x27;YPR103W&#x27;,\n",
       "       &#x27;YPR110C&#x27;, &#x27;YPR118W&#x27;, &#x27;YPR129W&#x27;, &#x27;YPR133C&#x27;, &#x27;YPR145W&#x27;, &#x27;YPR160W&#x27;,\n",
       "       &#x27;YPR163C&#x27;, &#x27;YPR165W&#x27;, &#x27;YPR181C&#x27;, &#x27;YPR183W&#x27;, &#x27;YPR187W&#x27;, &#x27;YPR191W&#x27;],\n",
       "      dtype=object)]),\n",
       "                                 [&#x27;KO_ORF&#x27;, &#x27;ORF&#x27;])])</pre></div></div></div><div class=\"sk-parallel\"><div class=\"sk-parallel-item\"><div class=\"sk-item\"><div class=\"sk-label-container\"><div class=\"sk-label sk-toggleable\"><input class=\"sk-toggleable__control sk-hidden--visually\" id=\"sk-estimator-id-14\" type=\"checkbox\" ><label for=\"sk-estimator-id-14\" class=\"sk-toggleable__label sk-toggleable__label-arrow\">num</label><div class=\"sk-toggleable__content\"><pre>[&#x27;enzyme_concentration&#x27;]</pre></div></div></div><div class=\"sk-serial\"><div class=\"sk-item\"><div class=\"sk-serial\"><div class=\"sk-item\"><div class=\"sk-estimator sk-toggleable\"><input class=\"sk-toggleable__control sk-hidden--visually\" id=\"sk-estimator-id-15\" type=\"checkbox\" ><label for=\"sk-estimator-id-15\" class=\"sk-toggleable__label sk-toggleable__label-arrow\">StandardScaler</label><div class=\"sk-toggleable__content\"><pre>StandardScaler()</pre></div></div></div></div></div></div></div></div><div class=\"sk-parallel-item\"><div class=\"sk-item\"><div class=\"sk-label-container\"><div class=\"sk-label sk-toggleable\"><input class=\"sk-toggleable__control sk-hidden--visually\" id=\"sk-estimator-id-16\" type=\"checkbox\" ><label for=\"sk-estimator-id-16\" class=\"sk-toggleable__label sk-toggleable__label-arrow\">cat</label><div class=\"sk-toggleable__content\"><pre>[&#x27;KO_ORF&#x27;, &#x27;ORF&#x27;]</pre></div></div></div><div class=\"sk-serial\"><div class=\"sk-item\"><div class=\"sk-estimator sk-toggleable\"><input class=\"sk-toggleable__control sk-hidden--visually\" id=\"sk-estimator-id-17\" type=\"checkbox\" ><label for=\"sk-estimator-id-17\" class=\"sk-toggleable__label sk-toggleable__label-arrow\">OneHotEncoder</label><div class=\"sk-toggleable__content\"><pre>OneHotEncoder(categories=[array([&#x27;WT&#x27;, &#x27;YAL017W&#x27;, &#x27;YAR018C&#x27;, &#x27;YBL016W&#x27;, &#x27;YBL088C&#x27;, &#x27;YBR028C&#x27;,\n",
       "       &#x27;YBR059C&#x27;, &#x27;YBR097W&#x27;, &#x27;YBR274W&#x27;, &#x27;YCL024W&#x27;, &#x27;YCR073C&#x27;, &#x27;YDL025C&#x27;,\n",
       "       &#x27;YDL079C&#x27;, &#x27;YDL159W&#x27;, &#x27;YDL214C&#x27;, &#x27;YDR122W&#x27;, &#x27;YDR247W&#x27;, &#x27;YDR283C&#x27;,\n",
       "       &#x27;YDR466W&#x27;, &#x27;YDR477W&#x27;, &#x27;YDR490C&#x27;, &#x27;YDR523C&#x27;, &#x27;YER129W&#x27;, &#x27;YFL033C&#x27;,\n",
       "       &#x27;YFR014C&#x27;, &#x27;YGL021W&#x27;, &#x27;YGL083W&#x27;, &#x27;YGL119W&#x27;, &#x27;YGL158W&#x27;, &#x27;YGL179C&#x27;,\n",
       "       &#x27;YGL180W&#x27;, &#x27;YGR040W&#x27;, &#x27;Y...\n",
       "       &#x27;YPL145C&#x27;, &#x27;YPL154C&#x27;, &#x27;YPL160W&#x27;, &#x27;YPL218W&#x27;, &#x27;YPL225W&#x27;, &#x27;YPL226W&#x27;,\n",
       "       &#x27;YPL231W&#x27;, &#x27;YPL235W&#x27;, &#x27;YPL240C&#x27;, &#x27;YPL249C-A&#x27;, &#x27;YPL262W&#x27;, &#x27;YPR004C&#x27;,\n",
       "       &#x27;YPR016C&#x27;, &#x27;YPR024W&#x27;, &#x27;YPR028W&#x27;, &#x27;YPR033C&#x27;, &#x27;YPR035W&#x27;, &#x27;YPR036W&#x27;,\n",
       "       &#x27;YPR041W&#x27;, &#x27;YPR052C&#x27;, &#x27;YPR062W&#x27;, &#x27;YPR069C&#x27;, &#x27;YPR074C&#x27;, &#x27;YPR103W&#x27;,\n",
       "       &#x27;YPR110C&#x27;, &#x27;YPR118W&#x27;, &#x27;YPR129W&#x27;, &#x27;YPR133C&#x27;, &#x27;YPR145W&#x27;, &#x27;YPR160W&#x27;,\n",
       "       &#x27;YPR163C&#x27;, &#x27;YPR165W&#x27;, &#x27;YPR181C&#x27;, &#x27;YPR183W&#x27;, &#x27;YPR187W&#x27;, &#x27;YPR191W&#x27;],\n",
       "      dtype=object)])</pre></div></div></div></div></div></div></div></div><div class=\"sk-item\"><div class=\"sk-estimator sk-toggleable\"><input class=\"sk-toggleable__control sk-hidden--visually\" id=\"sk-estimator-id-18\" type=\"checkbox\" ><label for=\"sk-estimator-id-18\" class=\"sk-toggleable__label sk-toggleable__label-arrow\">DecisionTreeRegressor</label><div class=\"sk-toggleable__content\"><pre>DecisionTreeRegressor()</pre></div></div></div></div></div></div></div></div></div></div></div></div>"
      ],
      "text/plain": [
       "TransformedTargetRegressor(regressor=Pipeline(steps=[('preprocessor',\n",
       "                                                      ColumnTransformer(transformers=[('num',\n",
       "                                                                                       Pipeline(steps=[('scaler',\n",
       "                                                                                                        StandardScaler())]),\n",
       "                                                                                       ['enzyme_concentration']),\n",
       "                                                                                      ('cat',\n",
       "                                                                                       OneHotEncoder(categories=[array(['WT', 'YAL017W', 'YAR018C', 'YBL016W', 'YBL088C', 'YBR028C',\n",
       "       'YBR059C', 'YBR097W', 'YBR274W', 'YCL024W', 'YCR073C', 'YDL025C',\n",
       "       'YDL079C', 'YDL1...\n",
       "       'YPL231W', 'YPL235W', 'YPL240C', 'YPL249C-A', 'YPL262W', 'YPR004C',\n",
       "       'YPR016C', 'YPR024W', 'YPR028W', 'YPR033C', 'YPR035W', 'YPR036W',\n",
       "       'YPR041W', 'YPR052C', 'YPR062W', 'YPR069C', 'YPR074C', 'YPR103W',\n",
       "       'YPR110C', 'YPR118W', 'YPR129W', 'YPR133C', 'YPR145W', 'YPR160W',\n",
       "       'YPR163C', 'YPR165W', 'YPR181C', 'YPR183W', 'YPR187W', 'YPR191W'],\n",
       "      dtype=object)]),\n",
       "                                                                                       ['KO_ORF',\n",
       "                                                                                        'ORF'])])),\n",
       "                                                     ('regressor',\n",
       "                                                      DecisionTreeRegressor())]))"
      ]
     },
     "execution_count": 127,
     "metadata": {},
     "output_type": "execute_result"
    }
   ],
   "source": [
    "model"
   ]
  },
  {
   "cell_type": "code",
   "execution_count": null,
   "metadata": {},
   "outputs": [
    {
     "name": "stdout",
     "output_type": "stream",
     "text": [
      "DecisionRegressor model\n",
      "total sum of squared = 1392099.5326913635\n",
      "residual sum of squared = 2253079.479447111\n",
      "-0.6184758535844088\n",
      "DecisionRegressor model\n",
      "total sum of squared = 103324.4644569933\n",
      "residual sum of squared = 220818.19920228282\n",
      "-1.1371337404240203\n",
      "DecisionRegressor model\n",
      "total sum of squared = 515.4311382614916\n",
      "residual sum of squared = 597.8503413665817\n",
      "-0.15990342256597767\n",
      "DecisionRegressor model\n",
      "total sum of squared = 35.94186138811382\n",
      "residual sum of squared = 53.25959266500437\n",
      "-0.4818262217943343\n",
      "DecisionRegressor model\n",
      "total sum of squared = 1500962.375562673\n",
      "residual sum of squared = 1746254.0579432724\n",
      "-0.16342293875863856\n",
      "SVR model\n",
      "DecisionRegressor model\n",
      "total sum of squared = 137.6481343441278\n",
      "residual sum of squared = 594.8658752747946\n",
      "-3.3216413946272425\n",
      "DecisionRegressor model\n",
      "total sum of squared = 32341.656671282974\n",
      "residual sum of squared = 44991.736925743375\n",
      "-0.39113890741697066\n",
      "SVR model\n",
      "SVR model\n",
      "DecisionRegressor model\n",
      "total sum of squared = 235.35807212027765\n",
      "residual sum of squared = 98.65581812968611\n",
      "0.5808267069791899\n",
      "SVR model\n",
      "DecisionRegressor model\n",
      "total sum of squared = 1808611.9580700235\n",
      "residual sum of squared = 6016882.395032787\n",
      "-2.3267956502142253\n",
      "DecisionRegressor model\n",
      "total sum of squared = 45601.997085919844\n",
      "residual sum of squared = 61141.53533014395\n",
      "-0.3407644234296512\n",
      "DecisionRegressor model\n",
      "total sum of squared = 841819.1393355771\n",
      "residual sum of squared = 2663738.6933391704\n",
      "-2.164264827052495\n",
      "DecisionRegressor model\n",
      "total sum of squared = 6.45818773812764\n",
      "residual sum of squared = 16.800751475954602\n",
      "-1.60146532699365\n",
      "DecisionRegressor model\n",
      "total sum of squared = 233854.96604364083\n",
      "residual sum of squared = 977820.1462120165\n",
      "-3.1813101631099876\n",
      "DecisionRegressor model\n",
      "total sum of squared = 226099.56881968453\n",
      "residual sum of squared = 306943.9939545367\n",
      "-0.35756116456518305\n",
      "DecisionRegressor model\n",
      "total sum of squared = 125148.69676691352\n",
      "residual sum of squared = 84442.2884217942\n",
      "0.32526434071410293\n",
      "SVR model\n",
      "SVR model\n",
      "DecisionRegressor model\n",
      "total sum of squared = 1179.8384361924207\n",
      "residual sum of squared = 2273.475219698871\n",
      "-0.9269377483885333\n",
      "SVR model\n",
      "SVR model\n",
      "SVR model\n"
     ]
    }
   ],
   "source": [
    "for tf in gen:\n",
    "    c_best_model = best_models[best_models['metabolite_id'] == tf.frame_name]\n",
    "    model = cv_result_to_model(model, c_best_model)\n",
    "\n",
    "    df = tf.x.reset_index()\n",
    "    X_train, X_test, y_train, y_test = train_test_split(\n",
    "        df,\n",
    "        tf.y,\n",
    "        test_size=0.2,\n",
    "        random_state=0,\n",
    "        shuffle=False\n",
    "    )\n",
    "\n",
    "    if all(c_best_model['param_regressor__regressor'].str.contains('SVR')):\n",
    "        continue\n",
    "\n",
    "    model.fit(X_train, y_train)\n",
    "    prediction = model.predict(X_test)\n",
    "\n",
    "    print(f'total sum of squared = {((y_test - y_test.mean()) ** 2).sum()}')\n",
    "    print(f'residual sum of squared = {((y_test - prediction) ** 2).sum()}')\n",
    "    print(f'{model.score(X_test, y_test)}')\n",
    "\n",
    "    results[tf.frame_name].append(model.score(X_test, y_test))\n",
    "\n",
    "    # for _ in range(10):\n",
    "    #     model.fit(X_train, y_train)\n",
    "    #     results[tf.frame_name].append(model.score(X_test, y_test))\n",
    "        # print(model.score(X_test, y_test))\n",
    "        \n",
    "pd.DataFrame.from_dict(results).to_csv('./data/results/experiment_simple_baseline/best_model_performance.csv')"
   ]
  },
  {
   "cell_type": "code",
   "execution_count": null,
   "metadata": {},
   "outputs": [
    {
     "data": {
      "image/png": "[encoded data removed]",
      "text/plain": [
       "<Figure size 2304x576 with 1 Axes>"
      ]
     },
     "metadata": {
      "needs_background": "light"
     },
     "output_type": "display_data"
    }
   ],
   "source": [
    "fig, ax = plt.subplots(figsize=(32,8))\n",
    "\n",
    "chart = sns.boxplot(\n",
    "    data=pd.DataFrame.from_dict(results)\n",
    ")\n",
    "\n",
    "chart.set_xticklabels(chart.get_xticklabels(), rotation=45)\n",
    "ax.set_ylabel('Adjusted R squared')\n",
    "plt.show()\n",
    "\n",
    "# ax.hlines(0)"
   ]
  },
  {
   "cell_type": "code",
   "execution_count": null,
   "metadata": {},
   "outputs": [],
   "source": [
    "results_df[['param_regressor__regressor', 'mean_test_score', 'rank_test_score', 'metabolite_id']].to_csv('test.csv')"
   ]
  },
  {
   "cell_type": "code",
   "execution_count": null,
   "metadata": {},
   "outputs": [],
   "source": [
    "best_models[['param_regressor__regressor', 'mean_test_score', 'rank_test_score']]"
   ]
  },
  {
   "cell_type": "code",
   "execution_count": null,
   "metadata": {},
   "outputs": [
    {
     "ename": "KeyError",
     "evalue": "'rank_test_score'",
     "output_type": "error",
     "traceback": [
      "\u001b[0;31m---------------------------------------------------------------------------\u001b[0m",
      "\u001b[0;31mKeyError\u001b[0m                                  Traceback (most recent call last)",
      "File \u001b[0;32m~/tudelft/thesis/.env/lib/python3.9/site-packages/pandas/core/indexes/base.py:3621\u001b[0m, in \u001b[0;36mIndex.get_loc\u001b[0;34m(self, key, method, tolerance)\u001b[0m\n\u001b[1;32m   3620\u001b[0m \u001b[39mtry\u001b[39;00m:\n\u001b[0;32m-> 3621\u001b[0m     \u001b[39mreturn\u001b[39;00m \u001b[39mself\u001b[39;49m\u001b[39m.\u001b[39;49m_engine\u001b[39m.\u001b[39;49mget_loc(casted_key)\n\u001b[1;32m   3622\u001b[0m \u001b[39mexcept\u001b[39;00m \u001b[39mKeyError\u001b[39;00m \u001b[39mas\u001b[39;00m err:\n",
      "File \u001b[0;32m~/tudelft/thesis/.env/lib/python3.9/site-packages/pandas/_libs/index.pyx:136\u001b[0m, in \u001b[0;36mpandas._libs.index.IndexEngine.get_loc\u001b[0;34m()\u001b[0m\n",
      "File \u001b[0;32m~/tudelft/thesis/.env/lib/python3.9/site-packages/pandas/_libs/index.pyx:163\u001b[0m, in \u001b[0;36mpandas._libs.index.IndexEngine.get_loc\u001b[0;34m()\u001b[0m\n",
      "File \u001b[0;32mpandas/_libs/hashtable_class_helper.pxi:5198\u001b[0m, in \u001b[0;36mpandas._libs.hashtable.PyObjectHashTable.get_item\u001b[0;34m()\u001b[0m\n",
      "File \u001b[0;32mpandas/_libs/hashtable_class_helper.pxi:5206\u001b[0m, in \u001b[0;36mpandas._libs.hashtable.PyObjectHashTable.get_item\u001b[0;34m()\u001b[0m\n",
      "\u001b[0;31mKeyError\u001b[0m: 'rank_test_score'",
      "\nThe above exception was the direct cause of the following exception:\n",
      "\u001b[0;31mKeyError\u001b[0m                                  Traceback (most recent call last)",
      "\u001b[1;32m/home/tvangraft/tudelft/thesis/metaengineering/runner.ipynb Cell 20\u001b[0m in \u001b[0;36m<cell line: 1>\u001b[0;34m()\u001b[0m\n\u001b[0;32m----> <a href='vscode-notebook-cell://wsl%2Bubuntu/home/tvangraft/tudelft/thesis/metaengineering/runner.ipynb#X25sdnNjb2RlLXJlbW90ZQ%3D%3D?line=0'>1</a>\u001b[0m best_models \u001b[39m=\u001b[39m df[df[\u001b[39m'\u001b[39;49m\u001b[39mrank_test_score\u001b[39;49m\u001b[39m'\u001b[39;49m] \u001b[39m==\u001b[39m \u001b[39m1\u001b[39m]\n\u001b[1;32m      <a href='vscode-notebook-cell://wsl%2Bubuntu/home/tvangraft/tudelft/thesis/metaengineering/runner.ipynb#X25sdnNjb2RlLXJlbW90ZQ%3D%3D?line=1'>2</a>\u001b[0m best_models[[\u001b[39m'\u001b[39m\u001b[39mparams\u001b[39m\u001b[39m'\u001b[39m, \u001b[39m'\u001b[39m\u001b[39mmetabolite_id\u001b[39m\u001b[39m'\u001b[39m]]\n",
      "File \u001b[0;32m~/tudelft/thesis/.env/lib/python3.9/site-packages/pandas/core/frame.py:3505\u001b[0m, in \u001b[0;36mDataFrame.__getitem__\u001b[0;34m(self, key)\u001b[0m\n\u001b[1;32m   3503\u001b[0m \u001b[39mif\u001b[39;00m \u001b[39mself\u001b[39m\u001b[39m.\u001b[39mcolumns\u001b[39m.\u001b[39mnlevels \u001b[39m>\u001b[39m \u001b[39m1\u001b[39m:\n\u001b[1;32m   3504\u001b[0m     \u001b[39mreturn\u001b[39;00m \u001b[39mself\u001b[39m\u001b[39m.\u001b[39m_getitem_multilevel(key)\n\u001b[0;32m-> 3505\u001b[0m indexer \u001b[39m=\u001b[39m \u001b[39mself\u001b[39;49m\u001b[39m.\u001b[39;49mcolumns\u001b[39m.\u001b[39;49mget_loc(key)\n\u001b[1;32m   3506\u001b[0m \u001b[39mif\u001b[39;00m is_integer(indexer):\n\u001b[1;32m   3507\u001b[0m     indexer \u001b[39m=\u001b[39m [indexer]\n",
      "File \u001b[0;32m~/tudelft/thesis/.env/lib/python3.9/site-packages/pandas/core/indexes/base.py:3623\u001b[0m, in \u001b[0;36mIndex.get_loc\u001b[0;34m(self, key, method, tolerance)\u001b[0m\n\u001b[1;32m   3621\u001b[0m     \u001b[39mreturn\u001b[39;00m \u001b[39mself\u001b[39m\u001b[39m.\u001b[39m_engine\u001b[39m.\u001b[39mget_loc(casted_key)\n\u001b[1;32m   3622\u001b[0m \u001b[39mexcept\u001b[39;00m \u001b[39mKeyError\u001b[39;00m \u001b[39mas\u001b[39;00m err:\n\u001b[0;32m-> 3623\u001b[0m     \u001b[39mraise\u001b[39;00m \u001b[39mKeyError\u001b[39;00m(key) \u001b[39mfrom\u001b[39;00m \u001b[39merr\u001b[39;00m\n\u001b[1;32m   3624\u001b[0m \u001b[39mexcept\u001b[39;00m \u001b[39mTypeError\u001b[39;00m:\n\u001b[1;32m   3625\u001b[0m     \u001b[39m# If we have a listlike key, _check_indexing_error will raise\u001b[39;00m\n\u001b[1;32m   3626\u001b[0m     \u001b[39m#  InvalidIndexError. Otherwise we fall through and re-raise\u001b[39;00m\n\u001b[1;32m   3627\u001b[0m     \u001b[39m#  the TypeError.\u001b[39;00m\n\u001b[1;32m   3628\u001b[0m     \u001b[39mself\u001b[39m\u001b[39m.\u001b[39m_check_indexing_error(key)\n",
      "\u001b[0;31mKeyError\u001b[0m: 'rank_test_score'"
     ]
    }
   ],
   "source": [
    "best_models = df[df['rank_test_score'] == 1]\n",
    "best_models[['params', 'metabolite_id']]"
   ]
  },
  {
   "cell_type": "code",
   "execution_count": null,
   "metadata": {},
   "outputs": [
    {
     "ename": "KeyError",
     "evalue": "'select'",
     "output_type": "error",
     "traceback": [
      "\u001b[0;31m---------------------------------------------------------------------------\u001b[0m",
      "\u001b[0;31mKeyError\u001b[0m                                  Traceback (most recent call last)",
      "\u001b[1;32m/home/tvangraft/tudelft/thesis/metaengineering/runner.ipynb Cell 17\u001b[0m in \u001b[0;36m<cell line: 1>\u001b[0;34m()\u001b[0m\n\u001b[0;32m----> <a href='vscode-notebook-cell://wsl%2Bubuntu/home/tvangraft/tudelft/thesis/metaengineering/runner.ipynb#X22sdnNjb2RlLXJlbW90ZQ%3D%3D?line=0'>1</a>\u001b[0m dt: DecisionTreeRegressor \u001b[39m=\u001b[39m model\u001b[39m.\u001b[39;49mregressor\u001b[39m.\u001b[39;49mnamed_steps[\u001b[39m'\u001b[39;49m\u001b[39mselect\u001b[39;49m\u001b[39m'\u001b[39;49m]\n\u001b[1;32m      <a href='vscode-notebook-cell://wsl%2Bubuntu/home/tvangraft/tudelft/thesis/metaengineering/runner.ipynb#X22sdnNjb2RlLXJlbW90ZQ%3D%3D?line=1'>2</a>\u001b[0m dt\u001b[39m.\u001b[39mn_features_\n",
      "\u001b[0;31mKeyError\u001b[0m: 'select'"
     ]
    }
   ],
   "source": [
    "dt: DecisionTreeRegressor = model.regressor.named_steps['select']\n",
    "dt.n_features_"
   ]
  },
  {
   "cell_type": "code",
   "execution_count": null,
   "metadata": {},
   "outputs": [
    {
     "data": {
      "text/plain": [
       "76"
      ]
     },
     "execution_count": 78,
     "metadata": {},
     "output_type": "execute_result"
    }
   ],
   "source": [
    "len(set(y_train.unique()).difference(set(y_test.unique())))"
   ]
  },
  {
   "cell_type": "code",
   "execution_count": null,
   "metadata": {},
   "outputs": [
    {
     "data": {
      "text/plain": [
       "<AxesSubplot:xlabel='enzyme_concentration', ylabel='Count'>"
      ]
     },
     "execution_count": 57,
     "metadata": {},
     "output_type": "execute_result"
    },
    {
     "data": {
      "image/png": "[encoded data removed]",
      "text/plain": [
       "<Figure size 2304x576 with 2 Axes>"
      ]
     },
     "metadata": {
      "needs_background": "light"
     },
     "output_type": "display_data"
    }
   ],
   "source": [
    "fig, (ax1, ax2) = plt.subplots(1, 2, figsize=(32, 8))\n",
    "sns.histplot(X_train['enzyme_concentration'], ax=ax1)\n",
    "sns.histplot(X_test['enzyme_concentration'], ax=ax2)"
   ]
  },
  {
   "cell_type": "code",
   "execution_count": null,
   "metadata": {},
   "outputs": [
    {
     "data": {
      "text/plain": [
       "<AxesSubplot:xlabel='metabolite_concentration', ylabel='Count'>"
      ]
     },
     "execution_count": 58,
     "metadata": {},
     "output_type": "execute_result"
    },
    {
     "data": {
      "image/png": "[encoded data removed]",
      "text/plain": [
       "<Figure size 2304x576 with 2 Axes>"
      ]
     },
     "metadata": {
      "needs_background": "light"
     },
     "output_type": "display_data"
    }
   ],
   "source": [
    "fig, (ax1, ax2) = plt.subplots(1, 2, figsize=(32, 8))\n",
    "sns.histplot(y_train, ax=ax1)\n",
    "sns.histplot(y_test, ax=ax2)"
   ]
  },
  {
   "cell_type": "code",
   "execution_count": null,
   "metadata": {},
   "outputs": [
    {
     "data": {
      "text/html": [
       "<style>#sk-container-id-6 {color: black;background-color: white;}#sk-container-id-6 pre{padding: 0;}#sk-container-id-6 div.sk-toggleable {background-color: white;}#sk-container-id-6 label.sk-toggleable__label {cursor: pointer;display: block;width: 100%;margin-bottom: 0;padding: 0.3em;box-sizing: border-box;text-align: center;}#sk-container-id-6 label.sk-toggleable__label-arrow:before {content: \"▸\";float: left;margin-right: 0.25em;color: #696969;}#sk-container-id-6 label.sk-toggleable__label-arrow:hover:before {color: black;}#sk-container-id-6 div.sk-estimator:hover label.sk-toggleable__label-arrow:before {color: black;}#sk-container-id-6 div.sk-toggleable__content {max-height: 0;max-width: 0;overflow: hidden;text-align: left;background-color: #f0f8ff;}#sk-container-id-6 div.sk-toggleable__content pre {margin: 0.2em;color: black;border-radius: 0.25em;background-color: #f0f8ff;}#sk-container-id-6 input.sk-toggleable__control:checked~div.sk-toggleable__content {max-height: 200px;max-width: 100%;overflow: auto;}#sk-container-id-6 input.sk-toggleable__control:checked~label.sk-toggleable__label-arrow:before {content: \"▾\";}#sk-container-id-6 div.sk-estimator input.sk-toggleable__control:checked~label.sk-toggleable__label {background-color: #d4ebff;}#sk-container-id-6 div.sk-label input.sk-toggleable__control:checked~label.sk-toggleable__label {background-color: #d4ebff;}#sk-container-id-6 input.sk-hidden--visually {border: 0;clip: rect(1px 1px 1px 1px);clip: rect(1px, 1px, 1px, 1px);height: 1px;margin: -1px;overflow: hidden;padding: 0;position: absolute;width: 1px;}#sk-container-id-6 div.sk-estimator {font-family: monospace;background-color: #f0f8ff;border: 1px dotted black;border-radius: 0.25em;box-sizing: border-box;margin-bottom: 0.5em;}#sk-container-id-6 div.sk-estimator:hover {background-color: #d4ebff;}#sk-container-id-6 div.sk-parallel-item::after {content: \"\";width: 100%;border-bottom: 1px solid gray;flex-grow: 1;}#sk-container-id-6 div.sk-label:hover label.sk-toggleable__label {background-color: #d4ebff;}#sk-container-id-6 div.sk-serial::before {content: \"\";position: absolute;border-left: 1px solid gray;box-sizing: border-box;top: 0;bottom: 0;left: 50%;z-index: 0;}#sk-container-id-6 div.sk-serial {display: flex;flex-direction: column;align-items: center;background-color: white;padding-right: 0.2em;padding-left: 0.2em;position: relative;}#sk-container-id-6 div.sk-item {position: relative;z-index: 1;}#sk-container-id-6 div.sk-parallel {display: flex;align-items: stretch;justify-content: center;background-color: white;position: relative;}#sk-container-id-6 div.sk-item::before, #sk-container-id-6 div.sk-parallel-item::before {content: \"\";position: absolute;border-left: 1px solid gray;box-sizing: border-box;top: 0;bottom: 0;left: 50%;z-index: -1;}#sk-container-id-6 div.sk-parallel-item {display: flex;flex-direction: column;z-index: 1;position: relative;background-color: white;}#sk-container-id-6 div.sk-parallel-item:first-child::after {align-self: flex-end;width: 50%;}#sk-container-id-6 div.sk-parallel-item:last-child::after {align-self: flex-start;width: 50%;}#sk-container-id-6 div.sk-parallel-item:only-child::after {width: 0;}#sk-container-id-6 div.sk-dashed-wrapped {border: 1px dashed gray;margin: 0 0.4em 0.5em 0.4em;box-sizing: border-box;padding-bottom: 0.4em;background-color: white;}#sk-container-id-6 div.sk-label label {font-family: monospace;font-weight: bold;display: inline-block;line-height: 1.2em;}#sk-container-id-6 div.sk-label-container {text-align: center;}#sk-container-id-6 div.sk-container {/* jupyter's `normalize.less` sets `[hidden] { display: none; }` but bootstrap.min.css set `[hidden] { display: none !important; }` so we also need the `!important` here to be able to override the default hidden behavior on the sphinx rendered scikit-learn.org. See: https://github.com/scikit-learn/scikit-learn/issues/21755 */display: inline-block !important;position: relative;}#sk-container-id-6 div.sk-text-repr-fallback {display: none;}</style><div id=\"sk-container-id-6\" class=\"sk-top-container\"><div class=\"sk-text-repr-fallback\"><pre>DecisionTreeRegressor()</pre><b>In a Jupyter environment, please rerun this cell to show the HTML representation or trust the notebook. <br />On GitHub, the HTML representation is unable to render, please try loading this page with nbviewer.org.</b></div><div class=\"sk-container\" hidden><div class=\"sk-item\"><div class=\"sk-estimator sk-toggleable\"><input class=\"sk-toggleable__control sk-hidden--visually\" id=\"sk-estimator-id-22\" type=\"checkbox\" checked><label for=\"sk-estimator-id-22\" class=\"sk-toggleable__label sk-toggleable__label-arrow\">DecisionTreeRegressor</label><div class=\"sk-toggleable__content\"><pre>DecisionTreeRegressor()</pre></div></div></div></div></div>"
      ],
      "text/plain": [
       "DecisionTreeRegressor()"
      ]
     },
     "execution_count": 89,
     "metadata": {},
     "output_type": "execute_result"
    }
   ],
   "source": [
    "clf['regressor'].regressor"
   ]
  },
  {
   "cell_type": "code",
   "execution_count": null,
   "metadata": {},
   "outputs": [],
   "source": [
    "fig, ax = plt.subplots(figsize=(64, 64))\n",
    "plot_tree(\n",
    "    model.regressor.named_steps['regressor']\n",
    ")"
   ]
  },
  {
   "cell_type": "code",
   "execution_count": null,
   "metadata": {},
   "outputs": [],
   "source": [
    "transform = make_column_transformer(\n",
    "    (OneHotEncoder(), ['KO_ORF', 'ORF'])\n",
    ")"
   ]
  },
  {
   "cell_type": "code",
   "execution_count": null,
   "metadata": {},
   "outputs": [],
   "source": [
    "\n",
    "df = transform.fit_transform(df)\n",
    "\n"
   ]
  },
  {
   "cell_type": "code",
   "execution_count": null,
   "metadata": {},
   "outputs": [
    {
     "data": {
      "text/html": [
       "<div>\n",
       "<style scoped>\n",
       "    .dataframe tbody tr th:only-of-type {\n",
       "        vertical-align: middle;\n",
       "    }\n",
       "\n",
       "    .dataframe tbody tr th {\n",
       "        vertical-align: top;\n",
       "    }\n",
       "\n",
       "    .dataframe thead th {\n",
       "        text-align: right;\n",
       "    }\n",
       "</style>\n",
       "<table border=\"1\" class=\"dataframe\">\n",
       "  <thead>\n",
       "    <tr style=\"text-align: right;\">\n",
       "      <th></th>\n",
       "      <th>KO_ORF</th>\n",
       "      <th>ORF</th>\n",
       "      <th>enzyme_concentration</th>\n",
       "    </tr>\n",
       "  </thead>\n",
       "  <tbody>\n",
       "    <tr>\n",
       "      <th>36254</th>\n",
       "      <td>YJL165C</td>\n",
       "      <td>YPL028W</td>\n",
       "      <td>7.928044</td>\n",
       "    </tr>\n",
       "    <tr>\n",
       "      <th>28857</th>\n",
       "      <td>YHR135C</td>\n",
       "      <td>YMR116C</td>\n",
       "      <td>9.429324</td>\n",
       "    </tr>\n",
       "    <tr>\n",
       "      <th>58631</th>\n",
       "      <td>YOL113W</td>\n",
       "      <td>YMR203W</td>\n",
       "      <td>5.563761</td>\n",
       "    </tr>\n",
       "    <tr>\n",
       "      <th>38196</th>\n",
       "      <td>YJR066W</td>\n",
       "      <td>YKR074W</td>\n",
       "      <td>5.023174</td>\n",
       "    </tr>\n",
       "    <tr>\n",
       "      <th>45294</th>\n",
       "      <td>YLL019C</td>\n",
       "      <td>YGR180C</td>\n",
       "      <td>7.942237</td>\n",
       "    </tr>\n",
       "    <tr>\n",
       "      <th>...</th>\n",
       "      <td>...</td>\n",
       "      <td>...</td>\n",
       "      <td>...</td>\n",
       "    </tr>\n",
       "    <tr>\n",
       "      <th>21243</th>\n",
       "      <td>YGL179C</td>\n",
       "      <td>YER003C</td>\n",
       "      <td>7.177314</td>\n",
       "    </tr>\n",
       "    <tr>\n",
       "      <th>45891</th>\n",
       "      <td>YLR096W</td>\n",
       "      <td>YDR304C</td>\n",
       "      <td>6.456569</td>\n",
       "    </tr>\n",
       "    <tr>\n",
       "      <th>42613</th>\n",
       "      <td>YKL166C</td>\n",
       "      <td>YLR429W</td>\n",
       "      <td>5.862710</td>\n",
       "    </tr>\n",
       "    <tr>\n",
       "      <th>43567</th>\n",
       "      <td>YKL171W</td>\n",
       "      <td>YAL044C</td>\n",
       "      <td>7.113592</td>\n",
       "    </tr>\n",
       "    <tr>\n",
       "      <th>68268</th>\n",
       "      <td>YPR106W</td>\n",
       "      <td>YBL099W</td>\n",
       "      <td>8.340294</td>\n",
       "    </tr>\n",
       "  </tbody>\n",
       "</table>\n",
       "<p>55756 rows × 3 columns</p>\n",
       "</div>"
      ],
      "text/plain": [
       "        KO_ORF      ORF  enzyme_concentration\n",
       "36254  YJL165C  YPL028W              7.928044\n",
       "28857  YHR135C  YMR116C              9.429324\n",
       "58631  YOL113W  YMR203W              5.563761\n",
       "38196  YJR066W  YKR074W              5.023174\n",
       "45294  YLL019C  YGR180C              7.942237\n",
       "...        ...      ...                   ...\n",
       "21243  YGL179C  YER003C              7.177314\n",
       "45891  YLR096W  YDR304C              6.456569\n",
       "42613  YKL166C  YLR429W              5.862710\n",
       "43567  YKL171W  YAL044C              7.113592\n",
       "68268  YPR106W  YBL099W              8.340294\n",
       "\n",
       "[55756 rows x 3 columns]"
      ]
     },
     "execution_count": 18,
     "metadata": {},
     "output_type": "execute_result"
    }
   ],
   "source": [
    "X_train"
   ]
  },
  {
   "cell_type": "code",
   "execution_count": null,
   "metadata": {},
   "outputs": [
    {
     "ename": "ValueError",
     "evalue": "could not convert string to float: 'YJL165C'",
     "output_type": "error",
     "traceback": [
      "\u001b[0;31m---------------------------------------------------------------------------\u001b[0m",
      "\u001b[0;31mValueError\u001b[0m                                Traceback (most recent call last)",
      "\u001b[1;32m/home/tvangraft/tudelft/thesis/metaengineering/runner.ipynb Cell 17\u001b[0m in \u001b[0;36m<cell line: 3>\u001b[0;34m()\u001b[0m\n\u001b[1;32m      <a href='vscode-notebook-cell://wsl%2Bubuntu/home/tvangraft/tudelft/thesis/metaengineering/runner.ipynb#X21sdnNjb2RlLXJlbW90ZQ%3D%3D?line=0'>1</a>\u001b[0m dt \u001b[39m=\u001b[39m DecisionTreeRegressor()\n\u001b[0;32m----> <a href='vscode-notebook-cell://wsl%2Bubuntu/home/tvangraft/tudelft/thesis/metaengineering/runner.ipynb#X21sdnNjb2RlLXJlbW90ZQ%3D%3D?line=2'>3</a>\u001b[0m dt\u001b[39m.\u001b[39;49mfit(X_train, y_train)\n\u001b[1;32m      <a href='vscode-notebook-cell://wsl%2Bubuntu/home/tvangraft/tudelft/thesis/metaengineering/runner.ipynb#X21sdnNjb2RlLXJlbW90ZQ%3D%3D?line=3'>4</a>\u001b[0m dt\u001b[39m.\u001b[39mscore(X_test, y_test)\n\u001b[1;32m      <a href='vscode-notebook-cell://wsl%2Bubuntu/home/tvangraft/tudelft/thesis/metaengineering/runner.ipynb#X21sdnNjb2RlLXJlbW90ZQ%3D%3D?line=5'>6</a>\u001b[0m mean_squared_error(y_test, dt\u001b[39m.\u001b[39mpredict(X_test))\n",
      "File \u001b[0;32m~/tudelft/thesis/.env/lib/python3.9/site-packages/sklearn/tree/_classes.py:1342\u001b[0m, in \u001b[0;36mDecisionTreeRegressor.fit\u001b[0;34m(self, X, y, sample_weight, check_input)\u001b[0m\n\u001b[1;32m   1313\u001b[0m \u001b[39mdef\u001b[39;00m \u001b[39mfit\u001b[39m(\u001b[39mself\u001b[39m, X, y, sample_weight\u001b[39m=\u001b[39m\u001b[39mNone\u001b[39;00m, check_input\u001b[39m=\u001b[39m\u001b[39mTrue\u001b[39;00m):\n\u001b[1;32m   1314\u001b[0m     \u001b[39m\"\"\"Build a decision tree regressor from the training set (X, y).\u001b[39;00m\n\u001b[1;32m   1315\u001b[0m \n\u001b[1;32m   1316\u001b[0m \u001b[39m    Parameters\u001b[39;00m\n\u001b[0;32m   (...)\u001b[0m\n\u001b[1;32m   1339\u001b[0m \u001b[39m        Fitted estimator.\u001b[39;00m\n\u001b[1;32m   1340\u001b[0m \u001b[39m    \"\"\"\u001b[39;00m\n\u001b[0;32m-> 1342\u001b[0m     \u001b[39msuper\u001b[39;49m()\u001b[39m.\u001b[39;49mfit(\n\u001b[1;32m   1343\u001b[0m         X,\n\u001b[1;32m   1344\u001b[0m         y,\n\u001b[1;32m   1345\u001b[0m         sample_weight\u001b[39m=\u001b[39;49msample_weight,\n\u001b[1;32m   1346\u001b[0m         check_input\u001b[39m=\u001b[39;49mcheck_input,\n\u001b[1;32m   1347\u001b[0m     )\n\u001b[1;32m   1348\u001b[0m     \u001b[39mreturn\u001b[39;00m \u001b[39mself\u001b[39m\n",
      "File \u001b[0;32m~/tudelft/thesis/.env/lib/python3.9/site-packages/sklearn/tree/_classes.py:172\u001b[0m, in \u001b[0;36mBaseDecisionTree.fit\u001b[0;34m(self, X, y, sample_weight, check_input)\u001b[0m\n\u001b[1;32m    170\u001b[0m check_X_params \u001b[39m=\u001b[39m \u001b[39mdict\u001b[39m(dtype\u001b[39m=\u001b[39mDTYPE, accept_sparse\u001b[39m=\u001b[39m\u001b[39m\"\u001b[39m\u001b[39mcsc\u001b[39m\u001b[39m\"\u001b[39m)\n\u001b[1;32m    171\u001b[0m check_y_params \u001b[39m=\u001b[39m \u001b[39mdict\u001b[39m(ensure_2d\u001b[39m=\u001b[39m\u001b[39mFalse\u001b[39;00m, dtype\u001b[39m=\u001b[39m\u001b[39mNone\u001b[39;00m)\n\u001b[0;32m--> 172\u001b[0m X, y \u001b[39m=\u001b[39m \u001b[39mself\u001b[39;49m\u001b[39m.\u001b[39;49m_validate_data(\n\u001b[1;32m    173\u001b[0m     X, y, validate_separately\u001b[39m=\u001b[39;49m(check_X_params, check_y_params)\n\u001b[1;32m    174\u001b[0m )\n\u001b[1;32m    175\u001b[0m \u001b[39mif\u001b[39;00m issparse(X):\n\u001b[1;32m    176\u001b[0m     X\u001b[39m.\u001b[39msort_indices()\n",
      "File \u001b[0;32m~/tudelft/thesis/.env/lib/python3.9/site-packages/sklearn/base.py:591\u001b[0m, in \u001b[0;36mBaseEstimator._validate_data\u001b[0;34m(self, X, y, reset, validate_separately, **check_params)\u001b[0m\n\u001b[1;32m    589\u001b[0m \u001b[39mif\u001b[39;00m \u001b[39m\"\u001b[39m\u001b[39mestimator\u001b[39m\u001b[39m\"\u001b[39m \u001b[39mnot\u001b[39;00m \u001b[39min\u001b[39;00m check_X_params:\n\u001b[1;32m    590\u001b[0m     check_X_params \u001b[39m=\u001b[39m {\u001b[39m*\u001b[39m\u001b[39m*\u001b[39mdefault_check_params, \u001b[39m*\u001b[39m\u001b[39m*\u001b[39mcheck_X_params}\n\u001b[0;32m--> 591\u001b[0m X \u001b[39m=\u001b[39m check_array(X, input_name\u001b[39m=\u001b[39;49m\u001b[39m\"\u001b[39;49m\u001b[39mX\u001b[39;49m\u001b[39m\"\u001b[39;49m, \u001b[39m*\u001b[39;49m\u001b[39m*\u001b[39;49mcheck_X_params)\n\u001b[1;32m    592\u001b[0m \u001b[39mif\u001b[39;00m \u001b[39m\"\u001b[39m\u001b[39mestimator\u001b[39m\u001b[39m\"\u001b[39m \u001b[39mnot\u001b[39;00m \u001b[39min\u001b[39;00m check_y_params:\n\u001b[1;32m    593\u001b[0m     check_y_params \u001b[39m=\u001b[39m {\u001b[39m*\u001b[39m\u001b[39m*\u001b[39mdefault_check_params, \u001b[39m*\u001b[39m\u001b[39m*\u001b[39mcheck_y_params}\n",
      "File \u001b[0;32m~/tudelft/thesis/.env/lib/python3.9/site-packages/sklearn/utils/validation.py:856\u001b[0m, in \u001b[0;36mcheck_array\u001b[0;34m(array, accept_sparse, accept_large_sparse, dtype, order, copy, force_all_finite, ensure_2d, allow_nd, ensure_min_samples, ensure_min_features, estimator, input_name)\u001b[0m\n\u001b[1;32m    854\u001b[0m         array \u001b[39m=\u001b[39m array\u001b[39m.\u001b[39mastype(dtype, casting\u001b[39m=\u001b[39m\u001b[39m\"\u001b[39m\u001b[39munsafe\u001b[39m\u001b[39m\"\u001b[39m, copy\u001b[39m=\u001b[39m\u001b[39mFalse\u001b[39;00m)\n\u001b[1;32m    855\u001b[0m     \u001b[39melse\u001b[39;00m:\n\u001b[0;32m--> 856\u001b[0m         array \u001b[39m=\u001b[39m np\u001b[39m.\u001b[39;49masarray(array, order\u001b[39m=\u001b[39;49morder, dtype\u001b[39m=\u001b[39;49mdtype)\n\u001b[1;32m    857\u001b[0m \u001b[39mexcept\u001b[39;00m ComplexWarning \u001b[39mas\u001b[39;00m complex_warning:\n\u001b[1;32m    858\u001b[0m     \u001b[39mraise\u001b[39;00m \u001b[39mValueError\u001b[39;00m(\n\u001b[1;32m    859\u001b[0m         \u001b[39m\"\u001b[39m\u001b[39mComplex data not supported\u001b[39m\u001b[39m\\n\u001b[39;00m\u001b[39m{}\u001b[39;00m\u001b[39m\\n\u001b[39;00m\u001b[39m\"\u001b[39m\u001b[39m.\u001b[39mformat(array)\n\u001b[1;32m    860\u001b[0m     ) \u001b[39mfrom\u001b[39;00m \u001b[39mcomplex_warning\u001b[39;00m\n",
      "File \u001b[0;32m~/tudelft/thesis/.env/lib/python3.9/site-packages/pandas/core/generic.py:2064\u001b[0m, in \u001b[0;36mNDFrame.__array__\u001b[0;34m(self, dtype)\u001b[0m\n\u001b[1;32m   2063\u001b[0m \u001b[39mdef\u001b[39;00m \u001b[39m__array__\u001b[39m(\u001b[39mself\u001b[39m, dtype: npt\u001b[39m.\u001b[39mDTypeLike \u001b[39m|\u001b[39m \u001b[39mNone\u001b[39;00m \u001b[39m=\u001b[39m \u001b[39mNone\u001b[39;00m) \u001b[39m-\u001b[39m\u001b[39m>\u001b[39m np\u001b[39m.\u001b[39mndarray:\n\u001b[0;32m-> 2064\u001b[0m     \u001b[39mreturn\u001b[39;00m np\u001b[39m.\u001b[39;49masarray(\u001b[39mself\u001b[39;49m\u001b[39m.\u001b[39;49m_values, dtype\u001b[39m=\u001b[39;49mdtype)\n",
      "\u001b[0;31mValueError\u001b[0m: could not convert string to float: 'YJL165C'"
     ]
    }
   ],
   "source": [
    "dt = DecisionTreeRegressor()\n",
    "\n",
    "dt.fit(X_train, y_train)\n",
    "dt.score(X_test, y_test)\n",
    "\n",
    "mean_squared_error(y_test, dt.predict(X_test))"
   ]
  },
  {
   "cell_type": "code",
   "execution_count": null,
   "metadata": {},
   "outputs": [],
   "source": [
    "svr = SVR()\n",
    "svr.score(X_test, y_test)"
   ]
  },
  {
   "cell_type": "code",
   "execution_count": null,
   "metadata": {},
   "outputs": [],
   "source": [
    "mean_squared_error(y_test, svr.predict(X_test))"
   ]
  }
 ],
 "metadata": {
  "kernelspec": {
   "display_name": "Python 3.9.12 ('.env': venv)",
   "language": "python",
   "name": "python3"
  },
  "language_info": {
   "codemirror_mode": {
    "name": "ipython",
    "version": 3
   },
   "file_extension": ".py",
   "mimetype": "text/x-python",
   "name": "python",
   "nbconvert_exporter": "python",
   "pygments_lexer": "ipython3",
   "version": "3.9.12"
  },
  "orig_nbformat": 4,
  "vscode": {
   "interpreter": {
    "hash": "a542b6343c6490b05f36876d198b1a03a25da0ffb80d837b6b25e87db0e241d9"
   }
  }
 },
 "nbformat": 4,
 "nbformat_minor": 2
}
