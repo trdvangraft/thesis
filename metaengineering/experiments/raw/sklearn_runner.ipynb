{
 "cells": [
  {
   "cell_type": "markdown",
   "metadata": {},
   "source": [
    "# Libraries"
   ]
  },
  {
   "cell_type": "code",
   "execution_count": 6,
   "metadata": {},
   "outputs": [
    {
     "name": "stdout",
     "output_type": "stream",
     "text": [
      "/home/tvangraft/tudelft/thesis/metaengineering\n"
     ]
    }
   ],
   "source": [
    "cd /home/tvangraft/tudelft/thesis/metaengineering"
   ]
  },
  {
   "cell_type": "code",
   "execution_count": 7,
   "metadata": {},
   "outputs": [],
   "source": [
    "from src.pipeline.dataloader import DataLoader\n",
    "from src.orchestrator.orchestrator import SklearnOrchestrator\n",
    "\n",
    "from src.settings.strategy import Strategy\n",
    "from src.settings.tier import Tier\n",
    "\n",
    "from src.utils.utils import build_config\n",
    "\n",
    "from sklearn.preprocessing import StandardScaler, MinMaxScaler, RobustScaler\n",
    "from sklearn.svm import SVR\n",
    "from sklearn.linear_model import ElasticNet\n",
    "from sklearn.ensemble import RandomForestRegressor"
   ]
  },
  {
   "cell_type": "code",
   "execution_count": 8,
   "metadata": {},
   "outputs": [],
   "source": [
    "def get_dl_config_for_strategy(tier: Tier):\n",
    "    lookup = {\n",
    "        Tier.TIER0: dict(\n",
    "            additional_filters=[\"is_precursor\",],\n",
    "            additional_transforms=[\"log_fold_change_protein\",]\n",
    "        ),\n",
    "        Tier.TIER1: dict(\n",
    "            additional_frames=[\"interaction_frame\",],\n",
    "            additional_filters=[\n",
    "                \"is_precursor\",\n",
    "            ],\n",
    "            additional_transforms=[\n",
    "                \"log_fold_change_protein\",\n",
    "                \"ppi_coo_matrix\",\n",
    "            ]\n",
    "        )\n",
    "    }\n",
    "    return lookup.get(tier)"
   ]
  },
  {
   "cell_type": "code",
   "execution_count": 9,
   "metadata": {},
   "outputs": [],
   "source": [
    "params = {\n",
    "    # 'SVR': {\n",
    "    #     'regressor__regressor': SVR(),\n",
    "    #     'regressor__regressor__kernel': ['linear', 'poly', 'rbf', 'sigmoid'],\n",
    "    #     'regressor__regressor__gamma': ['scale'],\n",
    "    #     'regressor__regressor__C': [1, 10, 100, 1000],\n",
    "    #     'regressor__preprocessor__num__scaler': [MinMaxScaler(), StandardScaler()],\n",
    "    # },\n",
    "    'RandomForestRegressor': {\n",
    "        'regressor__regressor': RandomForestRegressor(),\n",
    "        'regressor__regressor__n_estimators': [10, 25, 50, 75, 100],\n",
    "        'regressor__regressor__criterion': ['squared_error', 'friedman_mse'],\n",
    "        'regressor__regressor__max_depth': [5, 10, 20],\n",
    "        'regressor__preprocessor__num__scaler': [MinMaxScaler(), StandardScaler(), RobustScaler()]\n",
    "    },\n",
    "    'ElasticNet': {\n",
    "        'regressor__regressor': ElasticNet(),\n",
    "        'regressor__regressor__l1_ratio': [0.01, 0.25, 0.5, 0.75, 1],\n",
    "        'regressor__regressor__tol': [0.01],\n",
    "        'regressor__preprocessor__num__scaler': [MinMaxScaler(), StandardScaler(), RobustScaler()]\n",
    "    },\n",
    "}\n",
    "\n",
    "strategies = [Strategy.ALL, Strategy.ONE_VS_ALL, Strategy.METABOLITE_CENTRIC]\n",
    "tiers = [Tier.TIER1]"
   ]
  },
  {
   "cell_type": "code",
   "execution_count": null,
   "metadata": {},
   "outputs": [],
   "source": [
    "DataLoader.DATA_FOLDER = './data/training/'\n",
    "for tier in tiers:\n",
    "    for strategy in strategies:\n",
    "        orchestrator: SklearnOrchestrator = SklearnOrchestrator()\n",
    "        orchestrator.prepare_orchestrator(\n",
    "            *build_config(\n",
    "                strategy=strategy,\n",
    "                tier=tier,\n",
    "                params=params,\n",
    "                forced_training=True,\n",
    "                forced_testing=True,\n",
    "                **get_dl_config_for_strategy(tier)\n",
    "            )\n",
    "        )\n",
    "        orchestrator.run()"
   ]
  }
 ],
 "metadata": {
  "kernelspec": {
   "display_name": ".env39",
   "language": "python",
   "name": "python3"
  },
  "language_info": {
   "codemirror_mode": {
    "name": "ipython",
    "version": 3
   },
   "file_extension": ".py",
   "mimetype": "text/x-python",
   "name": "python",
   "nbconvert_exporter": "python",
   "pygments_lexer": "ipython3",
   "version": "3.9.16"
  },
  "orig_nbformat": 4,
  "vscode": {
   "interpreter": {
    "hash": "64b3e444af11ccfc5614e4e5e5497a90c74cb418096b0258092cc72928011911"
   }
  }
 },
 "nbformat": 4,
 "nbformat_minor": 2
}
