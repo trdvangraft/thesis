{
 "cells": [
  {
   "cell_type": "markdown",
   "metadata": {},
   "source": [
    "# Libraries"
   ]
  },
  {
   "cell_type": "code",
   "execution_count": 1,
   "metadata": {},
   "outputs": [
    {
     "name": "stdout",
     "output_type": "stream",
     "text": [
      "/home/tvangraft/tudelft/thesis/metaengineering\n"
     ]
    }
   ],
   "source": [
    "cd /home/tvangraft/tudelft/thesis/metaengineering"
   ]
  },
  {
   "cell_type": "code",
   "execution_count": 2,
   "metadata": {},
   "outputs": [],
   "source": [
    "from src.pipeline.dataloader import DataLoader\n",
    "from src.orchestrator.orchestrator import SklearnOrchestrator\n",
    "\n",
    "from src.settings.strategy import Strategy\n",
    "from src.settings.tier import Tier\n",
    "\n",
    "from src.utils.utils import build_config\n",
    "\n",
    "from sklearn.preprocessing import StandardScaler, MinMaxScaler\n",
    "from sklearn.svm import SVR\n",
    "from sklearn.linear_model import ElasticNet\n",
    "from sklearn.ensemble import RandomForestRegressor\n",
    "from sklearn.neural_network import MLPRegressor"
   ]
  },
  {
   "cell_type": "code",
   "execution_count": 3,
   "metadata": {},
   "outputs": [],
   "source": [
    "def get_dl_config_for_strategy(tier: Tier):\n",
    "    lookup = {\n",
    "        Tier.TIER0: dict(\n",
    "            additional_filters=[\"is_precursor\",],\n",
    "            additional_transforms=[\"log_fold_change_protein\",]\n",
    "        ),\n",
    "        Tier.TIER1: dict(\n",
    "            additional_frames=[\"interaction_frame\",],\n",
    "            additional_filters=[\n",
    "                \"is_precursor\",\n",
    "            ],\n",
    "            additional_transforms=[\n",
    "                \"log_fold_change_protein\",\n",
    "                \"ppi_coo_matrix\",\n",
    "            ]\n",
    "        )\n",
    "    }\n",
    "    return lookup.get(tier)"
   ]
  },
  {
   "cell_type": "code",
   "execution_count": 4,
   "metadata": {},
   "outputs": [],
   "source": [
    "params = {\n",
    "    'SVR': {\n",
    "        'regressor__regressor': SVR(),\n",
    "        'regressor__regressor__kernel': ['rbf', 'sigmoid'],\n",
    "        'regressor__regressor__gamma': ['auto', 'scale', 0.1, 0.001, 0.01],\n",
    "        'regressor__regressor__epsilon': [0.1, 0.01, 0.001, 0.0001],\n",
    "        'regressor__regressor__C': [10, 100, 1000],\n",
    "        'regressor__preprocessor__num__scaler': [MinMaxScaler(), StandardScaler()],\n",
    "    },\n",
    "    'RandomForestRegressor': {\n",
    "        'regressor__regressor': RandomForestRegressor(),\n",
    "        'regressor__regressor__n_estimators': [10, 25, 50, 75, 100],\n",
    "        'regressor__regressor__criterion': ['squared_error', 'friedman_mse'],\n",
    "        'regressor__regressor__max_depth': [5, 10, 20],\n",
    "        'regressor__preprocessor__num__scaler': [MinMaxScaler(), StandardScaler()]\n",
    "    },\n",
    "    'ElasticNet': {\n",
    "        'regressor__regressor': ElasticNet(),\n",
    "        'regressor__regressor__l1_ratio': [0.01, 0.25, 0.5, 0.75, 1],\n",
    "        'regressor__regressor__tol': [0.01],\n",
    "        'regressor__preprocessor__num__scaler': [MinMaxScaler(), StandardScaler()]\n",
    "    },\n",
    "    'MLPRegressor': {\n",
    "        'regressor__regressor': MLPRegressor(),\n",
    "        'regressor__regressor__hidden_layer_sizes':  [[128, 32, 32], [64, 32]],\n",
    "        'regressor__regressor__batch_size': [8, 16, 4, 2],\n",
    "    }\n",
    "}\n",
    "\n",
    "strategies = [Strategy.ALL, Strategy.ONE_VS_ALL, Strategy.METABOLITE_CENTRIC]\n",
    "tiers = [Tier.TIER0, Tier.TIER1]"
   ]
  },
  {
   "cell_type": "code",
   "execution_count": 5,
   "metadata": {},
   "outputs": [
    {
     "name": "stdout",
     "output_type": "stream",
     "text": [
      "Tier.TIER0 - Strategy.ALL\n",
      "ParsedDataLoaderConfig(additional_frames=[], additional_transforms=[<bound method FrameTransformers.log_fold_change_protein of <src.pipeline.frame.transformer.FrameTransformers object at 0x7f50510c7fa0>>], additional_filters=[<bound method FrameFilters.is_precursor of <src.pipeline.frame.filter.FrameFilters object at 0x7f50510c7280>>])\n",
      "Result for Strategy.ALL_all already exists\n",
      "['all', 'SVR()', 'RandomForestRegressor()', 'ElasticNet()', 'MLPRegressor()']\n",
      "architecture='all'\n",
      "ParsedDataLoaderConfig(additional_frames=[], additional_transforms=[<bound method FrameTransformers.log_fold_change_protein of <src.pipeline.frame.transformer.FrameTransformers object at 0x7f50510c7fa0>>], additional_filters=[<bound method FrameFilters.is_precursor of <src.pipeline.frame.filter.FrameFilters object at 0x7f50510c7280>>])\n",
      "RandomForest model\n",
      "RandomForest model\n",
      "RandomForest model\n",
      "RandomForest model\n",
      "RandomForest model\n",
      "RandomForest model\n",
      "RandomForest model\n",
      "RandomForest model\n",
      "RandomForest model\n",
      "RandomForest model\n",
      "architecture='SVR()'\n",
      "ParsedDataLoaderConfig(additional_frames=[], additional_transforms=[<bound method FrameTransformers.log_fold_change_protein of <src.pipeline.frame.transformer.FrameTransformers object at 0x7f50510c7fa0>>], additional_filters=[<bound method FrameFilters.is_precursor of <src.pipeline.frame.filter.FrameFilters object at 0x7f50510c7280>>])\n",
      "SVR model\n",
      "SVR model\n",
      "SVR model\n",
      "SVR model\n",
      "SVR model\n",
      "SVR model\n",
      "SVR model\n",
      "SVR model\n",
      "SVR model\n",
      "SVR model\n",
      "architecture='RandomForestRegressor()'\n",
      "ParsedDataLoaderConfig(additional_frames=[], additional_transforms=[<bound method FrameTransformers.log_fold_change_protein of <src.pipeline.frame.transformer.FrameTransformers object at 0x7f50510c7fa0>>], additional_filters=[<bound method FrameFilters.is_precursor of <src.pipeline.frame.filter.FrameFilters object at 0x7f50510c7280>>])\n",
      "RandomForest model\n",
      "RandomForest model\n",
      "RandomForest model\n",
      "RandomForest model\n",
      "RandomForest model\n",
      "RandomForest model\n",
      "RandomForest model\n",
      "RandomForest model\n",
      "RandomForest model\n",
      "RandomForest model\n",
      "architecture='ElasticNet()'\n",
      "ParsedDataLoaderConfig(additional_frames=[], additional_transforms=[<bound method FrameTransformers.log_fold_change_protein of <src.pipeline.frame.transformer.FrameTransformers object at 0x7f50510c7fa0>>], additional_filters=[<bound method FrameFilters.is_precursor of <src.pipeline.frame.filter.FrameFilters object at 0x7f50510c7280>>])\n",
      "ElasticNet model\n",
      "ElasticNet model\n",
      "ElasticNet model\n",
      "ElasticNet model\n",
      "ElasticNet model\n",
      "ElasticNet model\n",
      "ElasticNet model\n",
      "ElasticNet model\n",
      "ElasticNet model\n",
      "ElasticNet model\n",
      "architecture='MLPRegressor()'\n",
      "ParsedDataLoaderConfig(additional_frames=[], additional_transforms=[<bound method FrameTransformers.log_fold_change_protein of <src.pipeline.frame.transformer.FrameTransformers object at 0x7f50510c7fa0>>], additional_filters=[<bound method FrameFilters.is_precursor of <src.pipeline.frame.filter.FrameFilters object at 0x7f50510c7280>>])\n",
      "MLPRegressor model\n",
      "[64, 32]\n",
      "<class 'str'>\n"
     ]
    },
    {
     "ename": "TypeError",
     "evalue": "'<=' not supported between instances of 'numpy.ndarray' and 'int'",
     "output_type": "error",
     "traceback": [
      "\u001b[0;31m---------------------------------------------------------------------------\u001b[0m",
      "\u001b[0;31mTypeError\u001b[0m                                 Traceback (most recent call last)",
      "Cell \u001b[0;32mIn[5], line 16\u001b[0m\n\u001b[1;32m      5\u001b[0m orchestrator: SklearnOrchestrator \u001b[39m=\u001b[39m SklearnOrchestrator()\n\u001b[1;32m      6\u001b[0m orchestrator\u001b[39m.\u001b[39mprepare_orchestrator(\n\u001b[1;32m      7\u001b[0m     \u001b[39m*\u001b[39mbuild_config(\n\u001b[1;32m      8\u001b[0m         strategy\u001b[39m=\u001b[39mstrategy,\n\u001b[0;32m   (...)\u001b[0m\n\u001b[1;32m     14\u001b[0m     )\n\u001b[1;32m     15\u001b[0m )\n\u001b[0;32m---> 16\u001b[0m orchestrator\u001b[39m.\u001b[39;49mrun()\n",
      "File \u001b[0;32m~/tudelft/thesis/metaengineering/src/orchestrator/orchestrator.py:68\u001b[0m, in \u001b[0;36mSklearnOrchestrator.run\u001b[0;34m(self)\u001b[0m\n\u001b[1;32m     65\u001b[0m tl \u001b[39m=\u001b[39m \u001b[39mself\u001b[39m\u001b[39m.\u001b[39mget_taskloader()\n\u001b[1;32m     67\u001b[0m TrainRunner(dl, tl)\u001b[39m.\u001b[39mprepare_run(\u001b[39mself\u001b[39m\u001b[39m.\u001b[39mrun_config)\u001b[39m.\u001b[39mrun_training()\n\u001b[0;32m---> 68\u001b[0m TestRunner(dl, tl)\u001b[39m.\u001b[39;49mprepare_run(\u001b[39mself\u001b[39;49m\u001b[39m.\u001b[39;49mrun_config)\u001b[39m.\u001b[39;49mrun_testing()\n\u001b[1;32m     70\u001b[0m explainer \u001b[39m=\u001b[39m Explainer(dl, tl)\n\u001b[1;32m     71\u001b[0m explainer\u001b[39m.\u001b[39mprepare_explainer(\u001b[39mself\u001b[39m\u001b[39m.\u001b[39mexplain_config)\n",
      "File \u001b[0;32m~/tudelft/thesis/metaengineering/src/orchestrator/test_runner.py:24\u001b[0m, in \u001b[0;36mTestRunner.run_testing\u001b[0;34m(self)\u001b[0m\n\u001b[1;32m     22\u001b[0m \u001b[39mdef\u001b[39;00m \u001b[39mrun_testing\u001b[39m(\u001b[39mself\u001b[39m):\n\u001b[1;32m     23\u001b[0m     \u001b[39mif\u001b[39;00m \u001b[39mself\u001b[39m\u001b[39m.\u001b[39mcurrent_run_config\u001b[39m.\u001b[39mstrategy \u001b[39m==\u001b[39m Strategy\u001b[39m.\u001b[39mALL:\n\u001b[0;32m---> 24\u001b[0m         \u001b[39mself\u001b[39;49m\u001b[39m.\u001b[39;49mrun_testing_strategy_all()\n\u001b[1;32m     25\u001b[0m     \u001b[39melif\u001b[39;00m \u001b[39mself\u001b[39m\u001b[39m.\u001b[39mcurrent_run_config\u001b[39m.\u001b[39mstrategy \u001b[39m==\u001b[39m Strategy\u001b[39m.\u001b[39mMETABOLITE_CENTRIC:\n\u001b[1;32m     26\u001b[0m         \u001b[39mself\u001b[39m\u001b[39m.\u001b[39mrun_testing_strategy_metabolite()\n",
      "File \u001b[0;32m~/tudelft/thesis/metaengineering/src/orchestrator/test_runner.py:40\u001b[0m, in \u001b[0;36mTestRunner.run_testing_strategy_all\u001b[0;34m(self)\u001b[0m\n\u001b[1;32m     34\u001b[0m results_df \u001b[39m=\u001b[39m _fmt_regressor(results_df)\n\u001b[1;32m     35\u001b[0m split_kwargs \u001b[39m=\u001b[39m \u001b[39mdict\u001b[39m(\n\u001b[1;32m     36\u001b[0m     stratify\u001b[39m=\u001b[39m\u001b[39m'\u001b[39m\u001b[39mmetabolite_id\u001b[39m\u001b[39m'\u001b[39m,\n\u001b[1;32m     37\u001b[0m     shuffle\u001b[39m=\u001b[39m\u001b[39mTrue\u001b[39;00m\n\u001b[1;32m     38\u001b[0m )\n\u001b[0;32m---> 40\u001b[0m \u001b[39mself\u001b[39;49m\u001b[39m.\u001b[39;49m_run_testing(results_df, split_kwargs)\n",
      "File \u001b[0;32m~/tudelft/thesis/metaengineering/src/orchestrator/test_runner.py:94\u001b[0m, in \u001b[0;36mTestRunner._run_testing\u001b[0;34m(self, results_df, split_kwargs)\u001b[0m\n\u001b[1;32m     91\u001b[0m models \u001b[39m=\u001b[39m []\n\u001b[1;32m     93\u001b[0m \u001b[39mfor\u001b[39;00m run_id \u001b[39min\u001b[39;00m \u001b[39mrange\u001b[39m(\u001b[39m10\u001b[39m):\n\u001b[0;32m---> 94\u001b[0m     model \u001b[39m=\u001b[39m \u001b[39mself\u001b[39;49m\u001b[39m.\u001b[39;49m_do_retrain(tf, \u001b[39mself\u001b[39;49m\u001b[39m.\u001b[39;49mcurrent_run_config\u001b[39m.\u001b[39;49mstrategy, _result_df, split_kwargs)\n\u001b[1;32m     95\u001b[0m     models\u001b[39m.\u001b[39mappend(model)\n\u001b[1;32m     96\u001b[0m     _, X_test, _, y_test \u001b[39m=\u001b[39m \u001b[39mself\u001b[39m\u001b[39m.\u001b[39mtrainer\u001b[39m.\u001b[39mdo_train_test_split(tf, \u001b[39mself\u001b[39m\u001b[39m.\u001b[39mcurrent_run_config\u001b[39m.\u001b[39mstrategy, \u001b[39m*\u001b[39m\u001b[39m*\u001b[39msplit_kwargs)\n",
      "File \u001b[0;32m~/tudelft/thesis/metaengineering/src/orchestrator/runner.py:50\u001b[0m, in \u001b[0;36mRunner._do_retrain\u001b[0;34m(self, tf, strategy, result_df, split_kwargs)\u001b[0m\n\u001b[1;32m     48\u001b[0m model \u001b[39m=\u001b[39m build_model_pipeline(tf)\n\u001b[1;32m     49\u001b[0m model \u001b[39m=\u001b[39m parse_cv_result(model, result_df)\n\u001b[0;32m---> 50\u001b[0m model \u001b[39m=\u001b[39m \u001b[39mself\u001b[39;49m\u001b[39m.\u001b[39;49mtrainer\u001b[39m.\u001b[39;49mdo_retrain_model(tf, strategy, model, split_kwargs\u001b[39m=\u001b[39;49msplit_kwargs)\n\u001b[1;32m     52\u001b[0m \u001b[39mreturn\u001b[39;00m model\n",
      "File \u001b[0;32m~/tudelft/thesis/metaengineering/src/orchestrator/trainer.py:79\u001b[0m, in \u001b[0;36mTrainer.do_retrain_model\u001b[0;34m(self, tf, strategy, model, split_kwargs)\u001b[0m\n\u001b[1;32m     71\u001b[0m \u001b[39mdef\u001b[39;00m \u001b[39mdo_retrain_model\u001b[39m(\n\u001b[1;32m     72\u001b[0m     \u001b[39mself\u001b[39m,\n\u001b[1;32m     73\u001b[0m     tf: TaskFrame, \n\u001b[0;32m   (...)\u001b[0m\n\u001b[1;32m     76\u001b[0m     split_kwargs: Dict\n\u001b[1;32m     77\u001b[0m ):\n\u001b[1;32m     78\u001b[0m     X_train, X_test, y_train, y_test \u001b[39m=\u001b[39m \u001b[39mself\u001b[39m\u001b[39m.\u001b[39mdo_train_test_split(tf, strategy, \u001b[39m*\u001b[39m\u001b[39m*\u001b[39msplit_kwargs)\n\u001b[0;32m---> 79\u001b[0m     model\u001b[39m.\u001b[39;49mfit(X_train, y_train)\n\u001b[1;32m     80\u001b[0m     \u001b[39mreturn\u001b[39;00m model\n",
      "File \u001b[0;32m~/tudelft/thesis/.env39/lib/python3.9/site-packages/sklearn/compose/_target.py:252\u001b[0m, in \u001b[0;36mTransformedTargetRegressor.fit\u001b[0;34m(self, X, y, **fit_params)\u001b[0m\n\u001b[1;32m    249\u001b[0m \u001b[39melse\u001b[39;00m:\n\u001b[1;32m    250\u001b[0m     \u001b[39mself\u001b[39m\u001b[39m.\u001b[39mregressor_ \u001b[39m=\u001b[39m clone(\u001b[39mself\u001b[39m\u001b[39m.\u001b[39mregressor)\n\u001b[0;32m--> 252\u001b[0m \u001b[39mself\u001b[39;49m\u001b[39m.\u001b[39;49mregressor_\u001b[39m.\u001b[39;49mfit(X, y_trans, \u001b[39m*\u001b[39;49m\u001b[39m*\u001b[39;49mfit_params)\n\u001b[1;32m    254\u001b[0m \u001b[39mif\u001b[39;00m \u001b[39mhasattr\u001b[39m(\u001b[39mself\u001b[39m\u001b[39m.\u001b[39mregressor_, \u001b[39m\"\u001b[39m\u001b[39mfeature_names_in_\u001b[39m\u001b[39m\"\u001b[39m):\n\u001b[1;32m    255\u001b[0m     \u001b[39mself\u001b[39m\u001b[39m.\u001b[39mfeature_names_in_ \u001b[39m=\u001b[39m \u001b[39mself\u001b[39m\u001b[39m.\u001b[39mregressor_\u001b[39m.\u001b[39mfeature_names_in_\n",
      "File \u001b[0;32m~/tudelft/thesis/.env39/lib/python3.9/site-packages/sklearn/pipeline.py:382\u001b[0m, in \u001b[0;36mPipeline.fit\u001b[0;34m(self, X, y, **fit_params)\u001b[0m\n\u001b[1;32m    380\u001b[0m     \u001b[39mif\u001b[39;00m \u001b[39mself\u001b[39m\u001b[39m.\u001b[39m_final_estimator \u001b[39m!=\u001b[39m \u001b[39m\"\u001b[39m\u001b[39mpassthrough\u001b[39m\u001b[39m\"\u001b[39m:\n\u001b[1;32m    381\u001b[0m         fit_params_last_step \u001b[39m=\u001b[39m fit_params_steps[\u001b[39mself\u001b[39m\u001b[39m.\u001b[39msteps[\u001b[39m-\u001b[39m\u001b[39m1\u001b[39m][\u001b[39m0\u001b[39m]]\n\u001b[0;32m--> 382\u001b[0m         \u001b[39mself\u001b[39;49m\u001b[39m.\u001b[39;49m_final_estimator\u001b[39m.\u001b[39;49mfit(Xt, y, \u001b[39m*\u001b[39;49m\u001b[39m*\u001b[39;49mfit_params_last_step)\n\u001b[1;32m    384\u001b[0m \u001b[39mreturn\u001b[39;00m \u001b[39mself\u001b[39m\n",
      "File \u001b[0;32m~/tudelft/thesis/.env39/lib/python3.9/site-packages/sklearn/neural_network/_multilayer_perceptron.py:762\u001b[0m, in \u001b[0;36mBaseMultilayerPerceptron.fit\u001b[0;34m(self, X, y)\u001b[0m\n\u001b[1;32m    745\u001b[0m \u001b[39mdef\u001b[39;00m \u001b[39mfit\u001b[39m(\u001b[39mself\u001b[39m, X, y):\n\u001b[1;32m    746\u001b[0m \u001b[39m    \u001b[39m\u001b[39m\"\"\"Fit the model to data matrix X and target(s) y.\u001b[39;00m\n\u001b[1;32m    747\u001b[0m \n\u001b[1;32m    748\u001b[0m \u001b[39m    Parameters\u001b[39;00m\n\u001b[0;32m   (...)\u001b[0m\n\u001b[1;32m    760\u001b[0m \u001b[39m        Returns a trained MLP model.\u001b[39;00m\n\u001b[1;32m    761\u001b[0m \u001b[39m    \"\"\"\u001b[39;00m\n\u001b[0;32m--> 762\u001b[0m     \u001b[39mreturn\u001b[39;00m \u001b[39mself\u001b[39;49m\u001b[39m.\u001b[39;49m_fit(X, y, incremental\u001b[39m=\u001b[39;49m\u001b[39mFalse\u001b[39;49;00m)\n",
      "File \u001b[0;32m~/tudelft/thesis/.env39/lib/python3.9/site-packages/sklearn/neural_network/_multilayer_perceptron.py:386\u001b[0m, in \u001b[0;36mBaseMultilayerPerceptron._fit\u001b[0;34m(self, X, y, incremental)\u001b[0m\n\u001b[1;32m    384\u001b[0m \u001b[39m# Validate input parameters.\u001b[39;00m\n\u001b[1;32m    385\u001b[0m \u001b[39mself\u001b[39m\u001b[39m.\u001b[39m_validate_hyperparameters()\n\u001b[0;32m--> 386\u001b[0m \u001b[39mif\u001b[39;00m np\u001b[39m.\u001b[39many(np\u001b[39m.\u001b[39;49marray(hidden_layer_sizes) \u001b[39m<\u001b[39;49m\u001b[39m=\u001b[39;49m \u001b[39m0\u001b[39;49m):\n\u001b[1;32m    387\u001b[0m     \u001b[39mraise\u001b[39;00m \u001b[39mValueError\u001b[39;00m(\n\u001b[1;32m    388\u001b[0m         \u001b[39m\"\u001b[39m\u001b[39mhidden_layer_sizes must be > 0, got \u001b[39m\u001b[39m%s\u001b[39;00m\u001b[39m.\u001b[39m\u001b[39m\"\u001b[39m \u001b[39m%\u001b[39m hidden_layer_sizes\n\u001b[1;32m    389\u001b[0m     )\n\u001b[1;32m    390\u001b[0m first_pass \u001b[39m=\u001b[39m \u001b[39mnot\u001b[39;00m \u001b[39mhasattr\u001b[39m(\u001b[39mself\u001b[39m, \u001b[39m\"\u001b[39m\u001b[39mcoefs_\u001b[39m\u001b[39m\"\u001b[39m) \u001b[39mor\u001b[39;00m (\n\u001b[1;32m    391\u001b[0m     \u001b[39mnot\u001b[39;00m \u001b[39mself\u001b[39m\u001b[39m.\u001b[39mwarm_start \u001b[39mand\u001b[39;00m \u001b[39mnot\u001b[39;00m incremental\n\u001b[1;32m    392\u001b[0m )\n",
      "\u001b[0;31mTypeError\u001b[0m: '<=' not supported between instances of 'numpy.ndarray' and 'int'"
     ]
    }
   ],
   "source": [
    "DataLoader.DATA_FOLDER = './data/training/'\n",
    "for tier in tiers:\n",
    "    for strategy in strategies:\n",
    "        print(f\"{tier} - {strategy}\")\n",
    "        orchestrator: SklearnOrchestrator = SklearnOrchestrator()\n",
    "        orchestrator.prepare_orchestrator(\n",
    "            *build_config(\n",
    "                strategy=strategy,\n",
    "                tier=tier,\n",
    "                params=params,\n",
    "                forced_training=False,\n",
    "                forced_testing=True,\n",
    "                **get_dl_config_for_strategy(tier)\n",
    "            )\n",
    "        )\n",
    "        orchestrator.run()"
   ]
  }
 ],
 "metadata": {
  "kernelspec": {
   "display_name": ".env39",
   "language": "python",
   "name": "python3"
  },
  "language_info": {
   "codemirror_mode": {
    "name": "ipython",
    "version": 3
   },
   "file_extension": ".py",
   "mimetype": "text/x-python",
   "name": "python",
   "nbconvert_exporter": "python",
   "pygments_lexer": "ipython3",
   "version": "3.9.16"
  },
  "orig_nbformat": 4,
  "vscode": {
   "interpreter": {
    "hash": "64b3e444af11ccfc5614e4e5e5497a90c74cb418096b0258092cc72928011911"
   }
  }
 },
 "nbformat": 4,
 "nbformat_minor": 2
}
