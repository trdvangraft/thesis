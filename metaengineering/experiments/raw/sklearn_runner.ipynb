{
 "cells": [
  {
   "cell_type": "markdown",
   "metadata": {},
   "source": [
    "# Libraries"
   ]
  },
  {
   "cell_type": "code",
   "execution_count": 1,
   "metadata": {},
   "outputs": [
    {
     "name": "stdout",
     "output_type": "stream",
     "text": [
      "/home/tvangraft/tudelft/thesis/metaengineering\n"
     ]
    }
   ],
   "source": [
    "cd /home/tvangraft/tudelft/thesis/metaengineering"
   ]
  },
  {
   "cell_type": "code",
   "execution_count": 2,
   "metadata": {},
   "outputs": [
    {
     "name": "stderr",
     "output_type": "stream",
     "text": [
      "Intel(R) Extension for Scikit-learn* enabled (https://github.com/intel/scikit-learn-intelex)\n"
     ]
    }
   ],
   "source": [
    "from sklearnex import patch_sklearn\n",
    "patch_sklearn()"
   ]
  },
  {
   "cell_type": "code",
   "execution_count": 3,
   "metadata": {},
   "outputs": [],
   "source": [
    "from src.pipeline.dataloader import DataLoader\n",
    "from src.orchestrator.orchestrator import SklearnOrchestrator\n",
    "\n",
    "from src.settings.strategy import Strategy\n",
    "from src.settings.tier import Tier\n",
    "\n",
    "from src.utils.utils import build_config\n",
    "\n",
    "from sklearn.preprocessing import StandardScaler, MinMaxScaler\n",
    "from sklearn.svm import SVR\n",
    "from sklearn.linear_model import ElasticNet\n",
    "from sklearn.ensemble import RandomForestRegressor\n",
    "from sklearn.neural_network import MLPRegressor"
   ]
  },
  {
   "cell_type": "code",
   "execution_count": 4,
   "metadata": {},
   "outputs": [],
   "source": [
    "def get_dl_config_for_strategy(tier: Tier):\n",
    "    lookup = {\n",
    "        Tier.TIER0: dict(\n",
    "            additional_filters=[\"is_precursor\",],\n",
    "            additional_transforms=[\"log_fold_change_protein\",]\n",
    "        ),\n",
    "        Tier.TIER1: dict(\n",
    "            additional_frames=[\"interaction_frame\",],\n",
    "            additional_filters=[\n",
    "                \"is_precursor\",\n",
    "            ],\n",
    "            additional_transforms=[\n",
    "                \"log_fold_change_protein\",\n",
    "                \"ppi_coo_matrix\",\n",
    "            ]\n",
    "        )\n",
    "    }\n",
    "    return lookup.get(tier)"
   ]
  },
  {
   "cell_type": "code",
   "execution_count": 5,
   "metadata": {},
   "outputs": [],
   "source": [
    "params = {\n",
    "    'SVR': {\n",
    "        'regressor__regressor': SVR(),\n",
    "        'regressor__regressor__kernel': ['rbf', 'sigmoid'],\n",
    "        'regressor__regressor__gamma': ['auto', 'scale'],\n",
    "        'regressor__regressor__epsilon': [0.1, 0.01, 0.001, 0.0001],\n",
    "        'regressor__regressor__C': [10, 100, 1000],\n",
    "        'regressor__preprocessor__num__scaler': [MinMaxScaler(), StandardScaler()],\n",
    "    },\n",
    "    'RandomForestRegressor': {\n",
    "        'regressor__regressor': RandomForestRegressor(),\n",
    "        'regressor__regressor__n_estimators': [10, 25, 50, 75, 100],\n",
    "        'regressor__regressor__criterion': ['squared_error', 'friedman_mse'],\n",
    "        'regressor__regressor__max_depth': [5, 10, 20],\n",
    "        'regressor__preprocessor__num__scaler': [MinMaxScaler(), StandardScaler()]\n",
    "    },\n",
    "    'ElasticNet': {\n",
    "        'regressor__regressor': ElasticNet(),\n",
    "        'regressor__regressor__l1_ratio': [0.01, 0.25, 0.5, 0.75, 1],\n",
    "        'regressor__regressor__tol': [0.01],\n",
    "        'regressor__preprocessor__num__scaler': [MinMaxScaler(), StandardScaler()]\n",
    "    },\n",
    "    'MLPRegressor': {\n",
    "        'regressor__regressor': MLPRegressor(),\n",
    "        'regressor__regressor__hidden_layer_sizes':  [[128, 32, 32], [64, 32]],\n",
    "        'regressor__regressor__batch_size': [8, 16, 4, 2],\n",
    "    }\n",
    "}\n",
    "\n",
    "strategies = [Strategy.ALL, Strategy.ONE_VS_ALL, Strategy.METABOLITE_CENTRIC]\n",
    "tiers = [Tier.TIER0, Tier.TIER1]"
   ]
  },
  {
   "cell_type": "code",
   "execution_count": 7,
   "metadata": {},
   "outputs": [
    {
     "name": "stdout",
     "output_type": "stream",
     "text": [
      "Tier.TIER0 - Strategy.ALL\n",
      "ParsedDataLoaderConfig(additional_frames=[], additional_transforms=[<bound method FrameTransformers.log_fold_change_protein of <src.pipeline.frame.transformer.FrameTransformers object at 0x7fc58b164610>>], additional_filters=[<bound method FrameFilters.is_precursor of <src.pipeline.frame.filter.FrameFilters object at 0x7fc58c9b2a30>>])\n",
      "Result for Strategy.ALL_all already exists\n",
      "['all', 'SVR()', 'RandomForestRegressor()', 'ElasticNet()', 'MLPRegressor()']\n",
      "architecture='all'\n",
      "ParsedDataLoaderConfig(additional_frames=[], additional_transforms=[<bound method FrameTransformers.log_fold_change_protein of <src.pipeline.frame.transformer.FrameTransformers object at 0x7fc58b164610>>], additional_filters=[<bound method FrameFilters.is_precursor of <src.pipeline.frame.filter.FrameFilters object at 0x7fc58c9b2a30>>])\n",
      "RandomForest model\n",
      "RandomForest model\n",
      "RandomForest model\n",
      "RandomForest model\n",
      "RandomForest model\n",
      "RandomForest model\n",
      "RandomForest model\n",
      "RandomForest model\n",
      "RandomForest model\n",
      "RandomForest model\n"
     ]
    },
    {
     "ename": "KeyError",
     "evalue": "'y_true'",
     "output_type": "error",
     "traceback": [
      "\u001b[0;31m---------------------------------------------------------------------------\u001b[0m",
      "\u001b[0;31mKeyError\u001b[0m                                  Traceback (most recent call last)",
      "Cell \u001b[0;32mIn[7], line 16\u001b[0m\n\u001b[1;32m      5\u001b[0m orchestrator: SklearnOrchestrator \u001b[39m=\u001b[39m SklearnOrchestrator()\n\u001b[1;32m      6\u001b[0m orchestrator\u001b[39m.\u001b[39mprepare_orchestrator(\n\u001b[1;32m      7\u001b[0m     \u001b[39m*\u001b[39mbuild_config(\n\u001b[1;32m      8\u001b[0m         strategy\u001b[39m=\u001b[39mstrategy,\n\u001b[0;32m   (...)\u001b[0m\n\u001b[1;32m     14\u001b[0m     )\n\u001b[1;32m     15\u001b[0m )\n\u001b[0;32m---> 16\u001b[0m orchestrator\u001b[39m.\u001b[39;49mrun()\n",
      "File \u001b[0;32m~/tudelft/thesis/metaengineering/src/orchestrator/orchestrator.py:68\u001b[0m, in \u001b[0;36mSklearnOrchestrator.run\u001b[0;34m(self)\u001b[0m\n\u001b[1;32m     65\u001b[0m tl \u001b[39m=\u001b[39m \u001b[39mself\u001b[39m\u001b[39m.\u001b[39mget_taskloader()\n\u001b[1;32m     67\u001b[0m TrainRunner(dl, tl)\u001b[39m.\u001b[39mprepare_run(\u001b[39mself\u001b[39m\u001b[39m.\u001b[39mrun_config)\u001b[39m.\u001b[39mrun_training()\n\u001b[0;32m---> 68\u001b[0m TestRunner(dl, tl)\u001b[39m.\u001b[39;49mprepare_run(\u001b[39mself\u001b[39;49m\u001b[39m.\u001b[39;49mrun_config)\u001b[39m.\u001b[39;49mrun_testing()\n\u001b[1;32m     70\u001b[0m explainer \u001b[39m=\u001b[39m Explainer(dl, tl)\n\u001b[1;32m     71\u001b[0m explainer\u001b[39m.\u001b[39mprepare_explainer(\u001b[39mself\u001b[39m\u001b[39m.\u001b[39mexplain_config)\n",
      "File \u001b[0;32m~/tudelft/thesis/metaengineering/src/orchestrator/test_runner.py:25\u001b[0m, in \u001b[0;36mTestRunner.run_testing\u001b[0;34m(self)\u001b[0m\n\u001b[1;32m     23\u001b[0m \u001b[39mdef\u001b[39;00m \u001b[39mrun_testing\u001b[39m(\u001b[39mself\u001b[39m):\n\u001b[1;32m     24\u001b[0m     \u001b[39mif\u001b[39;00m \u001b[39mself\u001b[39m\u001b[39m.\u001b[39mcurrent_run_config\u001b[39m.\u001b[39mstrategy \u001b[39m==\u001b[39m Strategy\u001b[39m.\u001b[39mALL:\n\u001b[0;32m---> 25\u001b[0m         \u001b[39mself\u001b[39;49m\u001b[39m.\u001b[39;49mrun_testing_strategy_all()\n\u001b[1;32m     26\u001b[0m     \u001b[39melif\u001b[39;00m \u001b[39mself\u001b[39m\u001b[39m.\u001b[39mcurrent_run_config\u001b[39m.\u001b[39mstrategy \u001b[39m==\u001b[39m Strategy\u001b[39m.\u001b[39mMETABOLITE_CENTRIC:\n\u001b[1;32m     27\u001b[0m         \u001b[39mself\u001b[39m\u001b[39m.\u001b[39mrun_testing_strategy_metabolite()\n",
      "File \u001b[0;32m~/tudelft/thesis/metaengineering/src/orchestrator/test_runner.py:41\u001b[0m, in \u001b[0;36mTestRunner.run_testing_strategy_all\u001b[0;34m(self)\u001b[0m\n\u001b[1;32m     35\u001b[0m results_df \u001b[39m=\u001b[39m _fmt_regressor(results_df)\n\u001b[1;32m     36\u001b[0m split_kwargs \u001b[39m=\u001b[39m \u001b[39mdict\u001b[39m(\n\u001b[1;32m     37\u001b[0m     stratify\u001b[39m=\u001b[39m\u001b[39m'\u001b[39m\u001b[39mmetabolite_id\u001b[39m\u001b[39m'\u001b[39m,\n\u001b[1;32m     38\u001b[0m     shuffle\u001b[39m=\u001b[39m\u001b[39mTrue\u001b[39;00m\n\u001b[1;32m     39\u001b[0m )\n\u001b[0;32m---> 41\u001b[0m \u001b[39mself\u001b[39;49m\u001b[39m.\u001b[39;49m_run_testing(results_df, split_kwargs)\n",
      "File \u001b[0;32m~/tudelft/thesis/metaengineering/src/orchestrator/test_runner.py:101\u001b[0m, in \u001b[0;36mTestRunner._run_testing\u001b[0;34m(self, results_df, split_kwargs)\u001b[0m\n\u001b[1;32m     99\u001b[0m \u001b[39mif\u001b[39;00m architecture \u001b[39m==\u001b[39m \u001b[39m'\u001b[39m\u001b[39mall\u001b[39m\u001b[39m'\u001b[39m:\n\u001b[1;32m    100\u001b[0m     metabolite_id \u001b[39m=\u001b[39m \u001b[39mself\u001b[39m\u001b[39m.\u001b[39mget_metabolite_id(tf)\n\u001b[0;32m--> 101\u001b[0m     model_perfomances \u001b[39m=\u001b[39m np\u001b[39m.\u001b[39marray([\n\u001b[1;32m    102\u001b[0m         mean_absolute_error(\n\u001b[1;32m    103\u001b[0m             testResultStore\u001b[39m.\u001b[39mpred_results[\u001b[39mf\u001b[39m\u001b[39m\"\u001b[39m\u001b[39m{\u001b[39;00mrun_id\u001b[39m}\u001b[39;00m\u001b[39m_\u001b[39m\u001b[39m{\u001b[39;00mmetabolite_id\u001b[39m}\u001b[39;00m\u001b[39m_all\u001b[39m\u001b[39m\"\u001b[39m][\u001b[39m'\u001b[39m\u001b[39my_true\u001b[39m\u001b[39m'\u001b[39m],\n\u001b[1;32m    104\u001b[0m             testResultStore\u001b[39m.\u001b[39mpred_results[\u001b[39mf\u001b[39m\u001b[39m\"\u001b[39m\u001b[39m{\u001b[39;00mrun_id\u001b[39m}\u001b[39;00m\u001b[39m_\u001b[39m\u001b[39m{\u001b[39;00mmetabolite_id\u001b[39m}\u001b[39;00m\u001b[39m_all\u001b[39m\u001b[39m\"\u001b[39m][\u001b[39m'\u001b[39m\u001b[39my_pred\u001b[39m\u001b[39m'\u001b[39m],\n\u001b[1;32m    105\u001b[0m         )\n\u001b[1;32m    106\u001b[0m         \u001b[39mfor\u001b[39;00m run_id \u001b[39min\u001b[39;00m \u001b[39mrange\u001b[39m(\u001b[39m10\u001b[39m)\n\u001b[1;32m    107\u001b[0m     ])\n\u001b[1;32m    109\u001b[0m     idx \u001b[39m=\u001b[39m np\u001b[39m.\u001b[39margmin(model_perfomances)\n\u001b[1;32m    112\u001b[0m     \u001b[39mwith\u001b[39;00m \u001b[39mopen\u001b[39m(\u001b[39mf\u001b[39m\u001b[39m'\u001b[39m\u001b[39m{\u001b[39;00m\u001b[39mself\u001b[39m\u001b[39m.\u001b[39m_get_model_path()\u001b[39m}\u001b[39;00m\u001b[39m/\u001b[39m\u001b[39m{\u001b[39;00mtf\u001b[39m.\u001b[39mtitle\u001b[39m}\u001b[39;00m\u001b[39m_\u001b[39m\u001b[39m{\u001b[39;00mtf\u001b[39m.\u001b[39mframe_name\u001b[39m}\u001b[39;00m\u001b[39m.pickle\u001b[39m\u001b[39m'\u001b[39m, \u001b[39m'\u001b[39m\u001b[39mwb\u001b[39m\u001b[39m'\u001b[39m) \u001b[39mas\u001b[39;00m handle:\n",
      "File \u001b[0;32m~/tudelft/thesis/metaengineering/src/orchestrator/test_runner.py:103\u001b[0m, in \u001b[0;36m<listcomp>\u001b[0;34m(.0)\u001b[0m\n\u001b[1;32m     99\u001b[0m \u001b[39mif\u001b[39;00m architecture \u001b[39m==\u001b[39m \u001b[39m'\u001b[39m\u001b[39mall\u001b[39m\u001b[39m'\u001b[39m:\n\u001b[1;32m    100\u001b[0m     metabolite_id \u001b[39m=\u001b[39m \u001b[39mself\u001b[39m\u001b[39m.\u001b[39mget_metabolite_id(tf)\n\u001b[1;32m    101\u001b[0m     model_perfomances \u001b[39m=\u001b[39m np\u001b[39m.\u001b[39marray([\n\u001b[1;32m    102\u001b[0m         mean_absolute_error(\n\u001b[0;32m--> 103\u001b[0m             testResultStore\u001b[39m.\u001b[39;49mpred_results[\u001b[39mf\u001b[39;49m\u001b[39m\"\u001b[39;49m\u001b[39m{\u001b[39;49;00mrun_id\u001b[39m}\u001b[39;49;00m\u001b[39m_\u001b[39;49m\u001b[39m{\u001b[39;49;00mmetabolite_id\u001b[39m}\u001b[39;49;00m\u001b[39m_all\u001b[39;49m\u001b[39m\"\u001b[39;49m][\u001b[39m'\u001b[39;49m\u001b[39my_true\u001b[39;49m\u001b[39m'\u001b[39;49m],\n\u001b[1;32m    104\u001b[0m             testResultStore\u001b[39m.\u001b[39mpred_results[\u001b[39mf\u001b[39m\u001b[39m\"\u001b[39m\u001b[39m{\u001b[39;00mrun_id\u001b[39m}\u001b[39;00m\u001b[39m_\u001b[39m\u001b[39m{\u001b[39;00mmetabolite_id\u001b[39m}\u001b[39;00m\u001b[39m_all\u001b[39m\u001b[39m\"\u001b[39m][\u001b[39m'\u001b[39m\u001b[39my_pred\u001b[39m\u001b[39m'\u001b[39m],\n\u001b[1;32m    105\u001b[0m         )\n\u001b[1;32m    106\u001b[0m         \u001b[39mfor\u001b[39;00m run_id \u001b[39min\u001b[39;00m \u001b[39mrange\u001b[39m(\u001b[39m10\u001b[39m)\n\u001b[1;32m    107\u001b[0m     ])\n\u001b[1;32m    109\u001b[0m     idx \u001b[39m=\u001b[39m np\u001b[39m.\u001b[39margmin(model_perfomances)\n\u001b[1;32m    112\u001b[0m     \u001b[39mwith\u001b[39;00m \u001b[39mopen\u001b[39m(\u001b[39mf\u001b[39m\u001b[39m'\u001b[39m\u001b[39m{\u001b[39;00m\u001b[39mself\u001b[39m\u001b[39m.\u001b[39m_get_model_path()\u001b[39m}\u001b[39;00m\u001b[39m/\u001b[39m\u001b[39m{\u001b[39;00mtf\u001b[39m.\u001b[39mtitle\u001b[39m}\u001b[39;00m\u001b[39m_\u001b[39m\u001b[39m{\u001b[39;00mtf\u001b[39m.\u001b[39mframe_name\u001b[39m}\u001b[39;00m\u001b[39m.pickle\u001b[39m\u001b[39m'\u001b[39m, \u001b[39m'\u001b[39m\u001b[39mwb\u001b[39m\u001b[39m'\u001b[39m) \u001b[39mas\u001b[39;00m handle:\n",
      "\u001b[0;31mKeyError\u001b[0m: 'y_true'"
     ]
    }
   ],
   "source": [
    "DataLoader.DATA_FOLDER = './data/training/'\n",
    "for tier in tiers:\n",
    "    for strategy in strategies:\n",
    "        print(f\"{tier} - {strategy}\")\n",
    "        orchestrator: SklearnOrchestrator = SklearnOrchestrator()\n",
    "        orchestrator.prepare_orchestrator(\n",
    "            *build_config(\n",
    "                strategy=strategy,\n",
    "                tier=tier,\n",
    "                params=params,\n",
    "                forced_training=False,\n",
    "                forced_testing=True,\n",
    "                **get_dl_config_for_strategy(tier)\n",
    "            )\n",
    "        )\n",
    "        orchestrator.run()"
   ]
  }
 ],
 "metadata": {
  "kernelspec": {
   "display_name": ".env39",
   "language": "python",
   "name": "python3"
  },
  "language_info": {
   "codemirror_mode": {
    "name": "ipython",
    "version": 3
   },
   "file_extension": ".py",
   "mimetype": "text/x-python",
   "name": "python",
   "nbconvert_exporter": "python",
   "pygments_lexer": "ipython3",
   "version": "3.9.16"
  },
  "orig_nbformat": 4,
  "vscode": {
   "interpreter": {
    "hash": "64b3e444af11ccfc5614e4e5e5497a90c74cb418096b0258092cc72928011911"
   }
  }
 },
 "nbformat": 4,
 "nbformat_minor": 2
}
