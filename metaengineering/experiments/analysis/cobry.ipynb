{
 "cells": [
  {
   "cell_type": "code",
   "execution_count": 1,
   "metadata": {},
   "outputs": [],
   "source": [
    "import pandas as pd\n",
    "import numpy as np\n",
    "\n",
    "import cobra\n",
    "from cobra.util import create_stoichiometric_matrix\n",
    "from cobra.core import Reaction\n",
    "\n",
    "from collections import defaultdict\n",
    "\n",
    "from typing import DefaultDict, List\n",
    "\n",
    "import matplotlib.pyplot as plt\n",
    "import seaborn as sns"
   ]
  },
  {
   "cell_type": "code",
   "execution_count": 2,
   "metadata": {},
   "outputs": [
    {
     "name": "stdout",
     "output_type": "stream",
     "text": [
      "Scaling...\n",
      " A: min|aij| =  1.000e+00  max|aij| =  1.000e+00  ratio =  1.000e+00\n",
      "Problem data seem to be well scaled\n"
     ]
    }
   ],
   "source": [
    "path = \"/home/tvangraft/tudelft/thesis/metaengineering/data\"\n",
    "model = cobra.io.read_sbml_model(f'{path}/iMM904.xml')"
   ]
  },
  {
   "cell_type": "code",
   "execution_count": 25,
   "metadata": {},
   "outputs": [],
   "source": [
    "PRECURSOR_METABOLITES = [\n",
    "    'g6p;g6p-B', 'g6p;f6p;g6p-B', 'f6p', 'dhap', '3pg;2pg',\n",
    "    'pep', 'pyr', 'r5p', 'e4p', 'accoa', 'akg', 'oaa',\n",
    "]\n",
    "\n",
    "def get_gene_reaction():\n",
    "    gene_to_reaction: DefaultDict[str, List[str]] = defaultdict(list)\n",
    "    reaction_to_gene: DefaultDict[str, List[str]] = defaultdict(list)\n",
    "\n",
    "    for gene in model.genes:\n",
    "        for reaction in gene.reactions:\n",
    "            gene_to_reaction[gene.id].append(reaction.id)\n",
    "            reaction_to_gene[reaction.id].append(gene.id)\n",
    "    return gene_to_reaction\n",
    "\n",
    "def is_precursor_metabolite(metabolite_model_id: str):\n",
    "    for precursor_metabolite in PRECURSOR_METABOLITES:\n",
    "        if precursor_metabolite in metabolite_model_id:\n",
    "            yield precursor_metabolite\n",
    "\n",
    "def get_compartment_for_enzymes(enzymes: List[str]):\n",
    "    gene_to_reaction = get_gene_reaction()\n",
    "    for target_enzyme in enzymes:\n",
    "        for reaction in gene_to_reaction[target_enzyme]:\n",
    "            for c in model.reactions.get_by_id(reaction).compartments:\n",
    "                yield c"
   ]
  },
  {
   "cell_type": "code",
   "execution_count": 4,
   "metadata": {},
   "outputs": [],
   "source": [
    "gene_to_reaction: DefaultDict[str, List[str]] = defaultdict(list)\n",
    "reaction_to_gene: DefaultDict[str, List[str]] = defaultdict(list)\n",
    "\n",
    "for gene in model.genes:\n",
    "    for reaction in gene.reactions:\n",
    "        gene_to_reaction[gene.id].append(reaction.id)\n",
    "        reaction_to_gene[reaction.id].append(gene.id)"
   ]
  },
  {
   "cell_type": "code",
   "execution_count": null,
   "metadata": {},
   "outputs": [],
   "source": [
    "precursor_model_metabolites = list(filter(lambda x: any((pc_meta in x.id for pc_meta in precursor_metabolites)), model.metabolites))\n",
    "precursor_model_metabolites_id = list(map(lambda x: x.id, precursor_model_metabolites))\n",
    "\n",
    "precursor_stiochiometric_df: pd.DataFrame = create_stoichiometric_matrix(model, array_type=\"DataFrame\")  # type: ignore\n",
    "precursor_stiochiometric_df = precursor_stiochiometric_df.loc[precursor_model_metabolites_id]\n",
    "precursor_stiochiometric_df = precursor_stiochiometric_df[precursor_stiochiometric_df.columns[(precursor_stiochiometric_df.abs().sum(axis=0) != 0.0)]]\n",
    "\n",
    "precursor_reactions = list(map(lambda x: model.reactions.get_by_id(x), precursor_stiochiometric_df.columns.to_list()))"
   ]
  },
  {
   "cell_type": "code",
   "execution_count": 11,
   "metadata": {},
   "outputs": [
    {
     "data": {
      "text/html": [
       "<div>\n",
       "<style scoped>\n",
       "    .dataframe tbody tr th:only-of-type {\n",
       "        vertical-align: middle;\n",
       "    }\n",
       "\n",
       "    .dataframe tbody tr th {\n",
       "        vertical-align: top;\n",
       "    }\n",
       "\n",
       "    .dataframe thead th {\n",
       "        text-align: right;\n",
       "    }\n",
       "</style>\n",
       "<table border=\"1\" class=\"dataframe\">\n",
       "  <thead>\n",
       "    <tr style=\"text-align: right;\">\n",
       "      <th></th>\n",
       "      <th>metabolite_model_id</th>\n",
       "      <th>reaction_id</th>\n",
       "      <th>is_active</th>\n",
       "      <th>precursor_id</th>\n",
       "    </tr>\n",
       "  </thead>\n",
       "  <tbody>\n",
       "    <tr>\n",
       "      <th>0</th>\n",
       "      <td>2dr5p_c</td>\n",
       "      <td>DRBK</td>\n",
       "      <td>1.0</td>\n",
       "      <td>r5p</td>\n",
       "    </tr>\n",
       "    <tr>\n",
       "      <th>1</th>\n",
       "      <td>1pyr5c_c</td>\n",
       "      <td>G5SADs</td>\n",
       "      <td>1.0</td>\n",
       "      <td>pyr</td>\n",
       "    </tr>\n",
       "    <tr>\n",
       "      <th>2</th>\n",
       "      <td>1pyr5c_c</td>\n",
       "      <td>P5CR</td>\n",
       "      <td>-1.0</td>\n",
       "      <td>pyr</td>\n",
       "    </tr>\n",
       "    <tr>\n",
       "      <th>3</th>\n",
       "      <td>1pyr5c_m</td>\n",
       "      <td>G5SADrm</td>\n",
       "      <td>1.0</td>\n",
       "      <td>pyr</td>\n",
       "    </tr>\n",
       "    <tr>\n",
       "      <th>4</th>\n",
       "      <td>1pyr5c_m</td>\n",
       "      <td>P5CDm</td>\n",
       "      <td>-1.0</td>\n",
       "      <td>pyr</td>\n",
       "    </tr>\n",
       "    <tr>\n",
       "      <th>...</th>\n",
       "      <td>...</td>\n",
       "      <td>...</td>\n",
       "      <td>...</td>\n",
       "      <td>...</td>\n",
       "    </tr>\n",
       "    <tr>\n",
       "      <th>225</th>\n",
       "      <td>r5p_c</td>\n",
       "      <td>RPI</td>\n",
       "      <td>-1.0</td>\n",
       "      <td>r5p</td>\n",
       "    </tr>\n",
       "    <tr>\n",
       "      <th>226</th>\n",
       "      <td>r5p_c</td>\n",
       "      <td>PRPPS</td>\n",
       "      <td>-1.0</td>\n",
       "      <td>r5p</td>\n",
       "    </tr>\n",
       "    <tr>\n",
       "      <th>227</th>\n",
       "      <td>r5p_c</td>\n",
       "      <td>THZPSN2_SC</td>\n",
       "      <td>-1.0</td>\n",
       "      <td>r5p</td>\n",
       "    </tr>\n",
       "    <tr>\n",
       "      <th>228</th>\n",
       "      <td>r5p_c</td>\n",
       "      <td>TKT1</td>\n",
       "      <td>-1.0</td>\n",
       "      <td>r5p</td>\n",
       "    </tr>\n",
       "    <tr>\n",
       "      <th>229</th>\n",
       "      <td>r5p_c</td>\n",
       "      <td>YUMPS</td>\n",
       "      <td>-1.0</td>\n",
       "      <td>r5p</td>\n",
       "    </tr>\n",
       "  </tbody>\n",
       "</table>\n",
       "<p>230 rows × 4 columns</p>\n",
       "</div>"
      ],
      "text/plain": [
       "    metabolite_model_id reaction_id  is_active precursor_id\n",
       "0               2dr5p_c        DRBK        1.0          r5p\n",
       "1              1pyr5c_c      G5SADs        1.0          pyr\n",
       "2              1pyr5c_c        P5CR       -1.0          pyr\n",
       "3              1pyr5c_m     G5SADrm        1.0          pyr\n",
       "4              1pyr5c_m       P5CDm       -1.0          pyr\n",
       "..                  ...         ...        ...          ...\n",
       "225               r5p_c         RPI       -1.0          r5p\n",
       "226               r5p_c       PRPPS       -1.0          r5p\n",
       "227               r5p_c  THZPSN2_SC       -1.0          r5p\n",
       "228               r5p_c        TKT1       -1.0          r5p\n",
       "229               r5p_c       YUMPS       -1.0          r5p\n",
       "\n",
       "[230 rows x 4 columns]"
      ]
     },
     "execution_count": 11,
     "metadata": {},
     "output_type": "execute_result"
    }
   ],
   "source": [
    "precursor_df = precursor_stiochiometric_df.stack().to_frame('is_active')\n",
    "precursor_df = precursor_df[precursor_df['is_active'] != 0.0].rename_axis(['metabolite_model_id', 'reaction_id']).reset_index()\n",
    "precursor_df['precursor_id'] = precursor_df['metabolite_model_id'].map(lambda x: next(is_precursor_metabolite(x)))\n",
    "precursor_df"
   ]
  },
  {
   "cell_type": "code",
   "execution_count": 12,
   "metadata": {},
   "outputs": [
    {
     "data": {
      "text/plain": [
       "array(['YAL038W', 'YBR249C', 'YBR291C', 'YDL040C', 'YDR035W', 'YDR127W',\n",
       "       'YGR147C', 'YGR254W', 'YHR174W', 'YKR093W', 'YKR097W', 'YMR323W',\n",
       "       'YOR347C', 'YOR393W', 'YPL281C'], dtype='<U7')"
      ]
     },
     "execution_count": 12,
     "metadata": {},
     "output_type": "execute_result"
    }
   ],
   "source": [
    "_df = precursor_df[precursor_df['precursor_id'] == 'pep']\n",
    "\n",
    "for _, data in _df.iterrows():\n",
    "    message = (\n",
    "        f\"|{data['metabolite_model_id']:=<20}|\\n\"\n",
    "        f\"|{data['reaction_id']:=<20}|\\n\"\n",
    "        f\"{reaction_to_gene[data['reaction_id']]}\\n\"\n",
    "    )\n",
    "\n",
    "    # print(message)\n",
    "\n",
    "genes_associated_with_pep = np.unique([x for reaction_id in _df['reaction_id'].values for x in reaction_to_gene[reaction_id]])\n",
    "genes_associated_with_pep"
   ]
  },
  {
   "cell_type": "markdown",
   "metadata": {},
   "source": [
    "### Pyruvate"
   ]
  },
  {
   "cell_type": "code",
   "execution_count": 28,
   "metadata": {},
   "outputs": [
    {
     "name": "stdout",
     "output_type": "stream",
     "text": [
      "['c', 'c', 'c', 'c', 'c', 'c', 'c', 'c', 'c', 'c', 'c', 'c', 'c', 'c', 'c', 'm', 'm', 'm', 'm', 'm', 'm', 'm', 'm']\n"
     ]
    }
   ],
   "source": [
    "target_enzymes_pyr = ['YGR240C', 'YLR044C', 'YMR012W', 'YHR190W', 'YMR318C', 'YDR019C', 'YNL248C', 'YML001W', 'YDL014W']\n",
    "compartments = list(get_compartment_for_enzymes(target_enzymes_pyr))\n",
    "print(compartments)"
   ]
  },
  {
   "cell_type": "code",
   "execution_count": 13,
   "metadata": {},
   "outputs": [
    {
     "name": "stdout",
     "output_type": "stream",
     "text": [
      "target_enzyme='YGR240C'\n",
      "PFK_3\n",
      "atp_c + s7p_c --> adp_c + h_c + s17bp_c\n",
      "PFK_2\n",
      "atp_c + tag6p__D_c --> adp_c + h_c + tagdp__D_c\n",
      "PFK\n",
      "atp_c + f6p_c --> adp_c + fdp_c + h_c\n",
      "target_enzyme='YLR044C'\n",
      "3MOBDC\n",
      "3mob_c + h_c --> 2mppal_c + co2_c\n",
      "3MOPDC\n",
      "3mop_c + h_c --> 2mbald_c + co2_c\n",
      "PYRDC2\n",
      "acald_c + h_c + pyr_c --> actn__R_c + co2_c\n",
      "PPYRDC\n",
      "h_c + phpyr_c --> co2_c + pacald_c\n",
      "INDPYRD\n",
      "h_c + indpyr_c <=> co2_c + id3acald_c\n",
      "ACALDCD\n",
      "2.0 acald_c --> actn__R_c\n",
      "PYRDC\n",
      "h_c + pyr_c --> acald_c + co2_c\n",
      "target_enzyme='YHR190W'\n",
      "SQLS\n",
      "2.0 frdp_c + h_c + nadph_c --> nadp_c + 2.0 ppi_c + sql_c\n",
      "target_enzyme='YMR318C'\n",
      "ALCD23yi\n",
      "2mppal_c + h_c + nadph_c --> ibutoh_c + nadp_c\n",
      "ALCD22yi\n",
      "2mbald_c + h_c + nadph_c --> 2mbtoh_c + nadp_c\n",
      "ALCD25yi\n",
      "h_c + nadph_c + pacald_c --> 2phetoh_c + nadp_c\n",
      "ALCD24yi\n",
      "3mbald_c + h_c + nadph_c --> iamoh_c + nadp_c\n",
      "target_enzyme='YDR019C'\n",
      "GCCcm\n",
      "dhlpro_m + nad_m <=> h_m + lpro_m + nadh_m\n",
      "GCC2bim\n",
      "alpam_m + thf_m --> dhlam_m + mlthf_m + nh4_m\n",
      "GCCam\n",
      "gly_m + h_m + lpro_m <=> alpro_m + co2_m\n",
      "GCC2am\n",
      "gly_m + h_m + lpam_m <=> alpam_m + co2_m\n",
      "GCCbim\n",
      "alpro_m + thf_m --> dhlpro_m + mlthf_m + nh4_m\n",
      "THFATm\n",
      "h2o_m + methf_m --> 5fthf_m + h_m\n",
      "GCC2cm_copy1\n",
      "dhlam_m + nad_m <=> h_m + lpam_m + nadh_m\n",
      "GLYCLm\n",
      "gly_m + nad_m + thf_m --> co2_m + mlthf_m + nadh_m + nh4_m\n"
     ]
    }
   ],
   "source": [
    "target_enzymes_pyr = ['YGR240C', 'YLR044C', 'YMR012W', 'YHR190W', 'YMR318C', 'YDR019C', 'YNL248C', 'YML001W', 'YDL014W']\n",
    "for target_enzyme in target_enzymes_pyr:\n",
    "    if len(gene_to_reaction[target_enzyme]) == 0:\n",
    "        continue\n",
    "    print(f\"{target_enzyme=}\")\n",
    "    for reaction in gene_to_reaction[target_enzyme]:\n",
    "        message = (\n",
    "            f\"{reaction}\\n\"\n",
    "            f\"{model.reactions.get_by_id(reaction).build_reaction_string()}\"\n",
    "        )\n",
    "        print(message)    \n",
    "    # print(gene_to_reaction[target_enzyme])\n"
   ]
  },
  {
   "cell_type": "code",
   "execution_count": 13,
   "metadata": {},
   "outputs": [
    {
     "name": "stdout",
     "output_type": "stream",
     "text": [
      "target_enzyme='YJR109C'\n",
      "CBPS\n",
      "2.0 atp_c + gln__L_c + h2o_c + hco3_c --> 2.0 adp_c + cbp_c + glu__L_c + 2.0 h_c + pi_c\n",
      "target_enzyme='YNL134C'\n",
      "target_enzyme='YDR365C'\n",
      "target_enzyme='YBL039C'\n",
      "CTPS2\n",
      "atp_c + gln__L_c + h2o_c + utp_c --> adp_c + ctp_c + glu__L_c + 2.0 h_c + pi_c\n",
      "CTPS1\n",
      "atp_c + nh4_c + utp_c --> adp_c + ctp_c + 2.0 h_c + pi_c\n",
      "target_enzyme='YOR020C'\n",
      "target_enzyme='YLR167W'\n",
      "target_enzyme='YHR063C'\n",
      "DPR\n",
      "2dhp_c + h_c + nadph_c --> nadp_c + pant__R_c\n",
      "target_enzyme='YIL118W'\n",
      "target_enzyme='YLR421C'\n"
     ]
    }
   ],
   "source": [
    "target_enzymes_pep = ['YDL014W', 'YDR019C', 'YNL248C', 'YML001W', 'YMR318C', 'YMR012W', 'YLR109W', 'YHR190W', 'YGR240C']\n",
    "for target_enzyme in target_enzymes_pep:\n",
    "    print(f\"{target_enzyme=}\")\n",
    "    for reaction in gene_to_reaction[target_enzyme]:\n",
    "        message = (\n",
    "            f\"{reaction}\\n\"\n",
    "            f\"{model.reactions.get_by_id(reaction).build_reaction_string()}\"\n",
    "        )\n",
    "        print(message)    "
   ]
  },
  {
   "cell_type": "code",
   "execution_count": 14,
   "metadata": {},
   "outputs": [
    {
     "name": "stdout",
     "output_type": "stream",
     "text": [
      "target_enzyme='YJR109C'\n",
      "CBPS\n",
      "2.0 atp_c + gln__L_c + h2o_c + hco3_c --> 2.0 adp_c + cbp_c + glu__L_c + 2.0 h_c + pi_c\n",
      "target_enzyme='YHR063C'\n",
      "DPR\n",
      "2dhp_c + h_c + nadph_c --> nadp_c + pant__R_c\n",
      "target_enzyme='YBL039C'\n",
      "CTPS2\n",
      "atp_c + gln__L_c + h2o_c + utp_c --> adp_c + ctp_c + glu__L_c + 2.0 h_c + pi_c\n",
      "CTPS1\n",
      "atp_c + nh4_c + utp_c --> adp_c + ctp_c + 2.0 h_c + pi_c\n",
      "target_enzyme='YDR365C'\n",
      "target_enzyme='YNL134C'\n",
      "target_enzyme='YOR020C'\n",
      "target_enzyme='YCL030C'\n",
      "PRAMPC\n",
      "h2o_c + prbamp_c --> prfp_c\n",
      "PRATPP\n",
      "h2o_c + prbatp_c --> h_c + ppi_c + prbamp_c\n",
      "HISTD\n",
      "h2o_c + histd_c + 2.0 nad_c --> 3.0 h_c + his__L_c + 2.0 nadh_c\n",
      "target_enzyme='YIL118W'\n",
      "target_enzyme='YNL178W'\n"
     ]
    }
   ],
   "source": [
    "target_enzyme_dhap = ['YDL014W', 'YML001W', 'YDR019C', 'YNL248C', 'YMR012W', 'YMR318C', 'YHR190W', 'YLR044C', 'YGR240C']\n",
    "for target_enzyme in target_enzyme_dhap:\n",
    "    print(f\"{target_enzyme=}\")\n",
    "    for reaction in gene_to_reaction[target_enzyme]:\n",
    "        message = (\n",
    "            f\"{reaction}\\n\"\n",
    "            f\"{model.reactions.get_by_id(reaction).build_reaction_string()}\"\n",
    "        )\n",
    "        print(message)    "
   ]
  }
 ],
 "metadata": {
  "kernelspec": {
   "display_name": "Python 3.9.12 ('.env': venv)",
   "language": "python",
   "name": "python3"
  },
  "language_info": {
   "codemirror_mode": {
    "name": "ipython",
    "version": 3
   },
   "file_extension": ".py",
   "mimetype": "text/x-python",
   "name": "python",
   "nbconvert_exporter": "python",
   "pygments_lexer": "ipython3",
   "version": "3.8.10 (default, Nov 14 2022, 12:59:47) \n[GCC 9.4.0]"
  },
  "orig_nbformat": 4,
  "vscode": {
   "interpreter": {
    "hash": "a542b6343c6490b05f36876d198b1a03a25da0ffb80d837b6b25e87db0e241d9"
   }
  }
 },
 "nbformat": 4,
 "nbformat_minor": 2
}
