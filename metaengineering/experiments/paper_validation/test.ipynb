{
 "cells": [
  {
   "cell_type": "code",
   "execution_count": 1,
   "metadata": {},
   "outputs": [],
   "source": [
    "from sklearn.model_selection import train_test_split\n",
    "\n",
    "import pandas as pd"
   ]
  },
  {
   "cell_type": "code",
   "execution_count": 9,
   "metadata": {},
   "outputs": [],
   "source": [
    "df = pd.DataFrame({\n",
    "    \"enzymes\": [\"enzyme1\", \"enzyme2\", \"enzyme3\", \"enzyme4\"],\n",
    "    \"knockout\": [\"knockout1\", \"knockout2\", \"knockout3\", \"knockout3\"],\n",
    "    \"metabolite\": [\"e4p\", \"pep\", \"pyr\", \"pyr\"],\n",
    "    \"enzyme1\": [0.8, 0.3, 0.4, 0.2],\n",
    "    \"enzyme2\": [-.1, 0.0, 0.3, 1.0],\n",
    "    \"concentration\": [0.1, 0.2, 0.4, 0.8]\n",
    "})\n",
    "df = df.set_index([\"enzymes\", \"knockout\", \"metabolite\"])\n",
    "X = df[['enzyme1', 'enzyme2']]\n",
    "y = df[['concentration']]"
   ]
  },
  {
   "cell_type": "code",
   "execution_count": 16,
   "metadata": {},
   "outputs": [
    {
     "data": {
      "text/html": [
       "<div>\n",
       "<style scoped>\n",
       "    .dataframe tbody tr th:only-of-type {\n",
       "        vertical-align: middle;\n",
       "    }\n",
       "\n",
       "    .dataframe tbody tr th {\n",
       "        vertical-align: top;\n",
       "    }\n",
       "\n",
       "    .dataframe thead th {\n",
       "        text-align: right;\n",
       "    }\n",
       "</style>\n",
       "<table border=\"1\" class=\"dataframe\">\n",
       "  <thead>\n",
       "    <tr style=\"text-align: right;\">\n",
       "      <th></th>\n",
       "      <th></th>\n",
       "      <th></th>\n",
       "      <th>concentration</th>\n",
       "    </tr>\n",
       "    <tr>\n",
       "      <th>enzymes</th>\n",
       "      <th>knockout</th>\n",
       "      <th>metabolite</th>\n",
       "      <th></th>\n",
       "    </tr>\n",
       "  </thead>\n",
       "  <tbody>\n",
       "    <tr>\n",
       "      <th>enzyme1</th>\n",
       "      <th>knockout1</th>\n",
       "      <th>e4p</th>\n",
       "      <td>0.1</td>\n",
       "    </tr>\n",
       "    <tr>\n",
       "      <th>enzyme2</th>\n",
       "      <th>knockout2</th>\n",
       "      <th>pep</th>\n",
       "      <td>0.2</td>\n",
       "    </tr>\n",
       "    <tr>\n",
       "      <th>enzyme3</th>\n",
       "      <th>knockout3</th>\n",
       "      <th>pyr</th>\n",
       "      <td>0.4</td>\n",
       "    </tr>\n",
       "  </tbody>\n",
       "</table>\n",
       "</div>"
      ],
      "text/plain": [
       "                              concentration\n",
       "enzymes knockout  metabolite               \n",
       "enzyme1 knockout1 e4p                   0.1\n",
       "enzyme2 knockout2 pep                   0.2\n",
       "enzyme3 knockout3 pyr                   0.4"
      ]
     },
     "execution_count": 16,
     "metadata": {},
     "output_type": "execute_result"
    }
   ],
   "source": [
    "X_train, X_test, y_train, y_test = train_test_split(\n",
    "    X.reset_index(), y,\n",
    "    shuffle=False,\n",
    ")\n",
    "y_train"
   ]
  }
 ],
 "metadata": {
  "kernelspec": {
   "display_name": ".env39",
   "language": "python",
   "name": "python3"
  },
  "language_info": {
   "codemirror_mode": {
    "name": "ipython",
    "version": 3
   },
   "file_extension": ".py",
   "mimetype": "text/x-python",
   "name": "python",
   "nbconvert_exporter": "python",
   "pygments_lexer": "ipython3",
   "version": "3.9.16"
  },
  "orig_nbformat": 4,
  "vscode": {
   "interpreter": {
    "hash": "64b3e444af11ccfc5614e4e5e5497a90c74cb418096b0258092cc72928011911"
   }
  }
 },
 "nbformat": 4,
 "nbformat_minor": 2
}
