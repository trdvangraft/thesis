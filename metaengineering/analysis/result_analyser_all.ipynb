{
 "cells": [
  {
   "cell_type": "markdown",
   "metadata": {},
   "source": [
    "# Imports"
   ]
  },
  {
   "cell_type": "code",
   "execution_count": 1,
   "metadata": {},
   "outputs": [
    {
     "name": "stdout",
     "output_type": "stream",
     "text": [
      "/home/tvangraft/tudelft/thesis/metaengineering\n"
     ]
    }
   ],
   "source": [
    "cd /home/tvangraft/tudelft/thesis/metaengineering"
   ]
  },
  {
   "cell_type": "code",
   "execution_count": 5,
   "metadata": {},
   "outputs": [],
   "source": [
    "import os\n",
    "import glob\n",
    "import json\n",
    "import ast\n",
    "import re\n",
    "\n",
    "from typing import Dict, List\n",
    "\n",
    "from src.utils.parsers.cv_parser import fmt_cv_results\n",
    "from src.utils.visualizers.prediction_figures import PredictionFigures\n",
    "from src.utils.visualizers.test_figures import TestFigures\n",
    "from src.utils.visualizers.cv_figures import CVFigures\n",
    "from src.settings.strategy import Strategy\n",
    "\n",
    "import pandas as pd\n",
    "import numpy as np\n",
    "\n",
    "import matplotlib.pyplot as plt\n",
    "import seaborn as sns\n",
    "\n",
    "from sklearn.metrics import mean_absolute_error, mean_absolute_percentage_error"
   ]
  },
  {
   "cell_type": "code",
   "execution_count": 3,
   "metadata": {},
   "outputs": [],
   "source": [
    "def get_metabolite_info():\n",
    "    metabolite_data = pd.read_csv('./data/training/metabolites.txt', delimiter='\\t')\n",
    "    raw_metabolites = pd.read_csv('./data/training/metabolites_dataset.data_prep.tsv', delimiter='\\t')\n",
    "\n",
    "    return raw_metabolites.merge(\n",
    "        metabolite_data, \n",
    "        left_on='official_name', right_on='met_name'\n",
    "    )[['metabolite_id', 'official_name', 'kegg_id', 'pathway', 'method', 'Order']].drop_duplicates().set_index('metabolite_id')\n",
    "\n",
    "def gather_results(paths: List[str]):\n",
    "    metabolites_names = [path.rsplit('/', 1)[1].removesuffix('.csv').removeprefix('Strategy.METABOLITE_CENTRIC_') for path in paths]\n",
    "    df = pd.concat([\n",
    "        pd.read_csv(path).assign(metabolite_id=metabolite_name) \n",
    "        for path, metabolite_name in zip(paths, metabolites_names)\n",
    "    ])\n",
    "    return df\n",
    "\n",
    "def combine_metabolite_info(df):\n",
    "    metabolite_info = get_metabolite_info()\n",
    "    df = df.merge(metabolite_info, left_on='metabolite_id', right_index=True)\n",
    "    return df"
   ]
  },
  {
   "cell_type": "code",
   "execution_count": 4,
   "metadata": {},
   "outputs": [],
   "source": [
    "metabolite_info = get_metabolite_info()"
   ]
  },
  {
   "cell_type": "code",
   "execution_count": null,
   "metadata": {},
   "outputs": [],
   "source": [
    "class ResultFetcher:\n",
    "    def __init__(self, root_dir: str, metabolite_info: pd.DataFrame) -> None:\n",
    "        self.root_dir = root_dir\n",
    "        self.metabolite_info = metabolite_info\n",
    "    \n",
    "    def get_test_df_all(self, experiment_id: int):\n",
    "        df = self.get_frame(experiment_id, Strategy.ALL)\n",
    "        df = df.assign(strategy='all')\n",
    "        return df\n",
    "    \n",
    "    def get_test_df_metabolite(self, experiment_id: int):\n",
    "        df = self.get_frame(experiment_id, Strategy.METABOLITE_CENTRIC)\n",
    "        df = df.assign(strategy='metabolite')\n",
    "        return df\n",
    "    \n",
    "    def get_test_df_one_vs_all(self, experiment_id: int):\n",
    "        df = self.get_frame(experiment_id, Strategy.ONE_VS_ALL)\n",
    "        df = df.assign(strategy='one_vs_all')\n",
    "        return df\n",
    "        \n",
    "    def get_frame(self, experiment_id: int, strategy: Strategy):\n",
    "        path = f\"{self.root_dir}_experiment_{experiment_id}/{strategy}.csv\"\n",
    "        if self.file_exists(path):\n",
    "            test_df_all = pd.read_csv(path, index_col=0)\n",
    "            test_df_all = test_df_all.stack().to_frame().reset_index(1).set_axis(['metabolite_arch', 'r2'], axis=1)\n",
    "            test_df_all[['metabolite_id', 'architecture']] = test_df_all['metabolite_arch'].str.split(\"_\", expand=True)\n",
    "            test_df_all = test_df_all.drop('metabolite_arch', axis=1).merge(metabolite_info, left_on='metabolite_id', right_index=True)\n",
    "            return test_df_all\n",
    "    \n",
    "    def file_exists(self, path: str):\n",
    "        return os.path.exists(path)"
   ]
  },
  {
   "cell_type": "code",
   "execution_count": null,
   "metadata": {},
   "outputs": [],
   "source": [
    "dir = \"/home/tvangraft/tudelft/thesis/metaengineering/data/results/experiment_0\"\n",
    "\n",
    "test_df_all, test_df_metabolite = None, None\n",
    "if os.path.exists(f'{dir}/best_model_performance_Strategy.ALL.csv'):\n",
    "    test_df_all = pd.read_csv(\n",
    "        f'{dir}/best_model_performance_Strategy.ALL.csv',\n",
    "        index_col=0\n",
    "    )\n",
    "    test_df_all = test_df_all.stack().to_frame().reset_index(1).set_axis(['metabolite_arch', 'r2'], axis=1)\n",
    "    test_df_all[['metabolite_id', 'architecture']] = test_df_all['metabolite_arch'].str.split(\"_\", expand=True)\n",
    "    test_df_all = test_df_all.drop('metabolite_arch', axis=1).merge(metabolite_info, left_on='metabolite_id', right_index=True).assign(strategy='all')\n",
    "\n",
    "if os.path.exists(f'{dir}/best_model_performance_Strategy.METABOLITE_CENTRIC.csv'):\n",
    "    test_df_metabolite = pd.read_csv(\n",
    "        f'{dir}/best_model_performance_Strategy.METABOLITE_CENTRIC.csv',\n",
    "        index_col=0\n",
    "    )\n",
    "    test_df_metabolite = test_df_metabolite.stack().to_frame().reset_index(1).set_axis(['metabolite_arch', 'r2'], axis=1)\n",
    "    test_df_metabolite[['metabolite_id', 'architecture']] = test_df_metabolite['metabolite_arch'].str.split(\"_\", expand=True)\n",
    "    test_df_metabolite = test_df_metabolite.drop('metabolite_arch', axis=1).merge(metabolite_info, left_on='metabolite_id', right_index=True).assign(strategy='metabolite')\n",
    "\n",
    "if os.path.exists(f'{dir}/best_model_performance_Strategy.ONE_VS_ALL.csv'):\n",
    "    test_df_one_vs_all = pd.read_csv(\n",
    "        f'{dir}/best_model_performance_Strategy.ONE_VS_ALL.csv',\n",
    "        index_col=0\n",
    "    )\n",
    "    test_df_one_vs_all = test_df_one_vs_all.stack().to_frame().reset_index(1).set_axis(['metabolite_arch', 'r2'], axis=1)\n",
    "    test_df_one_vs_all[['metabolite_id', 'architecture']] = test_df_one_vs_all['metabolite_arch'].str.split(\"_\", expand=True)\n",
    "    test_df_one_vs_all = test_df_one_vs_all.drop('metabolite_arch', axis=1).merge(metabolite_info, left_on='metabolite_id', right_index=True).assign(strategy='one_vs_all')\n",
    "    # test_df_metabolite = test_df_metabolite.merge(metabolite_info, left_on='metabolite_id', right_index=True).assign(strategy='metabolite')\n",
    "\n",
    "test_df = pd.concat([test_df_all, test_df_metabolite, test_df_one_vs_all], axis=0)\n",
    "test_df = test_df[test_df['architecture'] == 'all']\n",
    "test_figures = TestFigures(test_df)"
   ]
  }
 ],
 "metadata": {
  "kernelspec": {
   "display_name": "Python 3.9.12 ('.env': venv)",
   "language": "python",
   "name": "python3"
  },
  "language_info": {
   "codemirror_mode": {
    "name": "ipython",
    "version": 3
   },
   "file_extension": ".py",
   "mimetype": "text/x-python",
   "name": "python",
   "nbconvert_exporter": "python",
   "pygments_lexer": "ipython3",
   "version": "3.9.12"
  },
  "orig_nbformat": 4,
  "vscode": {
   "interpreter": {
    "hash": "a542b6343c6490b05f36876d198b1a03a25da0ffb80d837b6b25e87db0e241d9"
   }
  }
 },
 "nbformat": 4,
 "nbformat_minor": 2
}
