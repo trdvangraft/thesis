{
 "cells": [
  {
   "cell_type": "markdown",
   "metadata": {},
   "source": [
    "# Imports"
   ]
  },
  {
   "cell_type": "code",
   "execution_count": 2,
   "metadata": {},
   "outputs": [],
   "source": [
    "import os\n",
    "import glob\n",
    "\n",
    "import pandas as pd\n",
    "import numpy as np\n",
    "\n",
    "import matplotlib.pyplot as plt\n",
    "import seaborn as sns"
   ]
  },
  {
   "cell_type": "markdown",
   "metadata": {},
   "source": [
    "# Experiments"
   ]
  },
  {
   "cell_type": "markdown",
   "metadata": {},
   "source": [
    "## Experiments simple baseline"
   ]
  },
  {
   "cell_type": "code",
   "execution_count": 14,
   "metadata": {},
   "outputs": [],
   "source": [
    "dir = \"/home/tvangraft/tudelft/thesis/metaengineering/data/results/experiment_simple_baseline\"\n",
    "paths = glob.glob(dir + \"/*.csv\")"
   ]
  },
  {
   "cell_type": "code",
   "execution_count": null,
   "metadata": {},
   "outputs": [],
   "source": [
    "# {\n",
    "#     'regressor__regressor': [GammaRegressor()],\n",
    "#     'regressor__regressor__alpha': [0, 1, 10],\n",
    "#     'transformer': [MinMaxScaler()],\n",
    "# }, {\n",
    "#     'regressor__regressor': [DecisionTreeRegressor()],\n",
    "#     'regressor__regressor__criterion': ['squared_error', 'friedman_mse'],\n",
    "#     'regressor__regressor__max_depth': [None, 5, 10, 20, 15]\n",
    "# }, {\n",
    "#     'regressor__regressor': [SVR()],\n",
    "#     'regressor__regressor__kernel': ['linear', 'poly', 'rbf', 'sigmoid']\n",
    "# }, {\n",
    "#     'regressor__regressor': [ElasticNet()],\n",
    "#     'regressor__regressor__l1_ratio': [0, 0.25, 0.5, 0.75, 1],\n",
    "# }"
   ]
  },
  {
   "cell_type": "code",
   "execution_count": 30,
   "metadata": {},
   "outputs": [],
   "source": [
    "metabolites_names = [path.rsplit('/', 1)[1].removesuffix('.csv').removeprefix('Strategy.METABOLITE_CENTRIC_') for path in paths]\n",
    "df = pd.concat([\n",
    "    pd.read_csv(path).assign(metabolite_id=metabolite_name) \n",
    "    for path, metabolite_name in zip(paths, metabolites_names)\n",
    "])\n",
    "\n"
   ]
  },
  {
   "cell_type": "code",
   "execution_count": null,
   "metadata": {},
   "outputs": [],
   "source": [
    "sns.barplot(\n",
    "    \n",
    ")"
   ]
  }
 ],
 "metadata": {
  "kernelspec": {
   "display_name": "Python 3.9.12 ('.env': venv)",
   "language": "python",
   "name": "python3"
  },
  "language_info": {
   "codemirror_mode": {
    "name": "ipython",
    "version": 3
   },
   "file_extension": ".py",
   "mimetype": "text/x-python",
   "name": "python",
   "nbconvert_exporter": "python",
   "pygments_lexer": "ipython3",
   "version": "3.9.12"
  },
  "orig_nbformat": 4,
  "vscode": {
   "interpreter": {
    "hash": "a542b6343c6490b05f36876d198b1a03a25da0ffb80d837b6b25e87db0e241d9"
   }
  }
 },
 "nbformat": 4,
 "nbformat_minor": 2
}
